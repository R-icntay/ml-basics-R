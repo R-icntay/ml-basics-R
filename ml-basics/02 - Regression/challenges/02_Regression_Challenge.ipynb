{
    "cells": [
        {
            "cell_type": "markdown",
            "metadata": {},
            "source": [
                "## **Regression Challenge**\n",
                "\n",
                "Predicting the selling price of a residential property depends on a number of factors, including the property age, availability of local amenities, and location.\n",
                "\n",
                "In this challenge, you will use a dataset of real estate sales transactions to predict the price-per-unit of a property based on its features. The price-per-unit in this data is based on a unit measurement of 3.3 square meters.\n",
                "\n",
                "> **Citation**: The data used in this exercise originates from the following study:\n",
                ">\n",
                "> *Yeh, I. C., & Hsu, T. K. (2018). Building real estate valuation models with comparative approach through case-based reasoning. Applied Soft Computing, 65, 260-271.*\n",
                ">\n",
                "> It was obtained from the UCI dataset repository (Dua, D. and Graff, C. (2019). [UCI Machine Learning Repository](http://archive.ics.uci.edu/ml). Irvine, CA: University of California, School of Information and Computer Science).\n",
                "\n",
                "## **Review the data**\n",
                "\n",
                "Let's hit the ground running by importing the data and viewing the first few rows.\n"
            ]
        },
        {
            "cell_type": "code",
            "execution_count": null,
            "metadata": {},
            "outputs": [],
            "source": [
                "# Load the core tidyverse and tidymodels in your current R session\n",
                "suppressPackageStartupMessages({\n",
                "  library(tidyverse)\n",
                "  library(tidymodels)\n",
                "})\n",
                "\n",
                "# Read the csv file into a tibble\n",
                "data <- read_csv(file = \"https://raw.githubusercontent.com/MicrosoftDocs/ml-basics/master/challenges/data/real_estate.csv\", show_col_types = FALSE)\n",
                "\n",
                "# Print the first 10 rows of the data\n",
                "data %>% \n",
                "  slice_head(n = 10)\n"
            ]
        },
        {
            "cell_type": "markdown",
            "metadata": {},
            "source": [
                "The data consists of the following variables:\n",
                "\n",
                "-   **transaction_date** - the transaction date (for example, 2013.250=2013 March, 2013.500=2013 June, etc.)\n",
                "\n",
                "-   **house_age** - the house age (in years)\n",
                "\n",
                "-   **transit_distance** - the distance to the nearest light rail station (in meters)\n",
                "\n",
                "-   **local_convenience_stores** - the number of convenience stores within walking distance\n",
                "\n",
                "-   **latitude** - the geographic coordinate, latitude\n",
                "\n",
                "-   **longitude** - the geographic coordinate, longitude\n",
                "\n",
                "-   **price_per_unit** house price of unit area (3.3 square meters)\n",
                "\n",
                "## **Train a Regression Model**\n",
                "\n",
                "Your challenge is to explore and prepare the data, identify predictive features that will help predict the **price_per_unit** label, and train a regression model that achieves the lowest Root Mean Square Error (RMSE) you can achieve (which must be less than **7**) when evaluated against a test subset of data.\n",
                "\n",
                "Add markdown and code cells as required to create your solution.\n",
                "\n",
                "> **Note**: There is no single \"correct\" solution. A sample solution is provided in [02 - Real Estate Regression Solution.ipynb](https://render.githubusercontent.com/view/02%20-%20Real%20Estate%20Regression%20Solution.ipynb).\n",
                "\n",
                "Add markdown and code cells as required to to explore the data, train a model, and evaluate the model's predictive performance.\n"
            ]
        },
        {
            "cell_type": "code",
            "execution_count": null,
            "metadata": {},
            "outputs": [],
            "source": [
                "# Your adventure to evaluate data, and train and evaluate a regression model begins here\n",
                "\n"
            ]
        },
        {
            "cell_type": "markdown",
            "metadata": {},
            "source": [
                "## **Use the Trained Model**\n",
                "\n",
                "Save your trained model, and then use it to predict the price-per-unit for the following real estate transactions:\n",
                "\n",
                "| **transaction_date** | **house_age** | **transit_distance** | **local_convenience_stores** | **latitude** | **longitude** |\n",
                "|:---------------------|:--------------|:---------------------|:-----------------------------|:-------------|:--------------|\n",
                "| 2013.167             | 16.2          | 289.3248             | 5                            | 24.98203     | 121.54348     |\n",
                "| 2013.000             | 13.6          | 4082.015             | 0                            | 24.94155     | 121.50381     |\n"
            ]
        },
        {
            "cell_type": "code",
            "execution_count": null,
            "metadata": {},
            "outputs": [],
            "source": [
                "# Your code to use the trained model\n",
                "\n"
            ]
        }
    ],
    "metadata": {
        "anaconda-cloud": "",
        "kernelspec": {
            "display_name": "R",
            "langauge": "R",
            "name": "ir"
        },
        "language_info": {
            "codemirror_mode": "r",
            "file_extension": ".r",
            "mimetype": "text/x-r-source",
            "name": "R",
            "pygments_lexer": "r",
            "version": "3.4.1"
        }
    },
    "nbformat": 4,
    "nbformat_minor": 1
}
