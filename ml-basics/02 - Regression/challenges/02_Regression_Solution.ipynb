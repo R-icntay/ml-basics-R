{
    "cells": [
        {
            "cell_type": "markdown",
            "metadata": {},
            "source": [
                "## Regression Challenge\n",
                "\n",
                "Predicting the selling price of a residential property depends on a number of factors, including the property age, availability of local amenities, and location.\n",
                "\n",
                "In this challenge, you will use a dataset of real estate sales transactions to predict the price-per-unit of a property based on its features. The price-per-unit in this data is based on a unit measurement of 3.3 square meters.\n",
                "\n",
                "> **Citation**: The data used in this exercise originates from the following study:\n",
                ">\n",
                "> *Yeh, I. C., & Hsu, T. K. (2018). Building real estate valuation models with comparative approach through case-based reasoning. Applied Soft Computing, 65, 260-271.*\n",
                ">\n",
                "> It was obtained from the UCI dataset repository (Dua, D. and Graff, C. (2019). [UCI Machine Learning Repository](http://archive.ics.uci.edu/ml). Irvine, CA: University of California, School of Information and Computer Science).\n",
                "\n",
                "## Review the data\n",
                "\n",
                "Let's hit the ground running by importing the data and viewing the first few rows.\n"
            ]
        },
        {
            "cell_type": "code",
            "execution_count": null,
            "metadata": {},
            "outputs": [],
            "source": [
                "# Load the core tidyverse and tidymodels in your current R session\n",
                "suppressPackageStartupMessages({\n",
                " library(tidyverse)\n",
                " library(tidymodels)\n",
                "})\n",
                "\n",
                "# Read the csv file into a tibble\n",
                "estate_data <- read_csv(file = \"https://raw.githubusercontent.com/MicrosoftDocs/ml-basics/master/challenges/data/real_estate.csv\", show_col_types = FALSE)\n",
                "\n",
                "# Print the first 10 rows of the data\n",
                "estate_data %>% \n",
                " slice_head(n = 10)\n"
            ]
        },
        {
            "cell_type": "markdown",
            "metadata": {},
            "source": [
                "The data consists of the following variables:\n",
                "\n",
                "-   **transaction_date** - the transaction date (for example, 2013.250=2013 March, 2013.500=2013 June, etc.)\n",
                "\n",
                "-   **house_age** - the house age (in years)\n",
                "\n",
                "-   **transit_distance** - the distance to the nearest light rail station (in meters)\n",
                "\n",
                "-   **local_convenience_stores** - the number of convenience stores within walking distance\n",
                "\n",
                "-   **latitude** - the geographic coordinate, latitude\n",
                "\n",
                "-   **longitude** - the geographic coordinate, longitude\n",
                "\n",
                "-   **price_per_unit** house price of unit area (3.3 square meters)\n",
                "\n",
                "## **Train a Regression Model**\n",
                "\n",
                "Your challenge is to explore and prepare the data, identify predictive features that will help predict the **price_per_unit** label, and train a regression model that achieves the lowest Root Mean Square Error (RMSE) you can achieve (which must be less than **7**) when evaluated against a test subset of data.\n",
                "\n",
                "Add markdown and code cells as required to create your solution.\n",
                "\n",
                "> **Note**: There is no single \"correct\" solution. A sample solution is provided in [02 - Real Estate Regression Solution.ipynb](https://render.githubusercontent.com/view/02%20-%20Real%20Estate%20Regression%20Solution.ipynb).\n",
                "\n",
                "### View the label distribution\n",
                "\n",
                "Let's start our analysis of the data by examining a few key descriptive statistics. We can use the `summarytools::descr()` function to neatly and quickly summarize the numeric features as well as the **rentals** label column.\n"
            ]
        },
        {
            "cell_type": "code",
            "execution_count": null,
            "metadata": {},
            "outputs": [],
            "source": [
                "# Load summary tools library\n",
                "library(summarytools)\n",
                "\n",
                "# Obtain summary stats for feature and label columns\n",
                "estate_data %>% \n",
                "  # Summary stats\n",
                "  descr(order = \"preserve\",\n",
                "        stats = c('mean', 'sd', 'min', 'q1', 'med', 'q3', 'max'),\n",
                "        round.digits = 6)\n"
            ]
        },
        {
            "cell_type": "markdown",
            "metadata": {},
            "source": [
                "The statistics reveal some information about the distribution of the data in each of the numeric fields, including the number of observations (there are 414 records), the mean, standard deviation, minimum and maximum values, and the quartile values (the threshold values for 25%, 50% - which is also the median, and 75% of the data).\n",
                "\n",
                "From this, we can see that the mean number of price per unit is around 38. There's a comparatively `small standard deviation`, indicating `not much variance` in the prices per unit.\n",
                "\n",
                "We might get a clearer idea of the distribution of price values by visualizing the data.\n"
            ]
        },
        {
            "cell_type": "code",
            "execution_count": null,
            "metadata": {},
            "outputs": [],
            "source": [
                "library(patchwork)\n",
                "\n",
                "# Plot a histogram\n",
                "theme_set(theme_light())\n",
                "hist_plt <- estate_data %>% \n",
                "  ggplot(mapping = aes(x = price_per_unit)) + \n",
                "  geom_histogram(bins = 100, fill = \"midnightblue\", alpha = 0.7) +\n",
                "  \n",
                "  # Add lines for mean and median\n",
                "  geom_vline(aes(xintercept = mean(price_per_unit), color = 'Mean'), linetype = \"dashed\", size = 1.3) +\n",
                "  geom_vline(aes(xintercept = median(price_per_unit), color = 'Median'), linetype = \"dashed\", size = 1.3 ) +\n",
                "  xlab(\"\") +\n",
                "  ylab(\"Frequency\") +\n",
                "  scale_color_manual(name = \"\", values = c(Mean = \"red\", Median = \"yellow\")) +\n",
                "  theme(legend.position = c(0.9, 0.9), legend.background = element_blank())\n",
                "\n",
                "# Plot a box plot\n",
                "box_plt <- estate_data %>% \n",
                "  ggplot(aes(x = price_per_unit, y = 1)) +\n",
                "  geom_boxplot(fill = \"#E69F00\", color = \"gray23\", alpha = 0.7) +\n",
                "    # Add titles and labels\n",
                "  xlab(\"Price_per_unit\")+\n",
                "  ylab(\"\")\n",
                "\n",
                "\n",
                "# Combine plots using patchwork syntax\n",
                "(hist_plt / box_plt) +\n",
                "  plot_annotation(title = 'Price Distribution',\n",
                "                  theme = theme(\n",
                "                    plot.title = element_text(hjust = 0.5)))\n",
                "  \n"
            ]
        },
        {
            "cell_type": "markdown",
            "metadata": {},
            "source": [
                "### Remove outliers\n",
                "\n"
            ]
        },
        {
            "cell_type": "code",
            "execution_count": null,
            "metadata": {},
            "outputs": [],
            "source": [
                "# Narrow down to observations whose price_per_unit is less than 70\n",
                "estate_data <- estate_data %>% \n",
                "  filter(price_per_unit < 70) \n",
                "\n",
                "# Plot a histogram\n",
                "theme_set(theme_light())\n",
                "hist_plt <- estate_data %>% \n",
                "  ggplot(mapping = aes(x = price_per_unit)) + \n",
                "  geom_histogram(bins = 100, fill = \"midnightblue\", alpha = 0.7) +\n",
                "  \n",
                "  # Add lines for mean and median\n",
                "  geom_vline(aes(xintercept = mean(price_per_unit), color = 'Mean'), linetype = \"dashed\", size = 1.3) +\n",
                "  geom_vline(aes(xintercept = median(price_per_unit), color = 'Median'), linetype = \"dashed\", size = 1.3 ) +\n",
                "  xlab(\"\") +\n",
                "  ylab(\"Frequency\") +\n",
                "  scale_color_manual(name = \"\", values = c(Mean = \"red\", Median = \"yellow\")) +\n",
                "  theme(legend.position = c(0.9, 0.9), legend.background = element_blank())\n",
                "\n",
                "# Plot a box plot\n",
                "box_plt <- estate_data %>% \n",
                "  ggplot(aes(x = price_per_unit, y = 1)) +\n",
                "  geom_boxplot(fill = \"#E69F00\", color = \"gray23\", alpha = 0.7) +\n",
                "    # Add titles and labels\n",
                "  xlab(\"Price_per_unit\")+\n",
                "  ylab(\"\")\n",
                "\n",
                "\n",
                "# Combine plots using patchwork syntax\n",
                "(hist_plt / box_plt) +\n",
                "  plot_annotation(title = 'Price Distribution',\n",
                "                  theme = theme(\n",
                "                    plot.title = element_text(hjust = 0.5)))\n"
            ]
        },
        {
            "cell_type": "markdown",
            "metadata": {},
            "source": [
                "What can you say about the distribution of the price?\n",
                "\n",
                "### View numeric correlations\n",
                "\n",
                "We can start to look for relationships between the *features* and the *label* we want to be able to predict.\n",
                "\n",
                "For the numeric features, we can create scatter plots that show the intersection of feature and label values.\n"
            ]
        },
        {
            "cell_type": "code",
            "execution_count": null,
            "metadata": {},
            "outputs": [],
            "source": [
                "# Pivot numeric features to a long format\n",
                "numeric_features_long <- estate_data %>% \n",
                "  pivot_longer(!price_per_unit, names_to = \"features\", values_to = \"values\") %>%\n",
                "  group_by(features) %>% \n",
                "  mutate(corr_coef = cor(values, price_per_unit),\n",
                "         features = paste(features, ' vs price, r = ', round(corr_coef, 2), sep = ''))\n",
                "\n",
                "\n",
                "# Plot a scatter plot for each feature\n",
                "numeric_features_long %>% \n",
                "  ggplot(aes(x = values, y = price_per_unit, color = features)) +\n",
                "  geom_point(alpha = 0.7, show.legend = F) +\n",
                "  facet_wrap(~ features, scales = 'free') +\n",
                "  paletteer::scale_color_paletteer_d(\"ggthemes::excel_Parallax\") \n"
            ]
        },
        {
            "cell_type": "markdown",
            "metadata": {},
            "source": [
                "The *correlation* statistic, *r*, quantifies the apparent relationship. The correlation statistic is a value between -1 and 1 that indicates the strength of a linear relationship.\n",
                "\n",
                "How does the correlation between these features and the price vary?\n",
                "\n",
                "### View categorical features\n",
                "\n",
                "Now let's compare the categorical features to the label. We'll do this by creating box plots that show the distribution of rental counts for each category.\n",
                "\n",
                "**transaction_date** and **local_convenience_stores** seem to be discrete values -so might work better if treated as categorical features.\n"
            ]
        },
        {
            "cell_type": "code",
            "execution_count": null,
            "metadata": {},
            "outputs": [],
            "source": [
                "# Pivot categorical features to a long format\n",
                "cat_features_long <- estate_data %>% \n",
                "  select(transaction_date, local_convenience_stores, price_per_unit) %>% \n",
                "  # Encode features from numeric to categorical\n",
                "  mutate(across(c(transaction_date, local_convenience_stores), factor)) %>% \n",
                "  pivot_longer(!price_per_unit, names_to = \"features\", values_to = \"values\")\n",
                "  \n",
                "# Plot a box plot for each feature\n",
                "cat_features_long %>%\n",
                "  ggplot() +\n",
                "  geom_boxplot(aes(x = values, y = price_per_unit, fill = features), alpha = 0.7, show.legend = F) +\n",
                "  facet_wrap(~ features, scales = 'free') +\n",
                "  scale_fill_viridis_d() +\n",
                "  theme(panel.grid = element_blank(),\n",
                "        axis.text.x = element_text(angle = 90))\n"
            ]
        },
        {
            "cell_type": "markdown",
            "metadata": {},
            "source": [
                "How does the price vary with these features?\n",
                "\n",
                "## Split the data into training and test sets.\n",
                "\n",
                "Now that we've explored the data, it's time to use it to train a regression model that uses the features we've identified as `potentially predictive` to predict the **rentals** label.\n",
                "\n",
                "**transaction_date** doesn't seem to be very predictive, so we'll omit it\n",
                "\n",
                "To randomly split the data, we'll use `rsample::initial_split()` . rsample is one of the many packages in the tidymodels.\n"
            ]
        },
        {
            "cell_type": "code",
            "execution_count": null,
            "metadata": {},
            "outputs": [],
            "source": [
                "# Load the tidymodels package\n",
                "library(tidymodels)\n",
                "\n",
                "# Split 70% of the data for training and the rest for tesing\n",
                "set.seed(2056)\n",
                "estate_split <- estate_data %>% \n",
                "  initial_split(prop = 0.7)\n",
                "\n",
                "# Extract the data in each split\n",
                "estate_train <- training(estate_split)\n",
                "estate_test <- testing(estate_split)\n",
                "\n",
                "# Print the number of observations in each split\n",
                "cat(\"Training Set\", nrow(estate_train), \"rows\",\n",
                "    \"\\nTest Set\", nrow(estate_test), \"rows\")\n"
            ]
        },
        {
            "cell_type": "markdown",
            "metadata": {},
            "source": [
                "## Train a regression model\n",
                "\n",
                "### Preprocess data using recipes\n",
                "\n",
                "A recipe is an object that defines a series of steps for data processing. Let's specify a recipe that will:\n",
                "\n",
                "-   Remove the `transaction_date` feature\n",
                "\n",
                "-   Transform `local_convenience_stores` feature into categorical (factor)\n",
                "\n",
                "-   Center and scale all numeric predictors\n"
            ]
        },
        {
            "cell_type": "code",
            "execution_count": null,
            "metadata": {},
            "outputs": [],
            "source": [
                "# Create a preprocessing recipe\n",
                "estate_recipe <- recipe(price_per_unit ~ ., data = estate_train) %>%\n",
                "  # Specify the removal of a variable\n",
                "  step_rm(transaction_date) %>% \n",
                "  # Specify the encoding of local_convenience_stores as categorical\n",
                "  step_mutate(\n",
                "    local_convenience_stores = factor(local_convenience_stores)) %>%\n",
                "  # Specify the normalization of numeric features\n",
                "  step_normalize(all_numeric_predictors())\n",
                "  \n"
            ]
        },
        {
            "cell_type": "markdown",
            "metadata": {},
            "source": [
                "### Create a modeling workflow\n",
                "\n",
                "The **workflows** package allows the user to bind modeling and preprocessing objects together. You can then fit the entire workflow to the data, so that the model encapsulates all of the preprocessing steps as well as the algorithm.\n",
                "\n",
                "In this solution, we'll try out a random forest model which applies an averaging function to multiple decision tree models for a better overall model. To do this, we'll start by capturing modeling information in a model specification.\n"
            ]
        },
        {
            "cell_type": "code",
            "execution_count": null,
            "metadata": {},
            "outputs": [],
            "source": [
                "# For reproducibility\n",
                "set.seed(2056)\n",
                "\n",
                "# Build a random forest model specification\n",
                "rf_spec <- rand_forest() %>% \n",
                "  set_engine('randomForest') %>% \n",
                "  set_mode('regression')\n",
                "\n",
                "# Create a workflow that aggregates a recipe and model specification\n",
                "rf_workflow <- workflow() %>% \n",
                "  add_recipe(estate_recipe) %>% \n",
                "  add_model(rf_spec)\n",
                "\n",
                "# Train a random forest model\n",
                "rf_mod <- rf_workflow %>% \n",
                "  fit(data = estate_train)\n",
                "\n",
                "# Print out the fitted workflow\n",
                "rf_mod\n"
            ]
        },
        {
            "cell_type": "markdown",
            "metadata": {},
            "source": [
                "So now we have a random forest model; but is it any good🤷? Let's evaluate it with the test data.\n",
                "\n"
            ]
        },
        {
            "cell_type": "code",
            "execution_count": null,
            "metadata": {},
            "outputs": [],
            "source": [
                "# Make and bind predictions to test data \n",
                "results <- rf_mod %>% \n",
                "  augment(new_data = estate_test) %>% \n",
                "  rename(predictions = .pred)\n",
                "\n",
                "# Create a metric set\n",
                "eval_metrics <- metric_set(rmse, rsq)\n",
                "\n",
                "\n",
                "# Evaluate the model\n",
                "rf_metrics <- eval_metrics(data = results,\n",
                "                                  truth = price_per_unit,\n",
                "                                  estimate = predictions)\n",
                "\n",
                "\n",
                "# Plot predicted vs actual\n",
                "rf_plt <- results %>% \n",
                "  ggplot(mapping = aes(x = price_per_unit, y = predictions)) +\n",
                "  geom_point(color = 'darkorchid', size = 1.6) +\n",
                "  # overlay regression line\n",
                "  geom_smooth(method = 'lm', color = 'black', se = F) +\n",
                "  ggtitle(\"Price per unit predictions\") +\n",
                "  xlab(\"Actual Labels\") +\n",
                "  ylab(\"Predicted Labels\") +\n",
                "  theme(plot.title = element_text(hjust = 0.5))\n",
                "\n",
                "# Return evaluations\n",
                "list(metrics = rf_metrics, evaluation_plot = rf_plt)\n"
            ]
        },
        {
            "cell_type": "markdown",
            "metadata": {},
            "source": [
                "## Use the Trained Model\n",
                "\n",
                "Save your trained model, and then use it to predict the price-per-unit for the following real estate transactions:\n",
                "\n",
                "| **transaction_date** | **house_age** | **transit_distance** | **local_convenience_stores** | **latitude** | **longitude** |\n",
                "|---------------------|----------------|--------------|--------|-------|------|\n",
                "| 2013.167             | 16.2          | 289.3248             | 5                            | 24.98203     | 121.54348     |\n",
                "| 2013.000             | 13.6          | 4082.015             | 0                            | 24.94155     | 121.50381     |\n"
            ]
        },
        {
            "cell_type": "code",
            "execution_count": null,
            "metadata": {},
            "outputs": [],
            "source": [
                "library(here)\n",
                "# Save trained workflow\n",
                "saveRDS(rf_mod, \"rf_price_model.rds\")\n"
            ]
        },
        {
            "cell_type": "markdown",
            "metadata": {},
            "source": [
                "Now, we can load it whenever we need it, and use it to predict labels for new data. This is often called *`scoring`* or *`inferencing`*.\n",
                "\n"
            ]
        },
        {
            "cell_type": "code",
            "execution_count": null,
            "metadata": {},
            "outputs": [],
            "source": [
                "# Create a tibble for the new real estate samples\n",
                "new_data <- tibble(\n",
                "  transaction_date = c(2013.167, 2013.000),\n",
                "  house_age = c(16.2, 13.6),\n",
                "  transit_distance = c(289.3248, 4082.015),\n",
                "  local_convenience_stores = c(5, 0),\n",
                "  latitude = c(24.98203, 24.94155),\n",
                "  longitude = c(121.54348, 121.50381))\n",
                "\n",
                "# Print out new data\n",
                "new_data\n"
            ]
        },
        {
            "cell_type": "markdown",
            "metadata": {},
            "source": [
                "Now that we have our data, let's load the saved model and make predictions.\n",
                "\n"
            ]
        },
        {
            "cell_type": "code",
            "execution_count": null,
            "metadata": {},
            "outputs": [],
            "source": [
                "# Load the model into the current R session\n",
                "loaded_model <- readRDS(\"rf_price_model.rds\")\n",
                "\n",
                "# Make predictions\n",
                "predictions <- loaded_model %>% \n",
                "  augment(new_data = new_data)\n",
                "\n",
                "predictions\n"
            ]
        },
        {
            "cell_type": "markdown",
            "metadata": {},
            "source": [
                "That's it for now. Feeling adventurous? Then, be sure to try out other regression models and tune some hyperparameters while at it.\n",
                "\n",
                "Happy Learning,\n",
                "\n",
                "[Eric](https://twitter.com/ericntay), Gold Microsoft Learn Student Ambassador.\n"
            ]
        },
        {
            "cell_type": "code",
            "execution_count": null,
            "metadata": {},
            "outputs": [],
            "source": [
                "library(here)\n",
                "library(rmd2jupyter)\n",
                "rmd2jupyter(\"02_Regression_Solution.Rmd\")\n"
            ]
        }
    ],
    "metadata": {
        "anaconda-cloud": "",
        "kernelspec": {
            "display_name": "R",
            "langauge": "R",
            "name": "ir"
        },
        "language_info": {
            "codemirror_mode": "r",
            "file_extension": ".r",
            "mimetype": "text/x-r-source",
            "name": "R",
            "pygments_lexer": "r",
            "version": "3.4.1"
        }
    },
    "nbformat": 4,
    "nbformat_minor": 1
}
