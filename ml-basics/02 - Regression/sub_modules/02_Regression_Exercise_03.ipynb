{
    "cells": [
        {
            "cell_type": "code",
            "execution_count": null,
            "metadata": {},
            "outputs": [],
            "source": [
                "# Setup chunk to install and load required packages\n",
                "knitr::opts_chunk$set(warning = FALSE, message = FALSE)\n",
                "suppressWarnings(if(!require(\"pacman\")) install.packages(\"pacman\"))\n",
                "\n",
                "pacman::p_load('tidyverse', 'tidymodels', 'glmnet',\n",
                "               'randomForest', 'xgboost','patchwork',\n",
                "               'paletteer', 'here', 'doParallel', 'summarytools')\n"
            ]
        },
        {
            "cell_type": "markdown",
            "metadata": {},
            "source": [
                "## **Regression - Optimize and save models**\n",
                "\n",
                "In the previous notebook, we used complex regression models to look at the relationship between features of a bike rentals dataset. In this notebook, we'll see if we can improve the performance of these models even further.\n",
                "\n",
                "Let's begin by loading the bicycle sharing data as a tibble and viewing the first few rows. We'll also split our data into training and test datasets.\n"
            ]
        },
        {
            "cell_type": "code",
            "execution_count": null,
            "metadata": {},
            "outputs": [],
            "source": [
                "# Load the required packages and make them available in your current R session\n",
                "suppressPackageStartupMessages({\n",
                "  library(tidyverse)\n",
                "  library(tidymodels)\n",
                "  library(lubridate)\n",
                "  library(paletteer)\n",
                "})\n",
                "\n",
                "# Import the data into the R session\n",
                "bike_data <- read_csv(file = \"https://raw.githubusercontent.com/MicrosoftDocs/ml-basics/master/data/daily-bike-share.csv\", show_col_types = FALSE)\n",
                "\n",
                "# Parse dates then extract days\n",
                "bike_data <- bike_data %>%\n",
                "  mutate(dteday = mdy(dteday)) %>% \n",
                "  mutate(day = day(dteday))\n",
                "\n",
                "# Select desired features and labels\n",
                "bike_select <- bike_data %>% \n",
                "  select(c(season, mnth, holiday, weekday, workingday, weathersit,\n",
                "           temp, atemp, hum, windspeed, rentals)) %>% \n",
                "  mutate(across(1:6, factor))\n",
                "\n",
                "# Split 70% of the data for training and the rest for tesing\n",
                "set.seed(2056)\n",
                "bike_split <- bike_select %>% \n",
                "  initial_split(prop = 0.7,\n",
                "  # splitting data evenly on the holiday variable\n",
                "                strata = holiday)\n",
                "\n",
                "# Extract the data in each split\n",
                "bike_train <- training(bike_split)\n",
                "bike_test <- testing(bike_split)\n",
                "\n",
                "# Specify multiple regression metrics\n",
                "eval_metrics <- metric_set(rmse, rsq)\n",
                "\n",
                "\n",
                "cat(\"Training Set\", nrow(bike_train), \"rows\",\n",
                "    \"\\nTest Set\", nrow(bike_test), \"rows\")\n"
            ]
        },
        {
            "cell_type": "markdown",
            "metadata": {},
            "source": [
                "This results into the following two datasets:\n",
                "\n",
                "-   *bike_train*: subset of the dataset used to train the model.\n",
                "\n",
                "-   *bike_test*: subset of the dataset used to validate the model.\n",
                "\n",
                "Now we're ready to train a model by fitting a *boosting* ensemble algorithm, as in our last notebook. Recall that a Gradient Boosting estimator, is like a Random Forest algorithm, but instead of building them all trees independently and taking the average result, each tree is built on the outputs of the previous one in an attempt to incrementally reduce the *loss* (error) in the model.\n"
            ]
        },
        {
            "cell_type": "code",
            "execution_count": null,
            "metadata": {},
            "outputs": [],
            "source": [
                "# For reproducibility\n",
                "set.seed(2056)\n",
                "\n",
                "# Build an xgboost model specification\n",
                "boost_spec <- boost_tree() %>% \n",
                "  set_engine('xgboost') %>% \n",
                "  set_mode('regression')\n",
                "\n",
                "# Train an xgboost model \n",
                "boost_mod <- boost_spec %>% \n",
                "  fit(rentals ~ ., data = bike_train)\n",
                "\n",
                "# Make and bind predictions to test data a\n",
                "results <- boost_mod %>% \n",
                "  augment(new_data = bike_test) %>% \n",
                "  rename(predictions = .pred)\n",
                "\n",
                "# Evaluate the model\n",
                "boost_metrics <- eval_metrics(data = results,\n",
                "                                  truth = rentals,\n",
                "                                  estimate = predictions) \n",
                "\n",
                "# Plot predicted vs actual\n",
                "boost_plt <- results %>% \n",
                "  ggplot(mapping = aes(x = rentals, y = predictions)) +\n",
                "  geom_point(color = '#4D3161FF') +\n",
                "  # overlay regression line\n",
                "  geom_smooth(method = 'lm', color = 'black', se = F) +\n",
                "  ggtitle(\"Daily Bike Share Predictions\") +\n",
                "  xlab(\"Actual Labels\") +\n",
                "  ylab(\"Predicted Labels\") +\n",
                "  theme(plot.title = element_text(hjust = 0.5))\n",
                "\n",
                "# Return evaluations\n",
                "list(boost_metrics, boost_plt)\n"
            ]
        },
        {
            "cell_type": "markdown",
            "metadata": {},
            "source": [
                "### Preprocess the Data using recipes\n",
                "\n",
                "We trained a model with data that was loaded straight from a source file, with only moderately successful results. In practice, it's common to perform some preprocessing of the data to make it easier for the algorithm to fit a model to it.\n",
                "\n",
                "In this section, we'll explore another tidymodels package, [recipes](https://tidymodels.github.io/recipes/), which is designed to help you preprocess your data *before* training your model. A recipe is an object that defines a series of steps for data processing.\n",
                "\n",
                "There's a huge range of preprocessing transformations you can perform to get your data ready for modeling, but we'll limit ourselves to a few common techniques:\n",
                "\n",
                "#### Scaling numeric features\n",
                "\n",
                "Normalizing numeric features so they're on the same scale prevents features with large values from producing coefficients that disproportionately affect the predictions. For example, suppose your data includes the following numeric features:\n",
                "\n",
                "|  A  |  B  |  C  |\n",
                "|:---:|:---:|:---:|\n",
                "|  3  | 480 | 65  |\n",
                "\n",
                "Normalizing these features to the same scale may result in the following values (assuming A contains values from 0 to 10, B contains values from 0 to 1000, and C contains values from 0 to 100):\n",
                "\n",
                "|  A  |  B   |  C   |\n",
                "|:---:|:----:|:----:|\n",
                "| 0.3 | 0.48 | 0.65 |\n",
                "\n",
                "There are multiple ways you can scale numeric data, such as calculating the minimum and maximum values for each column and assigning a proportional value between 0 and 1, or by using the mean and standard deviation of a normally distributed variable to maintain the same *spread* of values on a different scale.\n",
                "\n",
                "#### Encoding categorical variables\n",
                "\n",
                "This involves translating a column with categorical values into one or more numeric columns that take the place of the original.\n",
                "\n",
                "Machine learning models work best with numeric features rather than text values, so you generally need to convert categorical features into numeric representations. For example, suppose your data includes the following categorical feature.\n",
                "\n",
                "| Size |\n",
                "|:----:|\n",
                "|  S   |\n",
                "|  M   |\n",
                "|  L   |\n",
                "\n",
                "You can apply *ordinal encoding* to substitute a unique integer value for each category, like this:\n",
                "\n",
                "| Size |\n",
                "|:----:|\n",
                "|  0   |\n",
                "|  1   |\n",
                "|  2   |\n",
                "\n",
                "Another common technique is to create *`dummy`* or`indicator variables` which replace the original categorical feature with numeric columns whose values are either 1 or 0. This can be shown as:\n",
                "\n",
                "| Raw Data |  M  |  L  |\n",
                "|:--------:|:---:|:---:|\n",
                "|    S     |  0  |  0  |\n",
                "|    M     |  1  |  0  |\n",
                "|    L     |  0  |  1  |\n",
                "\n",
                "In R, the convention is to *exclude* a column for the first factor level (`S`, in this case). The reasons for this include `simplicity` and reducing `linear dependencies`. The full set of encodings can also be used for some models. This is traditionally called the \"one-hot\" encoding and can be achieved using the `one_hot` argument of `step_dummy()`.\n",
                "\n",
                "> Tree based models created using the xgboost engine typically require one to create dummy variables.\n",
                "\n",
                "Now, let's bike forth and create some recipes ​🔪​**🚴!**\n"
            ]
        },
        {
            "cell_type": "code",
            "execution_count": null,
            "metadata": {},
            "outputs": [],
            "source": [
                "# Specify a recipe\n",
                "bike_recipe <- recipe(rentals ~ ., data = bike_train) %>% \n",
                "  step_normalize(all_numeric_predictors()) %>% \n",
                "  step_dummy(all_nominal_predictors()) \n",
                "\n",
                "# Print out recipe\n",
                "bike_recipe\n",
                "\n",
                "\n",
                "# Summary of the recipe\n",
                "summary(bike_recipe)\n"
            ]
        },
        {
            "cell_type": "markdown",
            "metadata": {},
            "source": [
                "We just created our first recipe containing an outcome and its corresponding predictors, with the numeric predictors normalized and the nominal predictors converted to a quantitative format ! Let's quickly break it down:\n",
                "\n",
                "-   The call to `recipe()` with a formula tells the recipe the *roles* of the variables (e.g., predictor, outcome) using `bike_train` data as the reference. This can be seen from the results of `summary(bike_recipe)`\n",
                "\n",
                "-   `step_normalize(all_numeric_predictors())` specifies that all numeric predictors should be normalized.\n",
                "\n",
                "-   `step_dummy(all_nominal_predictors())` specifies that all predictors that are currently factor or charactor should be converted to a quantitative format (1s/0s).\n",
                "\n",
                "Great! Now that we have a recipe, the next step would be to create a model specification. In this case, let's recreate an `xgboost` model specification.\n"
            ]
        },
        {
            "cell_type": "code",
            "execution_count": null,
            "metadata": {},
            "outputs": [],
            "source": [
                "# xgboost specification\n",
                "boost_spec <- boost_tree() %>% \n",
                "  set_engine('xgboost') %>% \n",
                "  set_mode('regression')\n"
            ]
        },
        {
            "cell_type": "markdown",
            "metadata": {},
            "source": [
                "\"Wait!\", you'll say, \"How do we combine this model specification with the data preprocessing steps from our recipe? 🤔\"\n",
                "\n",
                "Well, welcome to modelling `workflows` 😊. This is what we'd call *pipelines* in *Python*.\n",
                "\n",
                "### Bundling it all together using a workflow\n",
                "\n",
                "The [**workflows**](https://workflows.tidymodels.org/) package allows the user to bind modeling and preprocessing objects together. You can then fit the entire workflow to the data, so that the model encapsulates all of the preprocessing steps as well as the algorithm.\n"
            ]
        },
        {
            "cell_type": "code",
            "execution_count": null,
            "metadata": {},
            "outputs": [],
            "source": [
                "# Create the workflow\n",
                "boost_workflow <- workflow() %>% \n",
                "  add_recipe(bike_recipe) %>% \n",
                "  add_model(boost_spec)\n",
                "\n",
                "# Print out workflow\n",
                "boost_workflow\n"
            ]
        },
        {
            "cell_type": "markdown",
            "metadata": {},
            "source": [
                "The `workflow` object provides quite an informative summary of the preprocessing steps that will be done by the recipe and also the model specification. Into the bargain, a **`workflow()`** can be fit in much the same way a model can.\n",
                "\n"
            ]
        },
        {
            "cell_type": "code",
            "execution_count": null,
            "metadata": {},
            "outputs": [],
            "source": [
                "# Train the model\n",
                "boost_workflow <- boost_workflow %>% \n",
                "  fit(data = bike_train)\n",
                "\n",
                "boost_workflow\n"
            ]
        },
        {
            "cell_type": "markdown",
            "metadata": {},
            "source": [
                "Now that we have our *fitted workflow*, how do we make some predictions? `predict()` can be used on a workflow in the same way as we used it on a model!\n",
                "\n",
                "Now, let's make some predictions on the first 6 observations of our test set.\n"
            ]
        },
        {
            "cell_type": "code",
            "execution_count": null,
            "metadata": {},
            "outputs": [],
            "source": [
                "boost_workflow %>% \n",
                "  predict(new_data = bike_test %>% dplyr::slice(1:6))\n"
            ]
        },
        {
            "cell_type": "markdown",
            "metadata": {},
            "source": [
                "How convenient workflows are!\n",
                "\n",
                "So probably you may be wondering why we haven't made predictions on the whole test set, evaluated performance and created some pretty graphs. We'll get right into that, but first, let's address a more pressing issue; a boosted tree's hyperparameters:\n"
            ]
        },
        {
            "cell_type": "code",
            "execution_count": null,
            "metadata": {},
            "outputs": [],
            "source": [
                "args(boost_tree)\n",
                "\n"
            ]
        },
        {
            "cell_type": "markdown",
            "metadata": {},
            "source": [
                "Those are a lot of model arguments: `mtry`, `trees`, `min_n`, `tree_depth`, `learn_rate`, `loss_reduction`, `sample_size`, `stop_iter` 🤯🤯!\n",
                "\n",
                "Now, this begs the question:\n",
                "\n",
                "how do we know what values we should use?🤔\n",
                "\n",
                "This brings us to `model tuning`.\n",
                "\n",
                "### Tune model hyperparameters\n",
                "\n",
                "Models have parameters with unknown values that must be estimated in order to use the model for predicting. These model parameters, correctly referred to as **hyperparameters** or **tuning parameters**, cannot be learned directly from a dataset during model training. Instead of learning these kinds of hyperparameters during model training, we can *estimate* the *best values* for these by training many models on a `simulated data set` and measuring how well all these models perform. This process is called **tuning**.\n",
                "\n",
                "We won't go into the details of each hyperparameter, but they work together to affect the way the algorithm trains a model. For instance in boosted trees,\n",
                "\n",
                "-   `min_n` forces the tree to discard any node that has a number of observations below your specified minimum.\n",
                "\n",
                "-   tuning the value of `mtry` controls the number of variables that will be used at each split of a decision tree.\n",
                "\n",
                "-   tuning `tree_depth`, on the other hand, helps by restricting our tree from growing after it reaches a certain level.\n",
                "\n",
                "In many cases, the default values provided by Tidymodels will work well (see the defaults by running `help(\"boost_tree\")` ); but there may be some advantage in modifying hyperparameters to get better predictive performance or reduce training time.\n",
                "\n",
                "So how do you know what hyperparameter values you should use? Well, in the absence of a deep understanding of how the underlying algorithm works, you'll need to experiment. Fortunately, Tidymodels provides a way to *tune* hyperparameters by trying multiple combinations and finding the best result for a given performance metric.\n",
                "\n",
                "#### Identify tuning parameters.\n",
                "\n",
                "How can we signal to tidymodels functions which arguments (in our case `cost_complexity`, `tree_depth`, `min_n`) should be optimized? Parameters are marked for tuning by assigning them a value of `tune()`.\n",
                "\n",
                "Next let's build our model specification with some tuning and then put our recipe and model specification together in a **`workflow()`**, for ease of use.\n"
            ]
        },
        {
            "cell_type": "code",
            "execution_count": null,
            "metadata": {},
            "outputs": [],
            "source": [
                "# Specify a recipe\n",
                "bike_recipe <- recipe(rentals ~ ., data = bike_train) %>% \n",
                "  step_normalize(all_numeric_predictors()) %>% \n",
                "  step_dummy(all_nominal_predictors()) \n",
                "\n",
                "\n",
                "# Make a tunable model specification\n",
                "boost_spec <- boost_tree(trees = 50,\n",
                "                         tree_depth = tune(),\n",
                "                         learn_rate = tune()) %>% \n",
                "  set_engine('xgboost') %>% \n",
                "  set_mode('regression')\n",
                "\n",
                "\n",
                "# Bundle a recipe and model spec using a workflow\n",
                "boost_workflow <- workflow() %>% \n",
                "  add_recipe(bike_recipe) %>% \n",
                "  add_model(boost_spec)\n",
                "\n",
                "# Print workflow\n",
                "boost_workflow\n"
            ]
        },
        {
            "cell_type": "markdown",
            "metadata": {},
            "source": [
                "#### Create a tuning grid.\n",
                "\n",
                "Good job! Now that we have specified what parameter to tune, we'll need to figure out a set of possible values to try out then choose the best.\n"
            ]
        },
        {
            "cell_type": "code",
            "execution_count": null,
            "metadata": {},
            "outputs": [],
            "source": [
                "# Create a grid of tuning parameters\n",
                "tree_grid <- grid_regular(tree_depth(),\n",
                "                  # You can specify hyperparameter ranges too\n",
                "learn_rate(range = c(0.01, 0.3), trans = NULL), levels = 5)\n",
                "\n",
                "# Display hyperparameter combinations that will be used for tuning\n",
                "tree_grid\n"
            ]
        },
        {
            "cell_type": "markdown",
            "metadata": {},
            "source": [
                "The function [`grid_regular()`](https://tidymodels.github.io/dials/reference/grid_regular.html) chooses sensible values to try for each hyperparameter; here, we asked for 5 of each. Since we have two hyperparameters to tune, `grid_regular()` returns 5×5 = 25 different possible tuning combinations to try in a tidy tibble format.\n",
                "\n",
                "#### Let's sample our data.\n",
                "\n",
                "As we pointed out earlier, hyperparameters cannot be learned directly from the training set. Instead, they are estimated using simulated data sets created from a process called resampling. One resampling approach is `cross-validation`.\n",
                "\n",
                "Cross-validation involves taking your training set and randomly dividing it up evenly into `V` subsets/folds. You then use one of the folds for validation and the rest for training, then you repeat these steps with all the subsets and combine the results, usually by taking the mean. This is just one round of cross-validation. Sometimes, to obtain better results, data scientists do this more than once, perhaps 5 times.\n"
            ]
        },
        {
            "cell_type": "code",
            "execution_count": null,
            "metadata": {},
            "outputs": [],
            "source": [
                "set.seed(2056)\n",
                "# 5 fold CV repeated once\n",
                "bike_folds <- vfold_cv(data = bike_train, v = 5, repeats = 1)\n"
            ]
        },
        {
            "cell_type": "markdown",
            "metadata": {},
            "source": [
                "#### Time to tune\n",
                "\n",
                "Now, it's time to tune the grid to find out which hyperparameter combination results in the best performance.\n"
            ]
        },
        {
            "cell_type": "code",
            "execution_count": null,
            "metadata": {},
            "outputs": [],
            "source": [
                "# Allow parallel processing\n",
                "doParallel::registerDoParallel()\n",
                "\n",
                "# Model tuning via grid search\n",
                "set.seed(2020)\n",
                "tree_grid <- tune_grid(\n",
                "  object = boost_workflow,\n",
                "  resamples = bike_folds,\n",
                "  grid = tree_grid\n",
                ")\n"
            ]
        },
        {
            "cell_type": "markdown",
            "metadata": {},
            "source": [
                "#### Visualize tuning results\n",
                "\n",
                "Now that we have trained models for many possible hyperparameter values, let's explore the results.\n",
                "\n",
                "As a first step, we'll use the function **`collect_metrics()`** to extract the performance metrics from the tuning results.\n"
            ]
        },
        {
            "cell_type": "code",
            "execution_count": null,
            "metadata": {},
            "outputs": [],
            "source": [
                "# Visualize the results\n",
                "tree_grid %>% \n",
                "  collect_metrics() %>% \n",
                "  mutate(tree_depth = factor(tree_depth)) %>% \n",
                "  ggplot(mapping = aes(x = learn_rate, y = mean,\n",
                "                       color = tree_depth)) +\n",
                "  geom_line(size = 0.6) +\n",
                "  geom_point(size = 2) +\n",
                "  facet_wrap(~ .metric, scales = 'free', nrow = 2)+\n",
                "  scale_color_viridis_d(option = \"plasma\", begin = .9, end = 0)\n"
            ]
        },
        {
            "cell_type": "markdown",
            "metadata": {},
            "source": [
                "We can see that our \"stubbiest\" tree, with a depth of 1, is the worst model according to both metrics (rmse, rsq) and across all candidate values of `learn_rate`. A tree depth of 4 and a learn_rate of around 0.1 seems to do the trick! Let's investigate these tuning parameters further. We can use `show_best()` to display the top sub-models and their performance estimates.\n",
                "\n"
            ]
        },
        {
            "cell_type": "code",
            "execution_count": null,
            "metadata": {},
            "outputs": [],
            "source": [
                "tree_grid %>% \n",
                "  show_best('rmse')\n"
            ]
        },
        {
            "cell_type": "markdown",
            "metadata": {},
            "source": [
                "We can then use `select_best()` to find the tuning parameter combination with the best performance values.\n",
                "\n",
                "We can then use `select_best()` to find the tuning parameter combination with the best performance values.\n"
            ]
        },
        {
            "cell_type": "code",
            "execution_count": null,
            "metadata": {},
            "outputs": [],
            "source": [
                "# Select the tree with the best RMSE\n",
                "best_tree <- tree_grid %>% \n",
                "  select_best('rmse')\n",
                "\n",
                "# Display best tree\n",
                "best_tree\n"
            ]
        },
        {
            "cell_type": "markdown",
            "metadata": {},
            "source": [
                "### Finalizing our model\n",
                "\n",
                "Now that we have the best performance values, we can use `tune::finalize_workflow()` to update (or \"finalize\") our workflow object with the best estimate values for tree_depth and learn_rate.\n"
            ]
        },
        {
            "cell_type": "code",
            "execution_count": null,
            "metadata": {},
            "outputs": [],
            "source": [
                "# Update workflow\n",
                "final_wf <- boost_workflow %>% \n",
                "  finalize_workflow(best_tree)\n",
                "\n",
                "# Print final workflow\n",
                "final_wf\n"
            ]
        },
        {
            "cell_type": "markdown",
            "metadata": {},
            "source": [
                "Our tuning is done! 🥳 We have updated our workflow with the best estimated hyperparameter values!\n",
                "\n",
                "#### The last fit: back to our test set.\n",
                "\n",
                "Finally, let's return to our test data and estimate the model performance we expect to see with new data. We can use the function [`last_fit()`](https://tidymodels.github.io/tune/reference/last_fit.html) with our finalized model; this function *fits* the finalized model on the full training data set and *evaluates* the finalized model on the testing data.\n"
            ]
        },
        {
            "cell_type": "code",
            "execution_count": null,
            "metadata": {},
            "outputs": [],
            "source": [
                "# Make a last fit\n",
                "final_fit <- final_wf %>% \n",
                "  last_fit(bike_split)\n",
                "\n",
                "\n",
                "# Collect metrics\n",
                "final_fit %>% \n",
                "  collect_metrics()\n"
            ]
        },
        {
            "cell_type": "markdown",
            "metadata": {},
            "source": [
                "How's that for a tune 🎶 ​💃​🕺​​​! Also, there seems to be some improvement in the evaluation metrics compared to using the default values for *learn_rate* and *tree_depth* hyperparameters. Now, we leave it to you to explore how tuning the other hyperparameters affects the model performance.\n",
                "\n",
                "We've now seen a number of common techniques used to train predictive models for regression. In a real project, you'd likely try a few more algorithms, hyperparameters, and preprocessing transformations; but by now you should have got the general idea of the procedure to follow. You can always explore the [reference docs](https://www.tidymodels.org/find/parsnip/#models), or use the `args()` function to see which parsnip object arguments are available.\n",
                "\n",
                "> See this [Tidymodels reference page](https://www.tidymodels.org/find/parsnip/#models) to explore model types and engines and to explore model arguments.\n",
                "\n",
                "Let's now explore how you can use the trained model with new data.\n",
                "\n",
                "### Use the Trained Model\n",
                "\n",
                "We'll begin by saving our model but first, let's extract the *trained workflow* object from `final_fit` object.\n"
            ]
        },
        {
            "cell_type": "code",
            "execution_count": null,
            "metadata": {},
            "outputs": [],
            "source": [
                "# Extract trained workflow\n",
                "bike_boost_model <- final_fit$.workflow[[1]]\n"
            ]
        },
        {
            "cell_type": "markdown",
            "metadata": {},
            "source": [
                "Now, we can save this model to be used later.\n",
                "\n"
            ]
        },
        {
            "cell_type": "code",
            "execution_count": null,
            "metadata": {},
            "outputs": [],
            "source": [
                "# Save trained workflow\n",
                "saveRDS(bike_boost_model, 'bike_boost_model.rds')\n"
            ]
        },
        {
            "cell_type": "markdown",
            "metadata": {},
            "source": [
                "Now, we can load it whenever we need it, and use it to predict labels for new data. This is often called *`scoring`* or *`inferencing`*.\n",
                "\n",
                "For example, lets try and predict some values from our test set using the saved model.\n"
            ]
        },
        {
            "cell_type": "code",
            "execution_count": null,
            "metadata": {},
            "outputs": [],
            "source": [
                "# Load the model\n",
                "loaded_model <- readRDS(\"bike_boost_model.rds\")\n",
                "\n",
                "# Extract predictors\n",
                "bike_new <- bike_test %>% \n",
                "  dplyr::slice(5:9)\n",
                "\n",
                "# Use the model to predict rentals\n",
                "results <- loaded_model %>% \n",
                "  augment(bike_test)\n",
                "\n",
                "# See model predictions \n",
                "results\n"
            ]
        },
        {
            "cell_type": "markdown",
            "metadata": {},
            "source": [
                "PeRfect! All is well that ends with a working model, time to end the cycle **🚴**!\n",
                "\n",
                "### **Summary**\n",
                "\n",
                "That concludes the notebooks for this module on regression. In this notebook we ran a complex regression, tuned it, saved the model, and used it to predict outcomes for the future.\n",
                "\n",
                "### **Further Reading**\n",
                "\n",
                "To learn more about Tidymodels, see the [Tidymodels documentation](https://www.tidymodels.org/).\n"
            ]
        }
    ],
    "metadata": {
        "anaconda-cloud": "",
        "kernelspec": {
            "display_name": "R",
            "langauge": "R",
            "name": "ir"
        },
        "language_info": {
            "codemirror_mode": "r",
            "file_extension": ".r",
            "mimetype": "text/x-r-source",
            "name": "R",
            "pygments_lexer": "r",
            "version": "3.4.1"
        }
    },
    "nbformat": 4,
    "nbformat_minor": 1
}
