{
  "nbformat": 4,
  "nbformat_minor": 0,
  "metadata": {
    "colab": {
      "name": "02-Regression.ipynb",
      "provenance": [],
      "collapsed_sections": [],
      "toc_visible": true
    },
    "kernelspec": {
      "name": "ir",
      "display_name": "R"
    },
    "language_info": {
      "name": "R"
    }
  },
  "cells": [
    {
      "cell_type": "markdown",
      "metadata": {
        "id": "2gZeDhGBqJRT"
      },
      "source": [
        "# Train and Evaluate Regression Models using Tidymodels"
      ]
    },
    {
      "cell_type": "markdown",
      "metadata": {
        "id": "wfmKYQRNqYaG"
      },
      "source": [
        "## Buckle up 👨‍🚀\n",
        "\n",
        "In this learning path, we'll learn how to create Machine learning models using `R` 😊. Machine learning is the foundation for predictive modeling and artificial intelligence. We'll learn the core principles of machine learning and how to use common tools and frameworks to train, evaluate, and use machine learning models.\n",
        "\n",
        "Modules that will be covered in this learning path include:\n",
        "\n",
        "-   Explore and analyze data with R\n",
        "\n",
        "-   Train and evaluate regression models\n",
        "\n",
        "-   *Train and evaluate classification models (under development)*\n",
        "\n",
        "-   *Train and evaluate clustering models (under development)*\n",
        "\n",
        "-   *Train and evaluate deep learning models (under development)*\n",
        "\n",
        "### **Prerequisites**\n",
        "\n",
        "This learning path assumes knowledge of basic mathematical concepts. Some experience with `R and the tidyverse` is also beneficial though we'll try as much as possible to skim through the core concepts. To get started with R and the tidyverse, the best place would be [R for Data Science](http://r4ds.had.co.nz/) an O'Reilly book written by Hadley Wickham and Garrett Grolemund. It's designed to take you from knowing nothing about R or the tidyverse to having all the basic tools of data science at your fingertips.\n",
        "\n",
        "\n",
        "\n",
        "\n",
        "\n",
        "\n",
        "\n",
        "The `Python` edition of the learning path can be found at [this learning path](https://docs.microsoft.com/en-us/learn/paths/create-machine-learn-models/).\n",
        "\n",
        "**Why R?**\n",
        "\n",
        "> R is open-source and free of charge. It is a powerful programming language that can be used for many different purposes but specializes in data analysis, modeling, visualization, and machine learning. R is easily *extensible*; it has a vast ecosystem of packages, mostly user-contributed modules that focus on a specific theme, such as modeling, visualization, and so on. - [*`Tidy Modeling with R, MAX KUHN AND JULIA SILGE`*](https://www.tmwr.org/)\n",
        "\n",
        "Now, let's get started!\n",
        "\n",
        "![Artwork by \\@allison_horst](images/encouRage.jpg){width=\"630\"}"
      ]
    },
    {
      "cell_type": "markdown",
      "metadata": {
        "id": "C8c8pTbwsVe9"
      },
      "source": [
        "## An introduction to regression ​👨‍🏫​✍️​👩‍🏫​\n",
        "\n",
        "Very simply put, **supervised learning** is the machine learning task of `learning a function` that `maps` an input (`feature`) to an output (`label`) based on `example input-output` pairs. It derives a function from labeled training data that can be applied to new features for which the labels are unknown, and predict them.\n",
        "\n",
        "You can think of this function like this:\n",
        "$$\n",
        "y = f(x)\n",
        "$$\n"
      ]
    },
    {
      "cell_type": "markdown",
      "metadata": {
        "id": "30jqZc9qseAd"
      },
      "source": [
        "in which $y$ represents the label we want to predict and $x$ represents the features the model uses to predict it.\n",
        "\n",
        "In most cases, $x$ is actually a *vector* that consists of multiple feature values, so to be a little more precise, the function could be expressed like this:\n",
        "\n",
        "$$\n",
        "y = f([x_1,x_2,x_3...])\n",
        "$$"
      ]
    },
    {
      "cell_type": "markdown",
      "metadata": {
        "id": "YWSVMcfMsj0u"
      },
      "source": [
        "The goal of `training` the model is to find a `function` that performs some kind of calculation to the $x$ values that produces the result $y$. We do this by applying a machine learning *algorithm* that tries to `fit` the $x$ values to a calculation that produces $y$ reasonably accurately for all of the cases in the training dataset.\n",
        "\n",
        "There are lots of machine learning algorithms for supervised learning, and they can be broadly divided into two types:\n",
        "\n",
        "-   **Classification algorithms**: Algorithms that predict to which category, or *class*, an observation belongs.\n",
        "\n",
        "<!-- -->\n",
        "\n",
        "-   **Regression algorithms**\n",
        "\n",
        "In this module, we'll focus on ***`regression`**.*\n",
        "\n",
        "*Regression* is a form of machine learning in which the goal is to create a model that can predict a `numeric`, `quantifiable value`; such as a price, amount, size, or other scalar number.\n",
        "\n",
        "For example, a company that rents bicycles might want to predict the expected number of rentals in a given day, based on the season, day of the week, weather conditions, and so on.\n",
        "\n",
        "![](images/cycle-rentals.png){width=\"500\"}"
      ]
    },
    {
      "cell_type": "markdown",
      "metadata": {
        "id": "HkqRZiPWs2Es"
      },
      "source": [
        "<br> **Training and evaluating a regression model ⚙️**\n",
        "\n",
        "Regression works by establishing a relationship between variables in the data that represent characteristics (known as the *`features`*) of the thing being observed, and the variable we're trying to predict (known as the *`label`*).\n",
        "\n",
        "In this case, we're observing information about days, so the features include things like the day of the week, month, temperature, rainfall, and so on; and the label is the number of bicycle rentals.\n",
        "\n",
        "To train the model, we start with a data sample containing the features as well as known values for the label - so in this case we need historic data that includes dates, weather conditions, and the number of bicycle rentals. We'll then split this data sample into two subsets:\n",
        "\n",
        "-   A *`training`*`dataset` to which we'll apply an algorithm that determines a function encapsulating the relationship between the feature values and the known label values.\n",
        "\n",
        "-   A *`validation`* or *`test`*`dataset` that we can use to evaluate the model by using it to generate predictions for the label and comparing them to the actual known label values.\n",
        "\n",
        "The use of historic data with known label values to train a model makes regression an example of *`supervised`*`machine learning`.\n",
        "\n",
        "The best way to learn about regression is to try it for yourself, so that's what you'll do in this exercise.\n",
        "\n",
        "> We'll require some packages to knock-off this module. You can have them installed as:\n",
        " `install.packages(c('tidyverse', 'tidymodels', 'glmnet', 'randomForest', 'xgboost', 'patchwork', 'paletteer', 'here'))`\n",
        "\n",
        "Alternatively, the script below checks whether you have the packages required to complete this module and installs them for you in case some are missing.\n",
        "\n"
      ]
    },
    {
      "cell_type": "code",
      "metadata": {
        "id": "urQKHiP4s9pf"
      },
      "source": [
        "suppressWarnings(if(!require(\"pacman\")) install.packages(\"pacman\"))\n",
        "pacman::p_load('tidyverse', 'tidymodels', 'glmnet', 'randomForest', 'xgboost',\n",
        "'patchwork', 'paletteer', 'here', 'devtools', 'doParallel')"
      ],
      "execution_count": null,
      "outputs": []
    },
    {
      "cell_type": "markdown",
      "metadata": {
        "id": "Uk3EYJaQv4i8"
      },
      "source": [
        "## **Exercise - Train and evaluate a regression model:**\n",
        "\n",
        "Calculating a regression line for a simple binomial (two-variable) function from first principles is possible, but involves some mathematical effort. When you consider a `real-world dataset` in which $x$ is not a single feature value such as temperature, but a vector of `multiple variables` such as temperature, day of week, month, rainfall, and so on; the calculations become more complex.\n",
        "\n",
        "For this reason, data scientists generally use specialized machine learning frameworks to perform model training and evaluation. Such frameworks encapsulate common algorithms and provide useful functions for preparing data, fitting data to a model, and calculating model evaluation metrics.\n",
        "\n",
        "One commonly used machine learning framework in R, is the [**`tidymodels`**](https://www.tidymodels.org/), a collection of packages for modeling and machine learning using [**tidyverse**](https://www.tidyverse.org/) principles.\n",
        "\n",
        "-   Install many of the packages in the tidymodels ecosystem by running `install.packages(\"tidymodels\")`.\n",
        "\n",
        "-   Run `library(tidymodels)` to load the core packages and make them available in your current R session.\n",
        "\n",
        "From this section forward, we'll explore a hands-on exercise where we'll use tidymodels to train and evaluate regression models using an example based on a real study in which data for a bicycle sharing scheme was collected and used to predict the number of rentals based on seasonality and weather conditions. We'll use a simplified version of the dataset from that study.\n",
        "\n",
        "> **Citation**: The data used in this exercise is derived from [Capital Bikeshare](https://www.capitalbikeshare.com/system-data) and is used in accordance with the published [license agreement](https://www.capitalbikeshare.com/data-license-agreement).\n",
        "\n",
        "Let's get right into it 🚀 ​🌌​​!"
      ]
    },
    {
      "cell_type": "markdown",
      "metadata": {
        "id": "mMNdJ-3ewKJX"
      },
      "source": [
        "## 1. Explore the Data 🕵️‍️\n",
        "\n",
        "The first step in any machine learning project is to `explore the data` that you will use to train a model. The goal of this exploration is to try to understand the `relationships` between its attributes; in particular, any apparent correlation between the *features* and the *label* your model will try to predict.\n",
        "\n",
        "This may require some work to detect and `fix issues in the data` (such as dealing with missing values, errors, or outlier values), `deriving new feature columns` by transforming or combining existing features (a process known as *feature engineering*), `normalizing` numeric features (values you can measure or count) so they're on a similar scale, and `encoding categorical features` (values that represent discrete categories) as numeric indicators.\n",
        "\n",
        "To achieve this important step in our adventure, we'll need some packages in the tidyverse! The tidyverse is an opinionated [**collection of R packages**](https://www.tidyverse.org/packages) designed for data science.\n",
        "\n",
        "We'll begin by loading the data frame from the [original repo](https://github.com/MicrosoftDocs/ml-basics) of this course and then `…` the real fun begins!"
      ]
    },
    {
      "cell_type": "code",
      "metadata": {
        "id": "f7zTaRq-wneb"
      },
      "source": [
        "# Load the core tidyverse and make it available in your current R session.\n",
        "library(tidyverse)\n",
        "\n",
        "# Get the url of the raw version of the daily-bike-share.csv data\n",
        "url_data <- \"https://raw.githubusercontent.com/MicrosoftDocs/ml-basics/master/data/daily-bike-share.csv\"\n",
        "\n",
        "# Load the data into the R session\n",
        "bike_data <- read_csv(url_data)\n",
        "\n",
        "# View first few rows\n",
        "bike_data %>% \n",
        "  slice_head(n = 7)\n"
      ],
      "execution_count": null,
      "outputs": []
    },
    {
      "cell_type": "markdown",
      "metadata": {
        "id": "U38BUjy1wvRW"
      },
      "source": [
        "Sometimes, we may want some little more information on our data. We can have a look at the `data` and `its structure` by using the [*glimpse()*](https://pillar.r-lib.org/reference/glimpse.html) function."
      ]
    },
    {
      "cell_type": "code",
      "metadata": {
        "id": "_Z-8WxRzxfnX"
      },
      "source": [
        "# Take a quick glance at the data\n",
        "glimpse(bike_data)"
      ],
      "execution_count": null,
      "outputs": []
    },
    {
      "cell_type": "markdown",
      "metadata": {
        "id": "S2_buOmhxjsh"
      },
      "source": [
        "Good job!💪\n",
        "\n",
        "We can observe that `glimpse()` will give you the total number of rows (observations) and columns (variables), then, the first few entries of each variable in a row after the variable name. In addition, the *data type* of the variable is given immediately after each variable's name inside `< >`.\n",
        "\n",
        "The data consists of *731 rows* the following *14 columns*:\n",
        "\n",
        "-   **instant**: A unique row identifier\n",
        "\n",
        "-   **dteday**: The date on which the data was observed - in this case, the data was collected daily; so there's one row per date.\n",
        "\n",
        "-   **season**: A numerically encoded value indicating the season (1-spring, 2-summer, 3-fall, 4-winter)\n",
        "\n",
        "-   **yr**: The year of the study in which the observation was made (the study took place over two years (year 0 represents 2011, and year 1 represents 2012)\n",
        "\n",
        "-   **mnth**: The calendar month in which the observation was made (1-January ... 12-December)\n",
        "\n",
        "-   **holiday**: A binary value indicating whether or not the observation was made on a public holiday)\n",
        "\n",
        "-   **weekday**: The day of the week on which the observation was made (0-Sunday ... 6-Saturday)\n",
        "\n",
        "-   **workingday**: A binary value indicating whether or not the day is a working day (not a weekend or holiday)\n",
        "\n",
        "-   **weathersit**: A categorical value indicating the weather situation (1-clear, 2-mist/cloud, 3-light rain/snow, 4-heavy rain/hail/snow/fog)\n",
        "\n",
        "-   **temp**: The temperature in celsius (normalized)\n",
        "\n",
        "-   **atemp**: The apparent (\"feels-like\") temperature in celsius (normalized)\n",
        "\n",
        "-   **hum**: The humidity level (normalized)\n",
        "\n",
        "-   **windspeed**: The windspeed (normalized)\n",
        "\n",
        "-   **rentals**: The number of bicycle rentals recorded.\n",
        "\n",
        "In this dataset, `rentals` represents the `label` (the $y$ value) our model must be trained to predict. The other columns are potential features ($x$ values).\n",
        "\n",
        "As mentioned previously, you can perform some *feature engineering* to combine or derive new features. For example, let's add a new column named **day** to the data frame by extracting the day component from the existing **dteday** column. The new column represents the day of the month from 1 to 31.\n",
        "\n",
        "From the output of *glimpse(),* you'll realize that the **dteday** column is stored as a `\"character\"` vector. So, we'll first need to transform this to a date object.\n",
        "\n",
        "[Lubridate](https://lubridate.tidyverse.org/), a package in the tidyverse, provides tools that make it easier to parse and manipulate dates.\n",
        "\n",
        "> *If you are new to lubridate, the best place to start is the [date and times chapter](http://r4ds.had.co.nz/dates-and-times.html) in R for data science.*\n",
        "\n",
        "![Artwork by \\@allison_horst](images/lubridate.jpg){width=\"450\"}"
      ]
    },
    {
      "cell_type": "code",
      "metadata": {
        "id": "T4KoLuhVxwNo"
      },
      "source": [
        "# load lubridate into the R session\n",
        "library(lubridate)\n",
        "\n",
        "# Parse dates then extract days\n",
        "bike_data <- bike_data %>%\n",
        "  # Parse dates\n",
        "  mutate(dteday = mdy(dteday)) %>% \n",
        "  #Get day\n",
        "  mutate(day = day(dteday))\n",
        "\n",
        "# extract the first 10 rows\n",
        "bike_data %>% \n",
        "  slice_head(n = 10)"
      ],
      "execution_count": null,
      "outputs": []
    },
    {
      "cell_type": "markdown",
      "metadata": {
        "id": "0FgtOZGhx0TQ"
      },
      "source": [
        "<br> Such a beauty!🤩\n",
        "\n",
        "OK, let's start our analysis of the data by examining a few key descriptive statistics. We can use the `summarytools::descr()` function to neatly and quickly summarize the numeric features as well as the **rentals** label column.\n",
        "\n",
        "Let's first install a specific version of package `summarytools` that works on most of the coding platforms."
      ]
    },
    {
      "cell_type": "code",
      "metadata": {
        "id": "nK8E1lN5VAaq"
      },
      "source": [
        "devtools::install_github(\"dcomtois/summarytools\", ref=\"0-8-9\")"
      ],
      "execution_count": null,
      "outputs": []
    },
    {
      "cell_type": "markdown",
      "metadata": {
        "id": "FLXXzBVPXpMN"
      },
      "source": [
        "Done! Moving on swiftly.."
      ]
    },
    {
      "cell_type": "code",
      "metadata": {
        "id": "aV00_ZtWx-4J"
      },
      "source": [
        "# load package into the R session\n",
        "library(summarytools)\n",
        "\n",
        "# Obtain summary stats for feature and label columns\n",
        "bike_data %>% \n",
        "  # Select features and label\n",
        "  select(c(temp, atemp, hum, windspeed, rentals)) %>% \n",
        "  # Summary stats\n",
        "  descr(order = \"preserve\",\n",
        "        stats = c('mean', 'sd', 'min', 'q1', 'med', 'q3', 'max'),\n",
        "        round.digits = 6)\n"
      ],
      "execution_count": null,
      "outputs": []
    },
    {
      "cell_type": "markdown",
      "metadata": {
        "id": "3i0BXzaYyCYO"
      },
      "source": [
        "The statistics reveal some information about the distribution of the data in each of the numeric fields, including the number of observations (there are 731 records), the mean, standard deviation, minimum and maximum values, and the quartile values (the threshold values for 25%, 50% - which is also the median, and 75% of the data).\n",
        "\n",
        "From this, we can see that the mean number of daily rentals is around *848*; but there's a comparatively `large standard deviation`, indicating `a lot of variance` in the number of rentals per day.\n",
        "\n",
        "We might get a clearer idea of the distribution of rentals values by visualizing the data. Common plot types for visualizing numeric data distributions are *histograms* and *box plots*, so let's get our [`ggplot2`](https://ggplot2.tidyverse.org/) on and create one of each of these for the **rentals** column. [patchwork](https://patchwork.data-imaginist.com/) extends `ggplot` API by providing mathematical operators (such as `+` or `/`) for combining multiple plots. Yes, as easy as that! 📈📉\n",
        "\n",
        "> *In case you are new to R, R has several systems for making graphs, but `ggplot2` is one of the most elegant and most versatile. The best place to start in creating masterpiece visualisations is the [Data Visualisation chapter](https://r4ds.had.co.nz/data-visualisation.html) in R for data science*"
      ]
    },
    {
      "cell_type": "code",
      "metadata": {
        "id": "DfU7JVxJyLKc"
      },
      "source": [
        "library(patchwork)\n",
        "# Plot a histogram\n",
        "theme_set(theme_light())\n",
        "hist_plt <- bike_data %>% \n",
        "  ggplot(mapping = aes(x = rentals)) + \n",
        "  geom_histogram(bins = 100, fill = \"midnightblue\", alpha = 0.7) +\n",
        "  \n",
        "  # Add lines for mean and median\n",
        "  geom_vline(aes(xintercept = mean(rentals), color = 'Mean'), linetype = \"dashed\", size = 1.3) +\n",
        "  geom_vline(aes(xintercept = median(rentals), color = 'Median'), linetype = \"dashed\", size = 1.3 ) +\n",
        "  xlab(\"\") +\n",
        "  ylab(\"Frequency\") +\n",
        "  scale_color_manual(name = \"\", values = c(Mean = \"red\", Median = \"yellow\")) +\n",
        "  theme(legend.position = c(0.9, 0.9), legend.background = element_blank())\n",
        "\n",
        "# Plot a box plot\n",
        "box_plt <- bike_data %>% \n",
        "  ggplot(aes(x = rentals, y = 1)) +\n",
        "  geom_boxplot(fill = \"#E69F00\", color = \"gray23\", alpha = 0.7) +\n",
        "    # Add titles and labels\n",
        "  xlab(\"Rentals\")+\n",
        "  ylab(\"\")\n",
        "\n",
        "\n",
        "# Combine plots\n",
        "(hist_plt / box_plt) +\n",
        "  plot_annotation(title = 'Rental Distribution',\n",
        "                  theme = theme(\n",
        "                    plot.title = element_text(hjust = 0.5)))"
      ],
      "execution_count": null,
      "outputs": []
    },
    {
      "cell_type": "markdown",
      "metadata": {
        "id": "a79XoqPTynFa"
      },
      "source": [
        "<br> The plots show that the number of daily rentals ranges from 0 to just over 3,400. However, the mean (and median) number of daily rentals is closer to the low end of that range, with most of the data between 0 and around 2,200 rentals. The few values above this are shown in the box plot as small circles, indicating that they are *outliers* - in other words, unusually high or low values beyond the typical range of most of the data.\n",
        "\n",
        "We can do the same kind of visual exploration of the numeric features. One way to do this would be to use a `for loop` but ggplot2 provides a way of avoiding this entirely using `facets` 💁. Facets allow us to create subplots that each display one subset of the data.\n",
        "\n",
        "This will require us to transform our data into a *long* *format* using [tidyr::pivot_longer](https://tidyr.tidyverse.org/reference/pivot_longer.html), calculate some statistical summaries and then whip up a histogram for each feature."
      ]
    },
    {
      "cell_type": "code",
      "metadata": {
        "id": "SN2_bsiXyyIf"
      },
      "source": [
        "# Create a data frame of numeric features & label\n",
        "numeric_features <- bike_data %>% \n",
        "  select(c(temp, atemp, hum, windspeed, rentals))\n",
        "\n",
        "# Pivot data to a long format\n",
        "numeric_features <- numeric_features %>% \n",
        "  pivot_longer(!rentals, names_to = \"features\", values_to = \"values\") %>%\n",
        "  group_by(features) %>% \n",
        "  mutate(Mean = mean(values),\n",
        "         Median = median(values))\n",
        "\n",
        "\n",
        "# Plot a histogram for each feature\n",
        "numeric_features %>%\n",
        "  ggplot() +\n",
        "  geom_histogram(aes(x = values, fill = features), bins = 100, alpha = 0.7, show.legend = F) +\n",
        "  facet_wrap(~ features, scales = 'free')+\n",
        "  paletteer::scale_fill_paletteer_d(\"ggthemes::excel_Parallax\") +\n",
        "  \n",
        "  # Add lines for mean and median\n",
        "  geom_vline(aes(xintercept = Mean, color = \"Mean\"), linetype = \"dashed\", size = 1.3 ) +\n",
        "  geom_vline(aes(xintercept = Median, color = \"Median\"), linetype = \"dashed\", size = 1.3 ) +\n",
        "  scale_color_manual(name = \"\", values = c(Mean = \"red\", Median = \"yellow\")) "
      ],
      "execution_count": null,
      "outputs": []
    },
    {
      "cell_type": "markdown",
      "metadata": {
        "id": "bnl-OTv5y7se"
      },
      "source": [
        "<br> WooHoo! 🙌\n",
        "\n",
        "The numeric features seem to be more *normally* distributed, with the mean and median nearer the middle of the range of values, coinciding with where the most commonly occurring values are.\n",
        "\n",
        "> **Note**: The distributions are not *truly* *normal* in the statistical sense, which would result in a smooth, symmetric \"bell-curve\" histogram with the mean and mode (the most common value) in the center; but they do generally indicate that most of the observations have a value somewhere near the middle.\n",
        "\n",
        "We've explored the distribution of the `numeric` values in the dataset, but what about the `categorical` features? These aren't continuous numbers on a scale, so we can't use histograms; but we can plot a bar chart showing the count of each discrete value for each category.\n",
        "\n",
        "We'll follow the same procedure we used for the numeric feature."
      ]
    },
    {
      "cell_type": "code",
      "metadata": {
        "id": "carm7G6fztAp"
      },
      "source": [
        "# Create a data frame of categorical features & label\n",
        "categorical_features <- bike_data %>% \n",
        "  select(c(season, mnth, holiday, weekday, workingday, weathersit, day, rentals))\n",
        "\n",
        "# Pivot data to a long format\n",
        "categorical_features <- categorical_features %>% \n",
        "  pivot_longer(!rentals, names_to = \"features\", values_to = \"values\") %>%\n",
        "  group_by(features) %>% \n",
        "  mutate(values = factor(values))\n",
        "\n",
        "\n",
        "# Plot a bar plot for each feature\n",
        "categorical_features %>%\n",
        "  ggplot() +\n",
        "  geom_bar(aes(x = values, fill = features), alpha = 0.7, show.legend = F) +\n",
        "  facet_wrap(~ features, scales = 'free') +\n",
        "  paletteer::scale_fill_paletteer_d(\"ggthemr::solarized\") +\n",
        "  theme(\n",
        "    panel.grid = element_blank(),\n",
        "    axis.text.x = element_text(angle = 90))"
      ],
      "execution_count": null,
      "outputs": []
    },
    {
      "cell_type": "markdown",
      "metadata": {
        "id": "wfnBOewwzxcj"
      },
      "source": [
        "<br> Many of the categorical features show a more or less *uniform* distribution (meaning there's roughly the same number of rows for each category). Exceptions to this include:\n",
        "\n",
        "-   **holiday**: There are many fewer days that are holidays than days that aren't.\n",
        "\n",
        "-   **workingday**: There are more working days than non-working days.\n",
        "\n",
        "-   **weathersit**: Most days are category *1* (clear), with category *2* (mist and cloud) the next most common. There are comparatively few category *3* (light rain or snow) days, and no category *4* (heavy rain, hail, or fog) days at all.\n",
        "\n",
        "Now that we know something about the distribution of the data in our columns, we can start to look for relationships between the *features* and the *rentals label* we want to be able to predict.\n",
        "\n",
        "For the numeric features, we can create scatter plots that show the intersection of feature and label values."
      ]
    },
    {
      "cell_type": "code",
      "metadata": {
        "id": "RFyR0Iuvz39G"
      },
      "source": [
        "# Plot a scatter plot for each feature\n",
        "numeric_features %>% \n",
        "  mutate(corr_coef = cor(values, rentals)) %>%\n",
        "  mutate(features = paste(features, ' vs rentals, r = ', corr_coef, sep = '')) %>% \n",
        "  ggplot(aes(x = values, y = rentals, color = features)) +\n",
        "  geom_point(alpha = 0.7, show.legend = F) +\n",
        "  facet_wrap(~ features, scales = 'free')+\n",
        "  paletteer::scale_color_paletteer_d(\"ggthemes::excel_Parallax\")"
      ],
      "execution_count": null,
      "outputs": []
    },
    {
      "cell_type": "markdown",
      "metadata": {
        "id": "OE47RFa5z7n8"
      },
      "source": [
        "<br> The *correlation* statistic, *r*, quantifies the apparent relationship. The correlation statistic is a value between -1 and 1 that indicates the strength of a linear relationship.\n"
      ]
    },
    {
      "cell_type": "code",
      "metadata": {
        "id": "yHiyw3Fsz-ee"
      },
      "source": [
        "# Calculate correlation coefficient\n",
        "numeric_features %>% \n",
        "  summarise(corr_coef = cor(values, rentals))\n"
      ],
      "execution_count": null,
      "outputs": []
    },
    {
      "cell_type": "markdown",
      "metadata": {
        "id": "wn2yEnit0GXi"
      },
      "source": [
        "<br> The results aren't conclusive, but if you look closely at the scatter plots for `temp` and `atemp`, you can see a `vague diagonal trend` showing that higher rental counts tend to coincide with higher temperatures; and a correlation value of just over 0.5 for both of these features supports this observation. Conversely, the plots for `hum` and `windspeed` show a `slightly negative correlation`, indicating that there are fewer rentals on days with high humidity or windspeed.\n",
        "\n",
        "Now let's compare the categorical features to the label. We'll do this by creating box plots that show the distribution of rental counts for each category."
      ]
    },
    {
      "cell_type": "code",
      "metadata": {
        "id": "V8qsf2xl0NWT"
      },
      "source": [
        "# Plot a box plot for each feature\n",
        "categorical_features %>%\n",
        "  ggplot() +\n",
        "  geom_boxplot(aes(x = values, y = rentals, fill = features), alpha = 0.9, show.legend = F) +\n",
        "  facet_wrap(~ features, scales = 'free') +\n",
        "  paletteer::scale_fill_paletteer_d(\"tvthemes::simpsons\")+\n",
        "  theme(\n",
        "    panel.grid = element_blank(),\n",
        "    axis.text.x = element_text(angle = 90))"
      ],
      "execution_count": null,
      "outputs": []
    },
    {
      "cell_type": "markdown",
      "metadata": {
        "id": "uIepwrnJ0TIA"
      },
      "source": [
        "<br> The plots show some variance in the relationship between some category values and rentals. For example, there's a `clear difference` in the distribution of rentals on weekends (*weekday 0 or 6*) and those during the working week (*weekday 1 to 5*). Similarly, there are notable differences for `holiday` and `workingday` categories. There's a noticeable trend that shows different rental distributions in summer and fall months compared to spring and winter months. The `weathersit` category also seems to make a difference in rental distribution. The **day** feature we created for the day of the month shows little variation, indicating that it's probably not predictive of the number of rentals.\n",
        "\n",
        "Amazing 🤜🤛! We have just gone through the phase of **understanding the data**, often referred to as exploratory data analysis (`EDA`). EDA brings to light how the different variables are related to one another, their distributions, typical ranges, and other attributes. With these insights in mind, it's time to train some regression models!\n",
        "\n",
        "## 2. Train a Regression Model using Tidymodels ![](images/tdym.png){width=\"25\"}\n",
        "\n",
        "![Artwork by \\@allison_horst](images/parsnip.jpg){width=\"500\"}"
      ]
    },
    {
      "cell_type": "markdown",
      "metadata": {
        "id": "vsFAta2K0bJH"
      },
      "source": [
        "Now that we've explored the data, it's time to use it to train a regression model that uses the features we've identified as `potentially predictive` to predict the **rentals** label. The first thing we need to do is create a data frame that contains the predictive features and the label. Also, we'll need to specify the roles of the predictors. Are they quantitative (integers/doubles) or are they nominal (characters/factors)?\n",
        "\n",
        "[`dplyr::select()`](https://dplyr.tidyverse.org/reference/select.html), [dplyr::mutate()](https://dplyr.tidyverse.org/reference/mutate.html) and [dplyr::across()](https://dplyr.tidyverse.org/reference/across.html) (for applying a function across multiple columns) will come in handy for what lies ahead!\n"
      ]
    },
    {
      "cell_type": "code",
      "metadata": {
        "id": "YTKVVS5H0lYv"
      },
      "source": [
        "# Select desired features and labels\n",
        "bike_select <- bike_data %>% \n",
        "  select(c(season, mnth, holiday, weekday, workingday, weathersit,\n",
        "           temp, atemp, hum, windspeed, rentals)) %>% \n",
        "  mutate(across(1:6, factor))\n",
        "\n",
        "# Get a glimpse of your data\n",
        "glimpse(bike_select)"
      ],
      "execution_count": null,
      "outputs": []
    },
    {
      "cell_type": "markdown",
      "metadata": {
        "id": "tW97msoD0p2-"
      },
      "source": [
        "Alternatively 🤔, it would have been easier to just deselect the unwanted columns using `select(-c(…))` but we'll leave that for next time.\n",
        "\n",
        "We *could* train a model using all of the data; but it's common practice in supervised learning to *split* the data into two subsets; a (typically larger) set with which to train the model, and a smaller \"hold-back\" set with which to validate the trained model. This enables us to evaluate how well the model performs in order to get a better estimate of how your models will `perform` on `new data`. It's important to split the data *randomly* (rather than say, taking the first 70% of the data for training and keeping the rest for validation). This helps ensure that the two subsets of data are `statistically comparable` (so we validate the model with data that has a similar statistical distribution to the data on which it was trained).\n",
        "\n",
        "To randomly split the data, we'll use [`rsample::initial_split()`](https://rsample.tidymodels.org/reference/initial_split.html) . rsample is one of the many packages in the tidymodels.\n",
        "\n",
        "> The tidy modeling \"verse\" is a collection of packages for modeling and statistical analysis that share the underlying design philosophy, grammar, and data structures of the tidyverse. [Tidy Modeling with R](https://www.tmwr.org/) would be a good place to get up to speed with this amazing framework!"
      ]
    },
    {
      "cell_type": "code",
      "metadata": {
        "id": "nJpgCo2N1AkS"
      },
      "source": [
        "# Load the Tidymodels packages\n",
        "library(tidymodels)\n",
        "\n",
        "# Split 70% of the data for training and the rest for tesing\n",
        "set.seed(2056)\n",
        "bike_split <- bike_select %>% \n",
        "  initial_split(prop = 0.7,\n",
        "  # splitting data evenly on the holiday variable\n",
        "                strata = holiday)\n",
        "\n",
        "# Extract the data in each split\n",
        "bike_train <- training(bike_split)\n",
        "bike_test <- testing(bike_split)\n",
        "\n",
        "glue::glue(\n",
        "  'Training Set: {nrow(bike_train)} rows\n",
        "  Test Set: {nrow(bike_test)} rows')"
      ],
      "execution_count": null,
      "outputs": []
    },
    {
      "cell_type": "markdown",
      "metadata": {
        "id": "TpgWUThG1Gfh"
      },
      "source": [
        "This results into the following two datasets:\n",
        "\n",
        "-   *bike_train*: subset of the dataset used to train the model.\n",
        "\n",
        "-   *bike_test*: subset of the dataset used to validate the model.\n",
        "\n",
        "Now ⏲, we're ready to train a model by fitting a suitable regression algorithm to the training data.\n",
        "\n",
        "Before embarking on more complex machine learning models, it's a good idea to build the simplest possible model to get an idea of what is going on. We'll use a `linear regression` algorithm, a common starting point for regression that works by trying to find a linear relationship between the $x$ values and the $y$ label. The resulting model is a function that conceptually defines a line where every possible $x$ and $y$ value combination intersect.\n",
        "\n",
        "In Tidymodels, you specify models using `parsnip()`. The goal of [parsnip](https://parsnip.tidymodels.org/) is to provide a tidy, unified interface to models that can be used to try a range of models by specifying three concepts:\n",
        "\n",
        "-   Model **type** differentiates models such as logistic regression, decision tree models, and so forth.\n",
        "\n",
        "-   Model **mode** includes common options like regression and classification; some model types support either of these while some only have one mode.\n",
        "\n",
        "-   Model **engine** is the computational tool which will be used to fit the model. Often these are R packages, such as **`\"lm\"`** or **`\"ranger\"`**\n",
        "\n",
        "In tidymodels, we capture that modeling information in a model specification, so setting up your model specification can be a good place to start."
      ]
    },
    {
      "cell_type": "code",
      "metadata": {
        "id": "CAK0eLhG1KvZ"
      },
      "source": [
        "# Build a linear model specification\n",
        "lm_spec <- \n",
        "  # Type\n",
        "  linear_reg() %>% \n",
        "  # Engine\n",
        "  set_engine(\"lm\") %>% \n",
        "  # Mode\n",
        "  set_mode(\"regression\")"
      ],
      "execution_count": null,
      "outputs": []
    },
    {
      "cell_type": "markdown",
      "metadata": {
        "id": "ohdZDUl51PMN"
      },
      "source": [
        "After a model has been *specified*, the model can be `estimated` or `trained` using the [`fit()`](https://tidymodels.github.io/parsnip/reference/fit.html) function, typically using a symbolic description of the model (a formula) and some data.\n",
        "\n",
        "> `rentals ~ .` means we'll fit `rentals` as the predicted quantity, explained by all the predictors/features ie, `.`\n"
      ]
    },
    {
      "cell_type": "code",
      "metadata": {
        "id": "f1oti9_J1VR2"
      },
      "source": [
        "# Train a linear regression model\n",
        "lm_mod <- lm_spec %>% \n",
        "  fit(rentals ~ ., data = bike_train)\n",
        "\n",
        "# Print the model object\n",
        "lm_mod"
      ],
      "execution_count": null,
      "outputs": []
    },
    {
      "cell_type": "markdown",
      "metadata": {
        "id": "LObySKT71bES"
      },
      "source": [
        "So, these are the coefficients that the model learned during training.\n",
        "\n",
        "### Evaluate the Trained Model\n",
        "\n",
        "It's time to see how the model performed 📏!\n",
        "\n",
        "How do we do this? Simple! Now that we've trained the model, we can use it to predict rental counts for the features we held back in our validation dataset using [parsnip::predict()](https://parsnip.tidymodels.org/reference/predict.model_fit.html). Then we can compare these predictions to the actual label values to evaluate how well (or not!) the model is working."
      ]
    },
    {
      "cell_type": "code",
      "metadata": {
        "id": "o2L-sNjR1fx9"
      },
      "source": [
        "# Predict rentals for the test set and bind it to the test_set\n",
        "results <- bike_test %>% \n",
        "  bind_cols(lm_mod %>% \n",
        "    # Predict rentals\n",
        "    predict(new_data = bike_test) %>% \n",
        "      rename(predictions = .pred))\n",
        "\n",
        "# Compare predictions\n",
        "results %>% \n",
        "  select(c(rentals, predictions)) %>% \n",
        "  slice_head(n = 10)"
      ],
      "execution_count": null,
      "outputs": []
    },
    {
      "cell_type": "markdown",
      "metadata": {
        "id": "kOw-kZdi1nbP"
      },
      "source": [
        "Comparing each prediction with its corresponding \"ground truth\" actual value isn't a very efficient way to determine how well the model is predicting. Let's see if we can get a better indication by visualizing a scatter plot that compares the predictions to the actual labels. We'll also overlay a trend line to get a general sense for how well the predicted labels align with the true labels."
      ]
    },
    {
      "cell_type": "code",
      "metadata": {
        "id": "hkOrgqux1svU"
      },
      "source": [
        "# Visualise the results\n",
        "results %>% \n",
        "  ggplot(mapping = aes(x = rentals, y = predictions)) +\n",
        "  geom_point(size = 1.6, color = \"steelblue\") +\n",
        "  # Overlay a regression line\n",
        "  geom_smooth(method = \"lm\", se = F, color = 'magenta') +\n",
        "  ggtitle(\"Daily Bike Share Predictions\") +\n",
        "  xlab(\"Actual Labels\") +\n",
        "  ylab(\"Predicted Labels\") +\n",
        "  theme(plot.title = element_text(hjust = 0.5))"
      ],
      "execution_count": null,
      "outputs": []
    },
    {
      "cell_type": "markdown",
      "metadata": {
        "id": "Zlwq0oyf1w_8"
      },
      "source": [
        "<br> 🕵 📈There's a definite *diagonal trend*, and the intersections of the predicted and actual values are generally following the path of the trend line; but there's a fair amount of difference between the ideal function represented by the line and the results. This variance represents the *residuals* of the model - in other words, the difference between the label predicted when the model applies the coefficients it learned during training to the validation data, and the actual value of the validation label. These residuals when evaluated from the validation data indicate the expected level of *error* when the model is used with new data for which the label is unknown.\n",
        "\n",
        "You can quantify the residuals by calculating a number of commonly used evaluation metrics. We'll focus on the following three:\n",
        "\n",
        "-   `Mean Square Error (MSE)`: The mean of the squared differences between predicted and actual values. This yields a relative metric in which the smaller the value, the better the fit of the model\n",
        "\n",
        "-   `Root Mean Square Error (RMSE)`: The square root of the MSE. This yields an absolute metric in the same unit as the label (in this case, numbers of rentals). The smaller the value, the better the model (in a simplistic sense, it represents the average number of rentals by which the predictions are wrong!)\n",
        "\n",
        "-   `Coefficient of Determination (usually known as R-squared or R2)`: A relative metric in which the higher the value, the better the fit of the model. In essence, this metric represents how much of the variance between predicted and actual label values the model is able to explain.\n",
        "\n",
        "> [`yardstick`](https://yardstick.tidymodels.org/) is a package in the Tidymodels, used to estimate how well models are working based on the predictions it made for the validation data. You can find out more about these and other metrics for evaluating regression models in the [Metric types documentation](https://yardstick.tidymodels.org/articles/metric-types.html)."
      ]
    },
    {
      "cell_type": "code",
      "metadata": {
        "id": "UZcY8nXK16UL"
      },
      "source": [
        "# Multiple regression metrics\n",
        "eval_metrics <- metric_set(rmse, rsq)\n",
        "\n",
        "# Evaluate RMSE, R2 based on the results\n",
        "eval_metrics(data = results,\n",
        "             truth = rentals,\n",
        "             estimate = predictions) %>% \n",
        "  select(-2)"
      ],
      "execution_count": null,
      "outputs": []
    },
    {
      "cell_type": "markdown",
      "metadata": {
        "id": "hhHb2k3N2GIv"
      },
      "source": [
        "Great job 🙌! So now we've quantified the ability of our model to predict the number of rentals. It definitely has *some* predictive power, but we can probably do better!"
      ]
    },
    {
      "cell_type": "markdown",
      "metadata": {
        "id": "au4_i95D2PPa"
      },
      "source": [
        "## 3. Summoning more powerful regression algorithms ![](images/parsnip_l.png){width=\"25\"}\n",
        "\n",
        "The linear regression algorithm we used to train the model has some predictive capability, but there are many kinds of regression algorithm we could try, including:\n",
        "\n",
        "-   **Linear algorithms**: Not just the Linear Regression algorithm we used above (which is technically an *Ordinary Least Squares* algorithm), but other variants such as *Lasso* and *Ridge*.\n",
        "\n",
        "-   **Tree-based algorithms**: Algorithms that build a decision tree to reach a prediction.\n",
        "\n",
        "-   **Ensemble algorithms**: Algorithms that combine the outputs of multiple base algorithms to improve generalizability.\n",
        "\n",
        "> **Note**: See a full list of parsnip [model types and engines](https://www.tidymodels.org/find/parsnip/#models) and explore [model arguments](https://www.tidymodels.org/find/parsnip/#model-args).\n",
        ">\n",
        "> [Machine Learning for Social Scientists](https://cimentadaj.github.io/ml_socsci/tree-based-methods.html#boosting) provides a very good explanation and introduction to the what we just discussed above. I would highly recommend it!\n",
        "\n",
        "#### Try Another Linear Algorithm\n",
        "\n",
        "Let's try training our regression model by using a `Lasso` (**least absolute shrinkage and selection operator**) algorithm. In Tidymodels, we can do this easily by just changing the model specification then the rest is a breeze😎!\n",
        "\n",
        "Here we'll set up one model specification for lasso regression; I picked a value for `penalty` (sort of randomly) and I set `mixture = 1` for lasso (When mixture = 1, it is a pure lasso model).\n",
        "\n",
        "For convenience, we'll rewrite the whole code from splitting data to evaluating model performance."
      ]
    },
    {
      "cell_type": "code",
      "metadata": {
        "id": "qKgu4dt32iCQ"
      },
      "source": [
        "# Split 70% of the data for training and the rest for tesing\n",
        "set.seed(2056)\n",
        "bike_split <- bike_select %>% \n",
        "  initial_split(prop = 0.7, strata = holiday)\n",
        "\n",
        "# Extract the data in each split\n",
        "bike_train <- training(bike_split)\n",
        "bike_test <- testing(bike_split)\n",
        "\n",
        "# Build a lasso model specification\n",
        "lasso_spec <-\n",
        "  # Type\n",
        "  linear_reg(penalty = 1, mixture = 1) %>% \n",
        "  # Engine\n",
        "  set_engine('glmnet') %>% \n",
        "  # Mode\n",
        "  set_mode('regression')\n",
        "\n",
        "# Train a lasso regression model\n",
        "lasso_mod <- lasso_spec %>% \n",
        "  fit(rentals ~ ., data = bike_train)\n",
        "\n",
        "# Make predictions for test data\n",
        "results <- bike_test %>% \n",
        "  bind_cols(lasso_mod %>% predict(new_data = bike_test) %>% \n",
        "              rename(predictions = .pred))\n",
        "\n",
        "# Evaluate the model\n",
        "lasso_metrics <- eval_metrics(data = results,\n",
        "                                    truth = rentals,\n",
        "                                    estimate = predictions) %>%\n",
        "  select(-2)\n",
        "\n",
        "\n",
        "# Plot predicted vs actual\n",
        "lasso_plt <- results %>% \n",
        "  ggplot(mapping = aes(x = rentals, y = predictions)) +\n",
        "  geom_point(size = 1.6, color = 'darkorchid') +\n",
        "  # overlay regression line\n",
        "  geom_smooth(method = 'lm', color = 'black', se = F) +\n",
        "  ggtitle(\"Daily Bike Share Predictions\") +\n",
        "  xlab(\"Actual Labels\") +\n",
        "  ylab(\"Predicted Labels\") +\n",
        "  theme(plot.title = element_text(hjust = 0.5))\n",
        "\n",
        "# Return evaluations\n",
        "list(lasso_metrics, lasso_plt)"
      ],
      "execution_count": null,
      "outputs": []
    },
    {
      "cell_type": "markdown",
      "metadata": {
        "id": "kgzlrHbG3KdG"
      },
      "source": [
        "🤔 Hmmmm... Not much of an improvement. We could improve the performance metrics by estimating the right regularization hyperparameter `penalty`. This can be figured out by using `resampling` and `tuning` the model which we'll discuss in just a few.\n",
        "\n",
        "#### Try a Decision Tree Algorithm\n",
        "\n",
        "As an alternative to a linear model, there's a category of algorithms for machine learning that uses a `tree-based` approach in which the features in the dataset are examined in a series of evaluations, each of which results in a *branch* in a *decision tree* based on the feature value. At the end of each series of branches are leaf-nodes with the predicted label value based on the feature values.\n",
        "\n",
        "> *The [Decision Trees Chapter](https://bradleyboehmke.github.io/HOML/DT.html) in Hands-on Machine Learning with R will provide you with a strong foundation in decision trees.*\n",
        "\n",
        "\\\n",
        "It's easiest to see how this works with an example. Let's train a Decision Tree regression model using the bike rental data. After training the model, the code below will print the model definition and a text representation of the tree it uses to predict label values."
      ]
    },
    {
      "cell_type": "code",
      "metadata": {
        "id": "1JggjbaH3NAN"
      },
      "source": [
        "# Build a decision tree specification\n",
        "tree_spec <- decision_tree() %>% \n",
        "  set_engine('rpart') %>% \n",
        "  set_mode('regression')\n",
        "\n",
        "# Train a decision tree model \n",
        "tree_mod <- tree_spec %>% \n",
        "  fit(rentals ~ ., data = bike_train)\n",
        "\n",
        "# Print model\n",
        "tree_mod\n"
      ],
      "execution_count": null,
      "outputs": []
    },
    {
      "cell_type": "markdown",
      "metadata": {
        "id": "TcbdaShY3U0h"
      },
      "source": [
        "So now we have a tree-based model; but is it any good? Let's evaluate it with the test data."
      ]
    },
    {
      "cell_type": "code",
      "metadata": {
        "id": "Mn6Deoxr3ZQD"
      },
      "source": [
        "# Make predictions for test data\n",
        "results <- bike_test %>% \n",
        "  bind_cols(tree_mod %>% predict(new_data = bike_test) %>% \n",
        "              rename(predictions = .pred))\n",
        "\n",
        "# Evaluate the model\n",
        "tree_metrics <- eval_metrics(data = results,\n",
        "                                  truth = rentals,\n",
        "                                  estimate = predictions) %>% \n",
        "  select(-2)\n",
        "\n",
        "\n",
        "# Plot predicted vs actual\n",
        "tree_plt <- results %>% \n",
        "  ggplot(mapping = aes(x = rentals, y = predictions)) +\n",
        "  geom_point(color = 'tomato') +\n",
        "  # overlay regression line\n",
        "  geom_smooth(method = 'lm', color = 'steelblue', se = F) +\n",
        "  ggtitle(\"Daily Bike Share Predictions\") +\n",
        "  xlab(\"Actual Labels\") +\n",
        "  ylab(\"Predicted Labels\") +\n",
        "  theme(plot.title = element_text(hjust = 0.5))\n",
        "\n",
        "# Return evaluations\n",
        "list(tree_metrics, tree_plt)\n"
      ],
      "execution_count": null,
      "outputs": []
    },
    {
      "cell_type": "markdown",
      "metadata": {
        "id": "zpQjEfQL3egU"
      },
      "source": [
        "Our decision tree really failed to generalize 🤦. We can see that it's predicting constant values for a given range of predictors. We could probably improve this by tuning the model's `hyperparameters`. We'll see this in just a bit.\n",
        "\n",
        "#### Try an Ensemble Algorithm\n",
        "\n",
        "Ensemble algorithms work by combining multiple base estimators to produce an optimal model, either by applying an *aggregate function* to a collection of base models (sometimes referred to a `bagging`) or by building a sequence of models that build on one another to improve predictive performance (referred to as `boosting`).\n",
        "\n",
        "For example, let's try a Random Forest model, which applies an averaging function to multiple Decision Tree models for a better overall model."
      ]
    },
    {
      "cell_type": "code",
      "metadata": {
        "id": "k8z3Ysr33siN"
      },
      "source": [
        "# Build a random forest model specification\n",
        "rf_spec <- rand_forest() %>% \n",
        "  set_engine('randomForest') %>% \n",
        "  set_mode('regression')\n",
        "\n",
        "# Train a random forest model \n",
        "rf_mod <- rf_spec %>% \n",
        "  fit(rentals ~ ., data = bike_train)\n",
        "\n",
        "\n",
        "# Print model\n",
        "rf_mod"
      ],
      "execution_count": null,
      "outputs": []
    },
    {
      "cell_type": "markdown",
      "metadata": {
        "id": "krWpl5PD3wAR"
      },
      "source": [
        "So now we have a random forest model; but is it any good? Let's evaluate it with the test data.\n"
      ]
    },
    {
      "cell_type": "code",
      "metadata": {
        "id": "TYA1yKv_3x1X"
      },
      "source": [
        "# Make predictions for test data\n",
        "results <- bike_test %>% \n",
        "  bind_cols(rf_mod %>% predict(new_data = bike_test) %>% \n",
        "              rename(predictions = .pred))\n",
        "\n",
        "# Evaluate the model\n",
        "rf_metrics <- eval_metrics(data = results,\n",
        "                                  truth = rentals,\n",
        "                                  estimate = predictions) %>% \n",
        "  select(-2)\n",
        "\n",
        "\n",
        "# Plot predicted vs actual\n",
        "rf_plt <- results %>% \n",
        "  ggplot(mapping = aes(x = rentals, y = predictions)) +\n",
        "  geom_point(color = '#6CBE50FF') +\n",
        "  # overlay regression line\n",
        "  geom_smooth(method = 'lm', color = '#2B7FF9FF', se = F) +\n",
        "  ggtitle(\"Daily Bike Share Predictions\") +\n",
        "  xlab(\"Actual Labels\") +\n",
        "  ylab(\"Predicted Labels\") +\n",
        "  theme(plot.title = element_text(hjust = 0.5))\n",
        "\n",
        "# Return evaluations\n",
        "list(rf_metrics, rf_plt)"
      ],
      "execution_count": null,
      "outputs": []
    },
    {
      "cell_type": "markdown",
      "metadata": {
        "id": "E-jzCa1c33Si"
      },
      "source": [
        "🤩 Whoa! That's a step in the right direction.\n",
        "\n",
        "Let's also try a *boosting* ensemble algorithm. We'll use a `Gradient Boosting` estimator, which like a Random Forest algorithm builds multiple trees, but instead of building them all independently and taking the average result, each tree is `built` on the `outputs` of the `previous one` in an attempt to incrementally reduce the *loss* (error) in the model.\n",
        "\n",
        "> *The [Gradient Boosting](https://bradleyboehmke.github.io/HOML/gbm.html) chapter in Hands-on Machine Learning with R, will provide you with the fundamentals to understanding Gradient Boosting Machines.*\n",
        "\n",
        "In this tutorial, we'll demonstrate how to implement *Gradient Boosting Machines* using the **xgboost** engine."
      ]
    },
    {
      "cell_type": "code",
      "metadata": {
        "id": "HDXiovl-4BHJ"
      },
      "source": [
        "# Build an xgboost model specification\n",
        "boost_spec <- boost_tree() %>% \n",
        "  set_engine('xgboost') %>% \n",
        "  set_mode('regression')\n",
        "\n",
        "# Train an xgboost model \n",
        "boost_mod <- boost_spec %>% \n",
        "  fit(rentals ~ ., data = bike_train)\n",
        "\n",
        "\n",
        "# Print model\n",
        "boost_mod\n"
      ],
      "execution_count": null,
      "outputs": []
    },
    {
      "cell_type": "markdown",
      "metadata": {
        "id": "fFEUnfxg4FnX"
      },
      "source": [
        "From the output, we actually see that Gradient Boosting Machines combine a series of base models, each of which is created sequentially and depends on the previous models, in an attempt to incrementally reduce the error in the model.\n",
        "\n",
        "So now we have an XGboost model; but is it any good🤷? Again, let's evaluate it with the test data."
      ]
    },
    {
      "cell_type": "code",
      "metadata": {
        "id": "3g5Tz6Cz4dbq"
      },
      "source": [
        "# Make predictions for test data\n",
        "results <- bike_test %>% \n",
        "  bind_cols(boost_mod %>% predict(new_data = bike_test) %>% \n",
        "              rename(predictions = .pred))\n",
        "\n",
        "# Evaluate the model\n",
        "boost_metrics <- eval_metrics(data = results,\n",
        "                                  truth = rentals,\n",
        "                                  estimate = predictions) %>% \n",
        "  select(-2)\n",
        "\n",
        "\n",
        "# Plot predicted vs actual\n",
        "boost_plt <- results %>% \n",
        "  ggplot(mapping = aes(x = rentals, y = predictions)) +\n",
        "  geom_point(color = '#4D3161FF') +\n",
        "  # overlay regression line\n",
        "  geom_smooth(method = 'lm', color = 'black', se = F) +\n",
        "  ggtitle(\"Daily Bike Share Predictions\") +\n",
        "  xlab(\"Actual Labels\") +\n",
        "  ylab(\"Predicted Labels\") +\n",
        "  theme(plot.title = element_text(hjust = 0.5))\n",
        "\n",
        "# Return evaluations\n",
        "list(boost_metrics, boost_plt)"
      ],
      "execution_count": null,
      "outputs": []
    },
    {
      "cell_type": "markdown",
      "metadata": {
        "id": "6ml56XbV4mJ9"
      },
      "source": [
        "Okay not bad👌! We are definitely getting somewhere. Can we do better? Let's take a look at `Data Preprocessing` and `model hyperparameters`.\n",
        "\n",
        "## 4. Recipes and Workflows\n",
        "\n",
        "### Preprocess the Data using recipes ![](images/logo_recipe.png){width=\"30\"}\n",
        "\n",
        "We trained a model with data that was loaded straight from a source file, with only moderately successful results. In practice, it's common to perform some preprocessing of the data to make it easier for the algorithm to fit a model to it.\n",
        "\n",
        "In this section, we'll explore another tidymodels package, [recipes](https://tidymodels.github.io/recipes/), which is designed to help you preprocess your data *before* training your model. A recipe is an object that defines a series of steps for data processing.\n",
        "\n",
        "There's a huge range of preprocessing transformations you can perform to get your data ready for modeling, but we'll limit ourselves to a few common techniques:\n",
        "\n",
        "#### Scaling numeric features\n",
        "\n",
        "Normalizing numeric features so they're on the same scale prevents features with large values from producing coefficients that disproportionately affect the predictions. For example, suppose your data includes the following numeric features:\n",
        "\n",
        "|  A  |  B  |  C  |\n",
        "|:---:|:---:|:---:|\n",
        "|  3  | 480 | 65  |\n",
        "\n",
        "Normalizing these features to the same scale may result in the following values (assuming A contains values from 0 to 10, B contains values from 0 to 1000, and C contains values from 0 to 100):\n",
        "\n",
        "|  A  |  B   |  C   |\n",
        "|:---:|:----:|:----:|\n",
        "| 0.3 | 0.48 | 0.65 |\n",
        "\n",
        "There are multiple ways you can scale numeric data, such as calculating the minimum and maximum values for each column and assigning a proportional value between 0 and 1, or by using the mean and standard deviation of a normally distributed variable to maintain the same *spread* of values on a different scale.\n",
        "\n",
        "#### Encoding categorical variables\n",
        "\n",
        "This involves translating a column with categorical values into one or more numeric columns that take the place of the original.\n",
        "\n",
        "Machine learning models work best with numeric features rather than text values, so you generally need to convert categorical features into numeric representations. For example, suppose your data includes the following categorical feature.\n",
        "\n",
        "| Size |\n",
        "|:----:|\n",
        "|  S   |\n",
        "|  M   |\n",
        "|  L   |\n",
        "\n",
        "You can apply *ordinal encoding* to substitute a unique integer value for each category, like this:\n",
        "\n",
        "| Size |\n",
        "|:----:|\n",
        "|  0   |\n",
        "|  1   |\n",
        "|  2   |\n",
        "\n",
        "Another common technique is to create \"*dummy*\" or *indicator variables* which replace the original categorical feature with numeric columns whose values are either 1 or 0. This can be shown as:\n",
        "\n",
        "| Raw Data |  M  |  L  |\n",
        "|:--------:|:---:|:---:|\n",
        "|    S     |  0  |  0  |\n",
        "|    M     |  1  |  0  |\n",
        "|    L     |  0  |  1  |\n",
        "\n",
        "In R, the convention is to *exclude* a column for the first factor level (`S`, in this case). The reasons for this include `simplicity` and reducing `linear dependencies`. The full set of encodings can be used for some models. This is traditionally called the \"one-hot\" encoding and can be achieved using the `one_hot` argument of `step_dummy()`.\n",
        "\n",
        "> The chapter [Feature engineering with recipes](https://www.tmwr.org/recipes.html) in *`Tidy Modeling with R`* contains more information on how to transform and encode data for modelling.\n",
        "\n",
        "Now, let's bike forth and create some recipes ​🔪​**🚴!**"
      ]
    },
    {
      "cell_type": "code",
      "metadata": {
        "id": "Xy69CrDh41IY"
      },
      "source": [
        "# Specify a recipe\n",
        "bike_recipe <- recipe(rentals ~ ., data = bike_train) %>% \n",
        "  step_normalize(all_numeric_predictors()) %>% \n",
        "  step_dummy(all_nominal_predictors()) \n",
        "\n",
        "bike_recipe\n",
        "\n",
        "\n",
        "# Summary of the recipe\n",
        "summary(bike_recipe)"
      ],
      "execution_count": null,
      "outputs": []
    },
    {
      "cell_type": "markdown",
      "metadata": {
        "id": "1lKqpDxi47lU"
      },
      "source": [
        "We just created our first recipe containing an outcome and its corresponding predictors, with the numeric predictors normalized and the nominal predictors converted to a quantitative format 🙌! Let's quickly break it down:\n",
        "\n",
        "-   The call to `recipe()` with a formula tells the recipe the *roles* of the variables (e.g., predictor, outcome) using `bike_train` data as the reference. This can be seen from the results of `summary(bike_recipe)`\n",
        "\n",
        "-   `step_normalize(all_numeric_predictors())` specifies that all numeric predictors should be normalized.\n",
        "\n",
        "-   `step_dummy(all_nominal_predictors())` specifies that all predictors that are currently factor or charactor should be converted to a quantitative format (1s/0s).\n",
        "\n",
        "Great! Now that we have a recipe, the next step would be to create a model specification (which we already did). In this case, let's recreate an `xgboost` model specification. Tree based models created using the xgboost engine typically require one to create dummy variables.\n",
        "\n",
        "> The chapter [Recommended preprocessing](https://www.tmwr.org/pre-proc-table.html) in Tidy Modelling with R provides preprocessing recommendations that are needed for various modelling functions."
      ]
    },
    {
      "cell_type": "code",
      "metadata": {
        "id": "ymPttkRd5iIr"
      },
      "source": [
        "boost_spec <- boost_tree() %>% \n",
        "  set_engine('xgboost') %>% \n",
        "  set_mode('regression')"
      ],
      "execution_count": null,
      "outputs": []
    },
    {
      "cell_type": "markdown",
      "metadata": {
        "id": "B16tKla65jX5"
      },
      "source": [
        "\"Wait!\", you'll say, \"How do we combine this model specification with the data preprocessing we need to do from our recipe? 🤔\"\n",
        "\n",
        "Well, welcome to modelling `workflows` 😊. This is what we'd call *pipelines* in *Python*.\n",
        "\n",
        "### Bundling it all together using a workflow ![](images/workflow_logo.png){width=\"28\" height=\"32\"}.\n",
        "\n",
        "The [**workflows**](https://workflows.tidymodels.org/) package allows the user to bind modeling and preprocessing objects together. You can then fit the entire workflow to the data, so that the model encapsulates all of the preprocessing steps as well as the algorithm.\n"
      ]
    },
    {
      "cell_type": "code",
      "metadata": {
        "id": "PeieLL0r6D9R"
      },
      "source": [
        "# Create the workflow\n",
        "boost_workflow <- workflow() %>% \n",
        "  add_recipe(bike_recipe) %>% \n",
        "  add_model(boost_spec)\n",
        "\n",
        "boost_workflow"
      ],
      "execution_count": null,
      "outputs": []
    },
    {
      "cell_type": "markdown",
      "metadata": {
        "id": "WfP3c-hC6f_G"
      },
      "source": [
        "The `workflow` object provides quite an informative summary of the preprocessing steps that will be done by the recipe and also the model specification 👌👌. Into the bargain, a **`workflow()`** can be fit in much the same way a model can."
      ]
    },
    {
      "cell_type": "code",
      "metadata": {
        "id": "A8Uall5I6g-u"
      },
      "source": [
        "# Train the model\n",
        "boost_workflow <- boost_workflow %>% \n",
        "  fit(data = bike_train)\n",
        "\n",
        "boost_workflow"
      ],
      "execution_count": null,
      "outputs": []
    },
    {
      "cell_type": "markdown",
      "metadata": {
        "id": "TPtsqvM-6mMZ"
      },
      "source": [
        "Now that we have our *fitted workflow*, how do we make some predictions🔮? `predict()` can be used on a workflow in the same way as on a model!\n",
        "\n",
        "Now, let's make some predictions on the first 6 observations of our test set."
      ]
    },
    {
      "cell_type": "code",
      "metadata": {
        "id": "KjZhUi4N6rgl"
      },
      "source": [
        "boost_workflow %>% \n",
        "  predict(new_data = bike_test %>% dplyr::slice(1:6))"
      ],
      "execution_count": null,
      "outputs": []
    },
    {
      "cell_type": "markdown",
      "metadata": {
        "id": "HpIJOZ886w7B"
      },
      "source": [
        "How convenient workflows are!💁\n",
        "\n",
        "So probably you may be wondering why we haven't made predictions on the whole test set, evaluated performance and created some pretty graphs. We'll get right into that, but first, let's address a more pressing issue; a boosted tree's specification:"
      ]
    },
    {
      "cell_type": "code",
      "metadata": {
        "id": "O5TYfxhd61-2"
      },
      "source": [
        "args(boost_tree)"
      ],
      "execution_count": null,
      "outputs": []
    },
    {
      "cell_type": "markdown",
      "metadata": {
        "id": "8i8G98y_65Co"
      },
      "source": [
        "Those are a lot of model arguments: `mtry`, `trees`, `min_n`, `tree_depth`, `learn_rate`, `loss_reduction`, `sample_size`, `stop_iter` 🤯🤯!\n",
        "\n",
        "Now, this begs the question:\n",
        "\n",
        "how do we know what values we should use?🤔\n",
        "\n",
        "This brings us to `model tuning`.\n",
        "\n",
        "## 5. Tune model hyperparameters ![](images/tune_logo.png){width=\"25\" height=\"29\"}\n",
        "\n",
        "Models have parameters with unknown values that must be estimated in order to use the model for predicting. Some model parameters cannot be learned directly from a dataset during model training; these kinds of parameters are called **hyperparameters** or **tuning parameters**.\n",
        "\n",
        "Instead of learning these kinds of hyperparameters during model training, we can *estimate* the *best values* for these by training many models on a `simulated data set` and measuring how well all these models perform. This process is called **tuning**.\n",
        "\n",
        "> Simple models with small datasets can often be fit in a single step, while larger datasets and more complex models tend to achieve better results by fitting repeatedly using simulated data. If the prediction is accurate enough, we consider the model trained. If not, we adjust the model slightly and loop again.\n",
        "\n",
        "We won't go into the details of each hyperparameter, but they work together to affect the way the algorithm trains a model. For instance in boosted trees,\n",
        "\n",
        "-   `min_n` forces the tree to discard any node that has a number of observations below your specified minimum.\n",
        "\n",
        "-   tuning the value of `mtry` controls the number of variables that will be used at each split of a decision tree.\n",
        "\n",
        "-   tuning `tree_depth`, on the other hand, helps by [stopping](https://bradleyboehmke.github.io/HOML/DT.html#early-stopping) our tree from growing after it reaches a certain depth - [Tune model parameters](https://www.tidymodels.org/start/tuning/), Tidymodels Get Started.\n",
        "\n",
        "-   `Learning rate`, sets how much a model is adjusted during each training cycle. A high learning rate means a model can be trained faster, but if it's too high the adjustments can be so large that the model is never 'finely tuned' and not optimal - [Microsoft Learn](https://docs.microsoft.com/en-us/learn/modules/train-evaluate-regression-models/6-improve-models), Build Machine Learning Models.\n",
        "\n",
        "In many cases, the default values provided by Tidymodels will work well (see the defaults by typing `help(\"boost_tree\")` on your console); but there may be some advantage in modifying hyperparameters to get better predictive performance or reduce training time.\n",
        "\n",
        "So how do you know what hyperparameter values you should use? Well, in the absence of a deep understanding of how the underlying algorithm works, you'll need to experiment. Fortunately, Tidymodels provides a way to *tune* hyperparameters by trying multiple combinations and finding the best result for a given performance metric.\n",
        "\n",
        "> [Machine Learning for Social Scientists](https://cimentadaj.github.io/ml_socsci/tree-based-methods.html#boosting) provides a very good explanation and introduction to Tree based models e.g Decision trees, Random Forests, Boosted trees etc. I would highly recommend it!\n"
      ]
    },
    {
      "cell_type": "markdown",
      "metadata": {
        "id": "dfS2d-hS7R1U"
      },
      "source": [
        "#### Identify tuning parameters.\n",
        "\n",
        "How can we signal to tidymodels functions which arguments (in our case `cost_complexity`, `tree_depth`, `min_n`) should be optimized? Parameters are marked for tuning by assigning them a value of `tune()`.\n",
        "\n",
        "Next let's build our model specification with some tuning and then put our recipe and model specification together in a **`workflow()`**, for ease of use."
      ]
    },
    {
      "cell_type": "code",
      "metadata": {
        "id": "LI4IlPQ98r5u"
      },
      "source": [
        "# Specify a recipe\n",
        "bike_recipe <- recipe(rentals ~ ., data = bike_train) %>% \n",
        "  step_normalize(all_numeric_predictors()) %>% \n",
        "  step_dummy(all_nominal_predictors()) \n",
        "\n",
        "\n",
        "# Make a tunable model specification\n",
        "boost_spec <- boost_tree(trees = 50,\n",
        "                         tree_depth = tune(),\n",
        "                         learn_rate = tune()) %>% \n",
        "  set_engine('xgboost') %>% \n",
        "  set_mode('regression')\n",
        "\n",
        "\n",
        "# Bundle a recipe and model spec using a workflow\n",
        "boost_workflow <- workflow() %>% \n",
        "  add_recipe(bike_recipe) %>% \n",
        "  add_model(boost_spec)\n",
        "\n",
        "boost_workflow"
      ],
      "execution_count": null,
      "outputs": []
    },
    {
      "cell_type": "markdown",
      "metadata": {
        "id": "yyfg3Ov480Jz"
      },
      "source": [
        "#### Create a tuning grid.\n",
        "\n",
        "Good job! Now that we have specified what parameter to tune, we'll need to figure out a set of possible values to try out then choose the best.\n",
        "\n",
        "To do this, we'll create a grid! To tune our hyperparameters, we need a set of possible values for each parameter to try. In this case study, we'll work through a regular grid of hyperparameter values."
      ]
    },
    {
      "cell_type": "code",
      "metadata": {
        "id": "R1UVdkCJ9MZk"
      },
      "source": [
        "# Create a grid of tuning parameters\n",
        "tree_grid <- grid_regular(tree_depth(),\n",
        "                          # Use default ranges if you are not sure\n",
        "                          learn_rate(range = c(0.01, 0.3),trans = NULL),\n",
        "                          levels = 5)\n",
        "\n",
        "# Display some of the penalty values that will be used for tuning \n",
        "tree_grid"
      ],
      "execution_count": null,
      "outputs": []
    },
    {
      "cell_type": "markdown",
      "metadata": {
        "id": "dqYmfhy-9f88"
      },
      "source": [
        "The function [`grid_regular()`](https://tidymodels.github.io/dials/reference/grid_regular.html) is from the [dials](https://tidymodels.github.io/dials/) package. It chooses sensible values to try for each hyperparameter; here, we asked for 5 of each. Since we have two to tune, `grid_regular()` returns 5×5 = 25 different possible tuning combinations to try in a tidy tibble format.\n",
        "\n",
        "#### Let's sample our data.\n",
        "\n",
        "As we pointed out earlier, hyperparameters cannot be learned directly from the training set. Instead, they are estimated using simulated data sets created from a process called resampling. One resampling approach is `cross-validation`.\n",
        "\n",
        "Cross-validation involves taking your training set and randomly dividing it up evenly into `V` subsets/folds. You then use one of the folds for validation and the rest for training, then you repeat these steps with all the subsets and combine the results, usually by taking the mean. This is just one round of cross-validation. Sometimes practictioners do this more than once, perhaps 5 times."
      ]
    },
    {
      "cell_type": "code",
      "metadata": {
        "id": "M3-0W7Z29tNk"
      },
      "source": [
        "set.seed(1020)\n",
        "# 5 fold CV repeated once\n",
        "bike_folds <- vfold_cv(data = bike_train, v = 5, repeats = 1)"
      ],
      "execution_count": null,
      "outputs": []
    },
    {
      "cell_type": "markdown",
      "metadata": {
        "id": "ww1-_t6N9wUl"
      },
      "source": [
        "#### Time to tune\n",
        "\n",
        "Now, it's time to tune the grid to find out which penalty results in the best performance!\n"
      ]
    },
    {
      "cell_type": "code",
      "metadata": {
        "id": "eWt5sHub96SX"
      },
      "source": [
        "doParallel::registerDoParallel()\n",
        "\n",
        "# Model tuning via grid search\n",
        "set.seed(2020)\n",
        "tree_grid <- tune_grid(\n",
        "  object = boost_workflow,\n",
        "  resamples = bike_folds,\n",
        "  grid = tree_grid\n",
        ")"
      ],
      "execution_count": null,
      "outputs": []
    },
    {
      "cell_type": "markdown",
      "metadata": {
        "id": "3B88VNAE9_-u"
      },
      "source": [
        "#### Visualize tuning results\n",
        "\n",
        "Now that we have trained models for many possible penalty parameter, let's explore the results.\n",
        "\n",
        "As a first step, we'll use the function **`collect_metrics()`** to extract the performance metrics from the tuning results.\n"
      ]
    },
    {
      "cell_type": "code",
      "metadata": {
        "id": "YBT9nSev-CBL"
      },
      "source": [
        "# Extract performance metrics\n",
        "tree_grid %>% \n",
        "  collect_metrics() %>% \n",
        "  slice_head(n = 5)"
      ],
      "execution_count": null,
      "outputs": []
    },
    {
      "cell_type": "markdown",
      "metadata": {
        "id": "qt_YxbRp-IkS"
      },
      "source": [
        "Once we have our tuning results, we can both explore them through visualization and then select the best result."
      ]
    },
    {
      "cell_type": "code",
      "metadata": {
        "id": "W-IWjWUA-LYu"
      },
      "source": [
        "# Visualize the results\n",
        "tree_grid %>% \n",
        "  collect_metrics() %>% \n",
        "  mutate(tree_depth = factor(tree_depth)) %>% \n",
        "  ggplot(mapping = aes(x = learn_rate, y = mean,\n",
        "                       color = tree_depth)) +\n",
        "  geom_line(size = 0.6) +\n",
        "  geom_point(size = 2) +\n",
        "  facet_wrap(~ .metric, scales = 'free', nrow = 2)+\n",
        "  scale_color_viridis_d(option = \"plasma\", begin = .9, end = 0)"
      ],
      "execution_count": null,
      "outputs": []
    },
    {
      "cell_type": "markdown",
      "metadata": {
        "id": "zCWaWHEC-OwC"
      },
      "source": [
        "We can see that our \"stubbiest\" tree, with a depth of 1, is the worst model according to both metrics (rmse, rsq) and across all candidate values of `learn_rate`. A tree depth of 4 and a learn_rate of around 0.1 seems to do the trick! Let's investigate these tuning parameters further. We can use `show_best()` to display the top sub-models and their performance estimates."
      ]
    },
    {
      "cell_type": "code",
      "metadata": {
        "id": "SprB12Kl-UZI"
      },
      "source": [
        "tree_grid %>% \n",
        "  show_best('rmse')"
      ],
      "execution_count": null,
      "outputs": []
    },
    {
      "cell_type": "markdown",
      "metadata": {
        "id": "7RgD7Viy-XnF"
      },
      "source": [
        "We can then use `select_best()` to find the tuning parameter combination with the best performance values."
      ]
    },
    {
      "cell_type": "code",
      "metadata": {
        "id": "Un0hIG7c-ala"
      },
      "source": [
        "best_tree <- tree_grid %>% \n",
        "  select_best('rmse')\n",
        "\n",
        "best_tree"
      ],
      "execution_count": null,
      "outputs": []
    },
    {
      "cell_type": "markdown",
      "metadata": {
        "id": "88-bhAtv-dsU"
      },
      "source": [
        "## 6. Finalizing our model\n",
        "\n",
        "Now that we have the best performance values, we can use `tune::finalize_workflow()` to update (or \"finalize\") our workflow object with the best estimate values for tree_depth and learn_rate.\n"
      ]
    },
    {
      "cell_type": "code",
      "metadata": {
        "id": "JVCLOx8Y-iSB"
      },
      "source": [
        "# Update workflow\n",
        "final_wf <- boost_workflow %>% \n",
        "  finalize_workflow(best_tree)\n",
        "\n",
        "final_wf"
      ],
      "execution_count": null,
      "outputs": []
    },
    {
      "cell_type": "markdown",
      "metadata": {
        "id": "N4DWJoda-5MI"
      },
      "source": [
        "Our tuning is done! 🥳 We have updated our workflow with the best estimated hyperparameter values!\n",
        "\n",
        "#### The last fit: back to our test set.\n",
        "\n",
        "Finally, let's return to our test data and estimate the model performance we expect to see with new data. We can use the function [`last_fit()`](https://tidymodels.github.io/tune/reference/last_fit.html) with our finalized model; this function *fits* the finalized model on the full training data set and *evaluates* the finalized model on the testing data."
      ]
    },
    {
      "cell_type": "code",
      "metadata": {
        "id": "AJIstI78_FrH"
      },
      "source": [
        "# Make a last fit\n",
        "final_fit <- final_wf %>% \n",
        "  last_fit(bike_split)\n",
        "\n",
        "\n",
        "# Collect metrics\n",
        "final_fit %>% \n",
        "  collect_metrics()"
      ],
      "execution_count": null,
      "outputs": []
    },
    {
      "cell_type": "markdown",
      "metadata": {
        "id": "ObW6yymn_Glg"
      },
      "source": [
        "How's that for a tune 🎶 ​💃​🕺​​​! Also, there seems to be some improvement in the evaluation metrics compared to using the default values for *learn_rate* and *tree_depth* hyperparameters. Now, we leave it to you to explore how tuning the other hyperparameters affects the model performance.\n",
        "\n",
        "We've now seen a number of common techniques used to train predictive models for regression. In a real project, you'd likely try a few more algorithms, hyperparameters, and preprocessing transformations; but by now you should have got the general idea of the procedure to follow. You can explore the [reference docs](https://www.tidymodels.org/find/parsnip/#models), or use the `args()` function to see which parsnip object arguments are available.\n",
        "\n",
        "> Use this [Tidymodels reference page](https://www.tidymodels.org/find/parsnip/#models) to explore model types and engines and to explore model arguments.\n",
        "\n",
        "Let's now explore how you can use the trained model with new data.\n",
        "\n",
        "#### Use the Trained Model\n",
        "\n",
        "We'll begin by saving our model but first, let's extract the *trained workflow* object from `final_fit` object."
      ]
    },
    {
      "cell_type": "code",
      "metadata": {
        "id": "0eQsZcWi_MBf"
      },
      "source": [
        "# Extract trained workflow\n",
        "bike_boost_model <- final_fit$.workflow[[1]]\n"
      ],
      "execution_count": null,
      "outputs": []
    },
    {
      "cell_type": "markdown",
      "metadata": {
        "id": "ewrveZj2_PWj"
      },
      "source": [
        "Now, we can save this model to be used later.\n"
      ]
    },
    {
      "cell_type": "code",
      "metadata": {
        "id": "T32h5hjx_Z5j"
      },
      "source": [
        "# Save trained workflow\n",
        "saveRDS(bike_boost_model, 'bike_boost_model.rds')"
      ],
      "execution_count": null,
      "outputs": []
    },
    {
      "cell_type": "markdown",
      "metadata": {
        "id": "W2IDpsnN_dTe"
      },
      "source": [
        "Now, we can load it whenever we need it, and use it to predict labels for new data. This is often called *`scoring`* or *`inferencing`*.\n",
        "\n",
        "For example, lets try and predict some values from our test set using the saved model."
      ]
    },
    {
      "cell_type": "code",
      "metadata": {
        "id": "F598Abc9_gwA"
      },
      "source": [
        "# Extract predictors\n",
        "bike_new <- bike_test %>% \n",
        "  slice_tail(n = 10)\n",
        "\n",
        "# Load the model\n",
        "loaded_model <- readRDS(\"bike_boost_model.rds\")\n",
        "\n",
        "\n",
        "# Use the model to predict rentals\n",
        "results <- bike_new %>% \n",
        "  bind_cols(loaded_model %>% predict(new_data = bike_new))\n",
        "\n",
        "results\n"
      ],
      "execution_count": null,
      "outputs": []
    },
    {
      "cell_type": "markdown",
      "metadata": {
        "id": "C0_AAsOL_pFl"
      },
      "source": [
        "PeRfect!🐱 All is well that ends with a working model, time to end the cycle **🚴**!\n"
      ]
    },
    {
      "cell_type": "markdown",
      "metadata": {
        "id": "P5PZe_WJ_s-W"
      },
      "source": [
        "## 7. Summary\n",
        "\n",
        "We need a bRake, don't we? 😅 We hope you had a wheelie good time!\n",
        "\n",
        "In this module, we learnt how regression can be used to create a machine learning model that predicts numeric values. We cycled off by doing some Exploratory Data Analysis using the `Tidyverse` then we used the `Tidymodels` framework in `R` to train and evaluate a regression model using different algorithms, do some data preprocessing, tuned some hyperparameters and made better predictions.\n",
        "\n",
        "While `Tidymodels` and `scikit-learn` (Python) are popular framework for writing code to train regression models, you can also create machine learning solutions for regression using the graphical tools in Microsoft Azure Machine Learning. You can learn more about no-code development of regression models using Azure Machine Learning in the [Create a Regression Model with Azure Machine Learning designer](https://docs.microsoft.com/en-us/learn/modules/create-regression-model-azure-machine-learning-designer/) module.\n",
        "\n",
        "#### **Challenge: Predict Real Estate Prices**\n",
        "\n",
        "Think you're ready to create your own regression model? Try the challenge of predicting real estate property prices in the [02 - Real Estate Regression Challenge.ipynb](https://github.com/MicrosoftDocs/ml-basics/blob/master/challenges/02%20-%20Real%20Estate%20Regression%20Challenge.ipynb) notebook! Find the data [here](https://github.com/MicrosoftDocs/ml-basics/tree/master/challenges/data).\n",
        "\n",
        "#### THANK YOU TO:\n",
        "\n",
        "`Allison Horst` for creating the amazing illustrations that make R more welcoming and engaging. Find more illustrations at her [gallery](https://www.google.com/url?q=https://github.com/allisonhorst/stats-illustrations&sa=D&source=editors&ust=1626380772530000&usg=AOvVaw3zcfyCizFQZpkSLzxiiQEM).\n",
        "\n",
        "`Bethany`, *Gold Microsoft Learn Student Ambassador*, for the valuable feedback and suggestions.\n",
        "\n",
        "#### FURTHER READING\n",
        "\n",
        "-   Max Kuhn and Julia Silge, [*Tidy Modeling with R*](https://www.tmwr.org/)*.*\n",
        "\n",
        "-   Kuhn, M, and K Johnson. 2013. *Applied Predictive Modeling*. Springer.\n",
        "\n",
        "-   Bradley Boehmke & Brandon Greenwell, [*Hands-On Machine Learning with R*](https://bradleyboehmke.github.io/HOML/)*.*\n",
        "\n",
        "-   Jorge Cimentada, [*Machine Learning for Social Scientists*](https://cimentadaj.github.io/ml_socsci/)*.*\n",
        "\n",
        "-   Tidy models [reference website](https://www.tidymodels.org/start/).\n",
        "\n",
        "-   H. Wickham and G. Grolemund, [*R for Data Science: Visualize, Model, Transform, Tidy, and Import Data*](https://r4ds.had.co.nz/).\n",
        "\n",
        "Be sure to join us in the next R module where we'll slice and dice some classification algorithms.\n",
        "\n",
        "Till then ...\n",
        "\n",
        "Happy leaRning,\n",
        "\n",
        "[Eric (R_ic)](https://twitter.com/ericntay), *Gold Microsoft Learn Student Ambassador*.\n",
        "\n",
        "\n",
        "![Artwork by \\@allison_horst](images/r_learners_sm.jpeg){width=\"569\"}"
      ]
    }
  ]
}