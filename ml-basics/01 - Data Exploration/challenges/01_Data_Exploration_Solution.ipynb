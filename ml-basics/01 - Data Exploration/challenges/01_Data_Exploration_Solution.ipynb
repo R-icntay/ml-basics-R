{
    "cells": [
        {
            "cell_type": "markdown",
            "metadata": {},
            "source": [
                "## **Flights Data Exploration Challenge**\n",
                "\n",
                "A significant part of a a data scientist's role is to explore, analyze, and visualize data. In this challenge, you'll explore a real-world dataset containing flights data from the US Department of Transportation.\n",
                "\n",
                "Let's start by loading the required packages.\n"
            ]
        },
        {
            "cell_type": "code",
            "execution_count": null,
            "metadata": {},
            "outputs": [],
            "source": [
                "# Load the packages in the tidyverse into the current R session\n",
                "suppressPackageStartupMessages({\n",
                "  library(tidyverse)\n",
                "  library(summarytools)\n",
                "  })\n"
            ]
        },
        {
            "cell_type": "markdown",
            "metadata": {},
            "source": [
                "Now, we can import the into R and start doing some data science on it!\n",
                "\n"
            ]
        },
        {
            "cell_type": "code",
            "execution_count": null,
            "metadata": {},
            "outputs": [],
            "source": [
                "# Load and view the data\n",
                "df_flights <- read_csv(\"https://raw.githubusercontent.com/MicrosoftDocs/ml-basics/master/challenges/data/flights.csv\", show_col_types = FALSE)\n",
                "\n",
                "df_flights %>% \n",
                "  slice_head(n = 7)\n"
            ]
        },
        {
            "cell_type": "markdown",
            "metadata": {},
            "source": [
                "The dataset contains observations of US domestic flights in 2013, and consists of the following fields:\n",
                "\n",
                "-   **Year**: The year of the flight (all records are from 2013)\n",
                "\n",
                "-   **Month**: The month of the flight\n",
                "\n",
                "-   **DayofMonth**: The day of the month on which the flight departed\n",
                "\n",
                "-   **DayOfWeek**: The day of the week on which the flight departed - from 1 (Monday) to 7 (Sunday)\n",
                "\n",
                "-   **Carrier**: The two-letter abbreviation for the airline.\n",
                "\n",
                "-   **OriginAirportID**: A unique numeric identifier for the departure aiport\n",
                "\n",
                "-   **OriginAirportName**: The full name of the departure airport\n",
                "\n",
                "-   **OriginCity**: The departure airport city\n",
                "\n",
                "-   **OriginState**: The departure airport state\n",
                "\n",
                "-   **DestAirportID**: A unique numeric identifier for the destination aiport\n",
                "\n",
                "-   **DestAirportName**: The full name of the destination airport\n",
                "\n",
                "-   **DestCity**: The destination airport city\n",
                "\n",
                "-   **DestState**: The destination airport state\n",
                "\n",
                "-   **CRSDepTime**: The scheduled departure time\n",
                "\n",
                "-   **DepDelay**: The number of minutes departure was delayed (flight that left ahead of schedule have a negative value)\n",
                "\n",
                "-   **DelDelay15**: A binary indicator that departure was delayed by more than 15 minutes (and therefore considered \"late\")\n",
                "\n",
                "-   **CRSArrTime**: The scheduled arrival time\n",
                "\n",
                "-   **ArrDelay**: The number of minutes arrival was delayed (flight that arrived ahead of schedule have a negative value)\n",
                "\n",
                "-   **ArrDelay15**: A binary indicator that arrival was delayed by more than 15 minutes (and therefore considered \"late\")\n",
                "\n",
                "-   **Cancelled**: A binary indicator that the flight was cancelled\n",
                "\n",
                "Your challenge is to explore the flight data to analyze possible factors that affect delays in departure or arrival of a flight.\n",
                "\n",
                "1.  Start by cleaning the data.\n",
                "\n",
                "    -   Identify any null or missing data, and impute appropriate replacement values.\n",
                "\n",
                "    -   Identify and eliminate any outliers in the **DepDelay** and **ArrDelay** columns.\n",
                "\n",
                "2.  Explore the cleaned data.\n",
                "\n",
                "    -   View summary statistics for the numeric fields in the dataset.\n",
                "\n",
                "    -   Determine the distribution of the **DepDelay** and **ArrDelay** columns.\n",
                "\n",
                "    -   Use statistics, aggregate functions, and visualizations to answer the following questions:\n",
                "\n",
                "        -   *What are the average (mean) departure and arrival delays?*\n",
                "\n",
                "        -   *How do the carriers compare in terms of arrival delay performance?*\n",
                "\n",
                "        -   *Is there a noticable difference in arrival delays for different days of the week?*\n",
                "\n",
                "        -   *Which departure airport has the highest average departure delay?*\n",
                "\n",
                "        -   *Do **late** departures tend to result in longer arrival delays than on-time departures?*\n",
                "\n",
                "        -   *Which route (from origin airport to destination airport) has the most **late** arrivals?*\n",
                "\n",
                "        -   *Which route has the highest average arrival delay?*\n",
                "\n",
                "Sometimes, when we have a lot of columns in our data, it may difficult to get a grip of the data at first sight using `slice_head`\n",
                "\n",
                "`glimpse` produces a transposed version where columns run down the page, and data runs across. This makes it possible to see every column in a data frame. Into the bargain, it also shows the dimension of the tibble and underlying data types of the columns.\n"
            ]
        },
        {
            "cell_type": "code",
            "execution_count": null,
            "metadata": {},
            "outputs": [],
            "source": [
                "# Get a glimpse of your data\n",
                "df_flights %>% \n",
                "  glimpse()\n"
            ]
        },
        {
            "cell_type": "markdown",
            "metadata": {},
            "source": [
                "## Clean missing values\n",
                "\n",
                "Once you have imported your data, it is always a good idea to clean it. Sadly, this is often chronically underestimated, yet it's a fundamental step required for the subsequent operations in data analysis.\n",
                "\n",
                "Let's find how many null values there are for each column.\n"
            ]
        },
        {
            "cell_type": "code",
            "execution_count": null,
            "metadata": {},
            "outputs": [],
            "source": [
                "# Find how many null values there are for each column.\n",
                "colSums(is.na(df_flights))\n"
            ]
        },
        {
            "cell_type": "markdown",
            "metadata": {},
            "source": [
                "Hmm, looks like there are some NA (missing values) `late departure` indicators. Departures are considered late if the delay is 15 minutes or more, so let's see the delays for the ones with an NA late indicator:\n",
                "\n"
            ]
        },
        {
            "cell_type": "code",
            "execution_count": null,
            "metadata": {},
            "outputs": [],
            "source": [
                "# Filter the tibble to obtain rows where there is a missing value\n",
                "# and then select DepDelay and DepDel15 columns\n",
                "df_flights %>% \n",
                "  filter(rowSums(is.na(.)) > 0) %>% \n",
                "  select(DepDelay,DepDel15) %>% \n",
                "  slice_head(n = 20)\n"
            ]
        },
        {
            "cell_type": "markdown",
            "metadata": {},
            "source": [
                "We can't see them all in this display, but from the first 20 observations, it looks like they may all have delay of 0. Let's check by looking at the summary statistics for these records:\n",
                "\n"
            ]
        },
        {
            "cell_type": "code",
            "execution_count": null,
            "metadata": {},
            "outputs": [],
            "source": [
                "# Get summary statistics using summary function\n",
                "df_flights %>% \n",
                "  filter(rowSums(is.na(.)) > 0) %>% \n",
                "  select(DepDelay) %>%\n",
                "  summary()\n"
            ]
        },
        {
            "cell_type": "markdown",
            "metadata": {},
            "source": [
                "The min, max, and mean are all 0; so it seems that none of these were actually *late* departures. Let's replace the missing values in **DepDel15** column with a 0 and confirm there are no more missing values.\n",
                "\n"
            ]
        },
        {
            "cell_type": "code",
            "execution_count": null,
            "metadata": {},
            "outputs": [],
            "source": [
                "# Replace missing values in DepDel15 with 0\n",
                "df_flights <- df_flights %>% \n",
                "  mutate(DepDel15 = replace_na(DepDel15, 0))\n",
                "\n",
                "# Confirm there are no missing values\n",
                "anyNA(df_flights)\n"
            ]
        }
    ],
    "metadata": {
        "anaconda-cloud": "",
        "kernelspec": {
            "display_name": "R",
            "langauge": "R",
            "name": "ir"
        },
        "language_info": {
            "codemirror_mode": "r",
            "file_extension": ".r",
            "mimetype": "text/x-r-source",
            "name": "R",
            "pygments_lexer": "r",
            "version": "3.4.1"
        }
    },
    "nbformat": 4,
    "nbformat_minor": 1
}
