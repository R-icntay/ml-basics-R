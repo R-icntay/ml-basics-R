{
    "cells": [
        {
            "cell_type": "markdown",
            "metadata": {},
            "source": [
                "## Exploring data with R - real world data\n",
                "\n",
                "Last time, we looked at grades for our student data, and investigated this visually with histograms and box plots. Now we will look into more complex cases, describe the data more fully, and discuss how to make basic comparisons between data.\n",
                "\n",
                "### Real world data distributions\n",
                "\n",
                "Last time, we looked at grades for our student data, and estimated from this sample what the full population of grades might look like. Just to refresh, lets take a look at this data again.\n"
            ]
        },
        {
            "cell_type": "code",
            "execution_count": null,
            "metadata": {},
            "outputs": [],
            "source": [
                "# Load the required packages into the current R session\n",
                "library(tidyverse)\n",
                "library(patchwork)\n",
                "library(statip)\n",
                "library(glue)\n"
            ]
        },
        {
            "cell_type": "markdown",
            "metadata": {},
            "source": [
                "Let's take a look at the Grade distribution again, shall we?\n",
                "\n"
            ]
        },
        {
            "cell_type": "code",
            "execution_count": null,
            "metadata": {},
            "outputs": [],
            "source": [
                "# Read a CSV file into a tibble\n",
                "df_students <- read_csv(file = \"https://raw.githubusercontent.com/MicrosoftDocs/ml-basics/master/data/grades.csv\")\n",
                "\n",
                "# Remove any rows with missing data\n",
                "df_students <- df_students %>% \n",
                "  drop_na()\n",
                "\n",
                "# Add a column \"Pass\" that specifies if a student passed or failed\n",
                "# Assuming '60' is the grade needed to pass\n",
                "df_students <- df_students %>% \n",
                "  mutate(Pass = Grade >= 60)\n",
                "\n",
                "# Create a function that we can reuse\n",
                "show_distribution <- function(var_data, binwidth) {\n",
                "  \n",
                "  # Get summary statistics by first extracting values from the column\n",
                "  min_val <- min(pull(var_data))\n",
                "  max_val <- max(pull(var_data))\n",
                "  mean_val <- mean(pull(var_data))\n",
                "  med_val <- median(pull(var_data))\n",
                "  mod_val <- statip::mfv(pull(var_data))\n",
                "\n",
                "  # Print the stats\n",
                "  stats <- glue(\n",
                "  'Minimum: {format(round(min_val, 2), nsmall = 2)}\n",
                "   Mean: {format(round(mean_val, 2), nsmall = 2)}\n",
                "   Median: {format(round(med_val, 2), nsmall = 2)}\n",
                "   Mode: {format(round(mod_val, 2), nsmall = 2)}\n",
                "   Maximum: {format(round(max_val, 2), nsmall = 2)}'\n",
                "  )\n",
                "  \n",
                "  theme_set(theme_light())\n",
                "  # Plot the histogram\n",
                "  hist_gram <- ggplot(var_data) +\n",
                "  geom_histogram(aes(x = pull(var_data)), binwidth = binwidth,\n",
                "                 fill = \"midnightblue\", alpha = 0.7, boundary = 0.4) +\n",
                "    \n",
                "  # Add lines for the statistics\n",
                "  geom_vline(xintercept = min_val, color = 'gray33', linetype = \"dashed\", size = 1.3) +\n",
                "  geom_vline(xintercept = mean_val, color = 'cyan', linetype = \"dashed\", size = 1.3) +\n",
                "  geom_vline(xintercept = med_val, color = 'red', linetype = \"dashed\", size = 1.3 ) +\n",
                "  geom_vline(xintercept = mod_val, color = 'yellow', linetype = \"dashed\", size = 1.3 ) +\n",
                "  geom_vline(xintercept = max_val, color = 'gray33', linetype = \"dashed\", size = 1.3 ) +\n",
                "    \n",
                "  # Add titles and labels\n",
                "  ggtitle('Data Distribution') +\n",
                "  xlab('')+\n",
                "  ylab('Frequency') +\n",
                "  theme(plot.title = element_text(hjust = 0.5))\n",
                "  \n",
                "  # Plot the box plot\n",
                "  bx_plt <- ggplot(data = var_data) +\n",
                "  geom_boxplot(mapping = aes(x = pull(var_data), y = 1),\n",
                "               fill = \"#E69F00\", color = \"gray23\", alpha = 0.7) +\n",
                "    \n",
                "    # Add titles and labels\n",
                "  xlab(\"Value\") +\n",
                "  ylab(\"\") +\n",
                "  theme(plot.title = element_text(hjust = 0.5))\n",
                "  \n",
                "  \n",
                "  # To return multiple outputs, use a `list`\n",
                "  return(\n",
                "    \n",
                "    list(stats,\n",
                "         hist_gram / bx_plt)) # End of returned outputs\n",
                "  \n",
                "} # End of function\n",
                "\n",
                "\n",
                "# Call the function\n",
                "show_distribution(var_data = select(df_students, Grade), binwidth = 20)\n"
            ]
        },
        {
            "cell_type": "markdown",
            "metadata": {},
            "source": [
                "As you might recall, our data had the mean and mode at the center, with data spread symmetrically from there.\n",
                "\n",
                "Now let's take a look at the distribution of the study hours data.\n"
            ]
        },
        {
            "cell_type": "code",
            "execution_count": null,
            "metadata": {},
            "outputs": [],
            "source": [
                "# Get the variable to examine\n",
                "col <- df_students %>% \n",
                "  select(StudyHours)\n",
                "\n",
                "# Call the function\n",
                "show_distribution(var_data = col, binwidth = 2)\n"
            ]
        },
        {
            "cell_type": "markdown",
            "metadata": {},
            "source": [
                "The distribution of the study time data is significantly different from that of the grades.\n",
                "\n",
                "Note that the whiskers of the box plot only begin at around 6.0, indicating that the vast majority of the first quarter of the data is above this value. The minimum is marked with an **o**, indicating that it is statistically an *outlier* - a value that lies significantly outside the range of the rest of the distribution.\n",
                "\n",
                "Outliers can occur for many reasons. Maybe a student meant to record \"10\" hours of study time, but entered \"1\" and missed the \"0\". Or maybe the student was abnormally lazy when it comes to studying! Either way, it's a statistical anomaly that doesn't represent a typical student. Let's see what the distribution looks like without it.\n"
            ]
        },
        {
            "cell_type": "code",
            "execution_count": null,
            "metadata": {},
            "outputs": [],
            "source": [
                "# Get the variable to examine without outliers\n",
                "# We will only get students who have studied more than one hour\n",
                "col <- df_students %>% \n",
                "  select(StudyHours) %>% \n",
                "  filter(StudyHours > 1)\n",
                "\n",
                "\n",
                "# Call the function\n",
                "show_distribution(var_data = col, binwidth = 2.4)\n"
            ]
        },
        {
            "cell_type": "markdown",
            "metadata": {},
            "source": [
                "For learning purposes we have just treated the value **1** is a true outlier here and excluded it. In the real world, though, it would be unusual to exclude data at the extremes without more justification when our sample size is so small. This is because the smaller our sample size, the more likely it is that our sampling is a bad representation of the whole population (here, the population means grades for all students, not just our 22). For example, if we sampled study time for another 1000 students, we might find that it's actually quite common to not study much!\n",
                "\n",
                "When we have more data available, our sample becomes more reliable. This makes it easier to consider outliers as being *values that fall below or above percentiles within which most of the data lie*. For example, the following code uses the inbuilt `stats::quantile()` function to exclude observations below the 0.01th percentile (the value above which 99% of the data reside).\n"
            ]
        },
        {
            "cell_type": "code",
            "execution_count": null,
            "metadata": {},
            "outputs": [],
            "source": [
                "# Produce a quantile corresponding to 1%\n",
                "q01 <- df_students %>% \n",
                "  pull(StudyHours) %>% \n",
                "  quantile(probs = 1/100, names = FALSE)\n",
                "\n",
                "# Get the variable to examine\n",
                "col <- df_students %>% \n",
                "  select(StudyHours) %>% \n",
                "  filter(StudyHours > q01)\n",
                "  \n",
                "# Call the function\n",
                "show_distribution(var_data = col, binwidth = 2.4)\n"
            ]
        },
        {
            "cell_type": "markdown",
            "metadata": {},
            "source": [
                "> **Tip:** *You can also eliminate outliers at the upper end of the distribution by defining a threshold at a high percentile value - for example, you could use the `stats::quantile()` function to find the 0.99 percentile below which 99% of the data reside.*\n",
                "\n",
                "With the outliers removed, the box plot shows all data within the four quartiles. Note that the distribution is not symmetric like it is for the grade data though - there are some students with very high study times of around 16 hours, but the bulk of the data is between 7 and 13 hours; The few extremely high values pull the mean towards the higher end of the scale.\n",
                "\n",
                "Let's look at the density for this distribution.\n"
            ]
        },
        {
            "cell_type": "code",
            "execution_count": null,
            "metadata": {},
            "outputs": [],
            "source": [
                "# Create a function that returns a density plot\n",
                "show_density <- function(var_data) {\n",
                "  \n",
                "  # Get statistics\n",
                "  mean_val <- mean(pull(var_data))\n",
                "  med_val <- median(pull(var_data))\n",
                "  mod_val <- statip::mfv(pull(var_data))\n",
                "  \n",
                "  \n",
                "  # Plot the density plot\n",
                "  density_plot <- ggplot(data = var_data) +\n",
                "  geom_density(aes(x = pull(var_data)), fill=\"orangered\", color=\"white\", alpha=0.4) +\n",
                "    \n",
                "  # Add lines for the statistics\n",
                "  geom_vline(xintercept = mean_val, color = 'cyan', linetype = \"dashed\", size = 1.3) +\n",
                "  geom_vline(xintercept = med_val, color = 'red', linetype = \"dashed\", size = 1.3 ) +\n",
                "  geom_vline(xintercept = mod_val, color = 'yellow', linetype = \"dashed\", size = 1.3 ) +\n",
                "    \n",
                "  # Add titles and labels\n",
                "  ggtitle('Data Density') +\n",
                "  xlab('') +\n",
                "  ylab('Density') +\n",
                "  theme(plot.title = element_text(hjust = 0.5))\n",
                "  \n",
                "  \n",
                "  \n",
                "  return(density_plot) # End of returned outputs\n",
                "  \n",
                "} # End of function\n",
                "\n",
                "\n",
                "# Get the density of Studyhours\n",
                "show_density(var_data = col)\n"
            ]
        },
        {
            "cell_type": "markdown",
            "metadata": {},
            "source": [
                "This kind of distribution is called *right skewed*. The mass of the data is on the left side of the distribution, creating a long tail to the right because of the values at the extreme high end; which pull the mean to the right.\n",
                "\n",
                "#### **Measures of variance**\n",
                "\n",
                "So now we have a good idea where the middle of the grade and study hours data distributions are. However, there's another aspect of the distributions we should examine: how much variability is there in the data?\n",
                "\n",
                "Typical statistics that measure variability in the data include:\n",
                "\n",
                "-   **Range**: The difference between the maximum and minimum. There's no built-in function for this, but it's easy to calculate using the **min** and **max** functions. Another approach would be to use Base R's `base::range()` which returns a vector containing the *minimum* and *maximum* of all the given arguments. Wrapping this in `base::diff()` will get you well on your way to finding the range.\n",
                "\n",
                "-   **Variance**: The average of the squared difference from the mean. You can use the built-in **var** function to find this.\n",
                "\n",
                "-   **Standard Deviation**: The square root of the variance. You can use the built-in **sd** function to find this.\n"
            ]
        },
        {
            "cell_type": "code",
            "execution_count": null,
            "metadata": {},
            "outputs": [],
            "source": [
                "# Select columns to analyze the measure of variance\n",
                "cols <- df_students %>%\n",
                "  select(c(Grade, StudyHours))\n",
                "\n",
                "# Apply a function to each column in cols\n",
                "map(cols, function(column){\n",
                "  rng <- diff(range(column)) # --> same as: max(column) - min(column)\n",
                "  var <- var(column)\n",
                "  std <- sd(column)\n",
                "  glue(\n",
                "  '\n",
                "  - Range: {format(round(rng, 2), nsmall = 2)}\n",
                "  - Variance : {format(round(var, 2), nsmall = 2)}\n",
                "  - Std.Dev : {format(round(std, 2), nsmall = 2)}',\n",
                "  .sep = '\\n')\n",
                "})\n"
            ]
        },
        {
            "cell_type": "markdown",
            "metadata": {},
            "source": [
                "> [`map()`](https://purrr.tidyverse.org/reference/map.html) functions allow you to replace many for loops with code that is both more succinct and easier to read.\n",
                "\n",
                "Of these statistics, the standard deviation is generally the most useful. It provides a measure of variance in the data on the same scale as the data itself (so grade points for the Grade distribution and hours for the StudyHours distribution). The higher the standard deviation, the more variance there is when comparing values in the distribution to the distribution mean - in other words, the data is more spread out.\n",
                "\n",
                "When working with a *normal* distribution, the standard deviation works with the particular characteristics of a normal distribution to provide even greater insight. This can be summarized using the `68–95–99.7 rule`, also known as the `empirical rule`which is described as follows:\n",
                "\n",
                "In any normal distribution:\n",
                "\n",
                "-   Approximately 68.26% of values fall within one standard deviation from the mean.\n",
                "\n",
                "-   Approximately 95.45% of values fall within two standard deviations from the mean.\n",
                "\n",
                "-   Approximately 99.73% of values fall within three standard deviations from the mean.\n",
                "\n",
                "As a quick detour, let's see verify that the distribution of grades follows a normal distribution.\n"
            ]
        },
        {
            "cell_type": "code",
            "execution_count": null,
            "metadata": {},
            "outputs": [],
            "source": [
                "# Get the variable to examine\n",
                "col <- df_students %>% \n",
                "  select(Grade)\n",
                "\n",
                "# Get the mean grade\n",
                "mean_grade <- mean(pull(col))\n",
                "\n",
                "# Get the standard deviation of grades\n",
                "std_dev <- sd(pull(col))\n",
                "\n",
                "# Find proportion that will fall within 1 standard deviation\n",
                "one_std_dev <- pnorm((mean_grade + std_dev), mean = mean_grade, sd = std_dev) -\n",
                "  pnorm((mean_grade - std_dev), mean = mean_grade, sd = std_dev)\n",
                "\n",
                "# Find proportion that will fall within 2 standard deviation\n",
                "two_std_dev <- pnorm((mean_grade + (2*std_dev)), mean = mean_grade, sd = std_dev) - \n",
                "  pnorm((mean_grade - (2*std_dev)), mean = mean_grade, sd = std_dev)\n",
                "\n",
                "# Find proportion that will fall within 3 standard deviation\n",
                "three_std_dev <- pnorm((mean_grade + (3*std_dev)), mean = mean_grade, sd = std_dev) - \n",
                "  pnorm((mean_grade - (3*std_dev)), mean = mean_grade, sd = std_dev)\n",
                "\n",
                "glue(\n",
                "  '\n",
                "  {format(round(one_std_dev*100, 2), nsmall = 2)}% of grades fall within one standard deviation from the mean.\n",
                "  {format(round(two_std_dev*100, 2), nsmall = 2)}% of grades fall within one standard deviation from the mean.\n",
                "  {format(round(three_std_dev*100, 2), nsmall = 2)}% of grades fall within one standard deviation from the mean.\n",
                "  \n",
                "  '\n",
                ")\n"
            ]
        },
        {
            "cell_type": "markdown",
            "metadata": {},
            "source": [
                "There is no doubt that the distribution of grades indeed follows a normal distribution!\n",
                "\n",
                "There is no doubt that the distribution of grades indeed follows a normal distribution!\n",
                "\n",
                "Wouldn't hurt if we showed this graphically right? Instead of using `geom_density`, we'll manually calculate the density of the `Grade` column and then use the results to whip up a density plot. We'll then fill the density plot depending on the number of standard deviations from the mean.\n"
            ]
        },
        {
            "cell_type": "code",
            "execution_count": null,
            "metadata": {},
            "outputs": [],
            "source": [
                "# Get the Grade column\n",
                "col <- df_students %>% \n",
                "  select(Grade)\n",
                "\n",
                "# Compute kernel density estimates\n",
                "density <- density(pull(col), kernel = \"gaussian\")\n",
                "\n",
                "# Create a dataframe containing coordinates where density is estimated\n",
                "#and the corresponding estimated value\n",
                "density_xy <- tibble(\n",
                "  x = density$x,\n",
                "  y = density$y\n",
                ")\n",
                "\n",
                "# Make density plots for various deviations of the mean\n",
                "\n",
                "plt_sd_1 <- density_xy %>%\n",
                "  ggplot(mapping = aes(x = x, y = y)) +\n",
                "  geom_line() +\n",
                "  geom_area(mapping = aes(x = ifelse(x>(mean_grade-std_dev) & x<(mean_grade+std_dev), x, 0)), fill = \"darkorange\", alpha = 0.8) +\n",
                "  annotate(\"text\", x = 50, y = 0.01, label = \"1 std (68.26%)\") +\n",
                "  xlim(1, max(col))+\n",
                "  geom_vline(xintercept = mean_grade, linetype = \"dashed\") +\n",
                "  labs(x = \"\", y = \"Density\")\n",
                "\n",
                "\n",
                "# 2 std deviations from the mean\n",
                "plt_sd_2 <- density_xy %>%\n",
                "  ggplot(mapping = aes(x = x, y = y)) +\n",
                "  geom_line() +\n",
                "  geom_area(mapping = aes(x = ifelse(x>(mean_grade-(2*std_dev)) & x<(mean_grade+(2*std_dev)), x, 0)), fill = \"purple\", alpha = 0.7) +\n",
                "  annotate(\"text\", x = 50, y = 0.01, label = \"2 std (95.45%)\") +\n",
                "  xlim(1, max(col)) +\n",
                "  geom_vline(xintercept = mean_grade, linetype = \"dashed\") +\n",
                "  labs(x = \"\", y = \"\")\n",
                "\n",
                "\n",
                "# 3 std deviations from the mean\n",
                "plt_sd_3 <- density_xy %>%\n",
                "  ggplot(aes(x = x, y = y)) +\n",
                "  geom_line() +\n",
                "  geom_area(mapping = aes(x = ifelse(x>(mean_grade-(3*std_dev)) & x<(mean_grade+(3*std_dev)), x, 0)), fill = \"cyan4\", alpha = 0.5) +\n",
                "  annotate(\"text\", x = 50, y = 0.01, label = \"3 std (99.73%)\") +\n",
                "  xlim(1, max(col)) +\n",
                "  geom_vline(xintercept = mean_grade, linetype = \"dashed\") +\n",
                "  labs(x = \"Grade\", y = \"\")\n",
                "\n",
                "\n",
                "\n",
                "# Patching things up\n",
                "plt_sd_1| (plt_sd_2/plt_sd_3) \n"
            ]
        },
        {
            "cell_type": "markdown",
            "metadata": {},
            "source": [
                "Since we know that the mean grade is `49.18`, the standard deviation is `21.74`, and distribution of grades is `normal`; we can calculate that `68.26%` of students should achieve a grade between `27.44` and `70.92` as shown in the first plot above.\n",
                "\n",
                "The descriptive statistics we've used to understand the distribution of the student data variables are the basis of statistical analysis; and because they're such an important part of exploring your data, there's a built-in Base R function, `base::summary()`, that returns the result summaries of the results of various objects passed to it.\n"
            ]
        },
        {
            "cell_type": "code",
            "execution_count": null,
            "metadata": {},
            "outputs": [],
            "source": [
                "# Get summary stats of the data frame\n",
                "summary(df_students)\n"
            ]
        },
        {
            "cell_type": "markdown",
            "metadata": {},
            "source": [
                "Of course, with the need for much more robust data exploration and reporting, many packages have been developed for summarizing data.\n",
                "\n",
                "A good example would be the [`summarytools`](https://github.com/dcomtois/summarytools) package. `summarytools::descr()` does a remarkable job at finding statistics for numerical data.\n"
            ]
        },
        {
            "cell_type": "code",
            "execution_count": null,
            "metadata": {},
            "outputs": [],
            "source": [
                "# Get descriptive stats using summary tools package\n",
                "library(summarytools)\n",
                "descr(\n",
                "  df_students,\n",
                "  stats = \"common\"\n",
                ")\n"
            ]
        },
        {
            "cell_type": "markdown",
            "metadata": {},
            "source": [
                "### **Comparing data**\n",
                "\n",
                "Now that you know something about the statistical distribution of the data in your dataset, you're ready to examine your data to identify any apparent relationships between variables.\n",
                "\n",
                "First of all, let's get rid of any rows that contain outliers so that we have a sample that is representative of a typical class of students. We identified that the StudyHours column contains some outliers with extremely low values, so we'll remove those rows.\n"
            ]
        },
        {
            "cell_type": "code",
            "execution_count": null,
            "metadata": {},
            "outputs": [],
            "source": [
                "# Filter to remove outliers\n",
                "df_sample <- df_students %>% \n",
                "  filter(StudyHours > 1)\n"
            ]
        },
        {
            "cell_type": "markdown",
            "metadata": {},
            "source": [
                "The data includes two *numeric* variables (`StudyHours` and `Grade`) and two *categorical* variables (`Name` and `Pass`). In R, categorical variables are usually saved as [factors](https://r4ds.had.co.nz/factors.html) or character vectors.\n",
                "\n",
                "Let's start by comparing the `numeric` *StudyHours* column to the `categorical` *Pass* column to see if there's an apparent relationship between the number of hours studied and a passing grade.\n",
                "\n",
                "To make this comparison, let's create box plots showing the distribution of StudyHours for each possible Pass value (TRUE and FALSE).\n"
            ]
        },
        {
            "cell_type": "code",
            "execution_count": null,
            "metadata": {},
            "outputs": [],
            "source": [
                "# Plot a box plot comparing StudyHours and Pass\n",
                "df_sample %>% \n",
                "  ggplot() +\n",
                "  geom_boxplot(mapping = aes(x = Pass, y = StudyHours, fill = Pass), color = \"gray23\", alpha = 0.7) +\n",
                "  scale_fill_brewer(palette = \"Set1\") +\n",
                "  \n",
                "# Add titles and labels\n",
                "  ggtitle(\"Comparing Pass status and the Study hours\")+\n",
                "  xlab(\"Pass\")+\n",
                "  ylab(\"Study Hours\")+\n",
                "  theme(plot.title = element_text(hjust = 0.5))\n"
            ]
        },
        {
            "cell_type": "markdown",
            "metadata": {},
            "source": [
                "Comparing the StudyHours distributions, it's immediately apparent (if not particularly surprising) that students who `passed` the course tended to `study for more` hours than students who didn't. So if you wanted to predict whether or not a student is likely to pass the course, the amount of time they spend studying may be a good predictive feature.\n",
                "\n",
                "### **Comparing numeric variables**\n",
                "\n",
                "Now let's compare two numeric variables. We'll start by creating a bar chart that shows both grade and study hours.\n",
                "\n",
                "To achieve this, we can first transform our data to a `long` format using `tidyr::pivot_longer()` then play around with the `fill` aesthetic and `position_dodge()` to place overlapping objects directly *beside* one another.\n",
                "\n",
                "Also, we'll try out [`paletter`](https://pmassicotte.github.io/paletteer_gallery/), a collection of most color palettes in a single R package.\n"
            ]
        },
        {
            "cell_type": "code",
            "execution_count": null,
            "metadata": {},
            "outputs": [],
            "source": [
                "# Pivot data from wide to long\n",
                "df_sample_long <- df_sample %>%\n",
                "  select(-Pass) %>%\n",
                "  mutate(Name = fct_reorder(Name, Grade, .desc = TRUE)) %>% \n",
                "  pivot_longer(!Name, names_to = \"Metrics\", values_to = \"Values\")\n",
                "\n",
                "# Show first 10 rows\n",
                "df_sample_long %>% \n",
                "  slice_head(n = 10)\n"
            ]
        },
        {
            "cell_type": "markdown",
            "metadata": {},
            "source": [
                "\n"
            ]
        },
        {
            "cell_type": "code",
            "execution_count": null,
            "metadata": {},
            "outputs": [],
            "source": [
                "# Try out some color palettes\n",
                "library(paletteer)\n",
                "\n",
                "# Compare numeric variables with bar plots\n",
                "ggplot(data = df_sample_long) +\n",
                "  geom_bar(mapping = aes(x = Name, y = Values, fill = Metrics), alpha = 0.7, stat = \"identity\", position = position_dodge(width = 0.9)) +\n",
                "  xlab('Student') +\n",
                "  ylab('') +\n",
                "  scale_fill_paletteer_d(\"calecopal::kelp1\") +\n",
                "  theme(\n",
                "    panel.grid = element_blank(),\n",
                "    panel.grid.major.y = element_line(color = '#95a5a6',\n",
                "                                      linetype = 'dashed',\n",
                "                                      size = 0.5),\n",
                "    axis.text.x = element_text(angle = 90),\n",
                "    legend.title = element_blank()\n",
                "    \n",
                "  )\n"
            ]
        },
        {
            "cell_type": "markdown",
            "metadata": {},
            "source": [
                "The chart shows bars for both grade and study hours for each student; but it's not easy to compare because the values are on different scales. Grades are measured in grade points, and range from 3 to 97; while study time is measured in hours and ranges from 1 to 16.\n",
                "\n",
                "A common technique when dealing with numeric data in different scales is to *normalize* the data so that the values retain their proportional distribution, but are measured on the same scale. To accomplish this, we'll use a technique called *`MinMax`*`scaling` that distributes the values proportionally on a scale of 0 to 1. You could write the code to apply this transformation; but the [**`scales`**](https://scales.r-lib.org/) library provides a scaler (`scales::rescale()`) to do it for you.\n",
                "\n",
                "Good news is that Scales is installed when you install ggplot2 or the tidyverse!\n"
            ]
        },
        {
            "cell_type": "code",
            "execution_count": null,
            "metadata": {},
            "outputs": [],
            "source": [
                "# Load the scales package\n",
                "library(scales)\n",
                "\n",
                "# Normalize the numeric columns\n",
                "# group_by ensures StudyHours and Grade are normalised independently\n",
                "df_normalized <- df_sample_long %>% \n",
                "  group_by(Metrics) %>% \n",
                "  mutate(Values = rescale(Values, to = c(0, 1)))\n",
                "\n",
                "# Show some of the normalized data\n",
                "df_normalized %>% \n",
                "  slice_head(n = 5)\n"
            ]
        },
        {
            "cell_type": "markdown",
            "metadata": {},
            "source": [
                "Good job! Our Grades and StudyHours are now rescaled.\n",
                "\n"
            ]
        },
        {
            "cell_type": "code",
            "execution_count": null,
            "metadata": {},
            "outputs": [],
            "source": [
                "# Compare numeric variables with bar plots\n",
                "ggplot(data = df_normalized) +\n",
                "  geom_bar(mapping = aes(x = Name, y = Values, fill = Metrics), alpha = 0.7, stat = \"identity\", position = position_dodge(width = 0.9)) +\n",
                "  xlab('Student') +\n",
                "  ylab('') +\n",
                "  scale_fill_paletteer_d(\"calecopal::kelp1\") +\n",
                "  theme(\n",
                "    panel.grid = element_blank(),\n",
                "    panel.grid.major.y = element_line(color = '#95a5a6',\n",
                "                                      linetype = 'dashed',\n",
                "                                      size = 0.5),\n",
                "    axis.text.x = element_text(angle = 90),\n",
                "    legend.title = element_blank()\n",
                "    \n",
                "  )\n"
            ]
        },
        {
            "cell_type": "markdown",
            "metadata": {},
            "source": [
                "With the data normalized, it's easier to see an apparent relationship between grade and study time. It's not an exact match, but it definitely seems like students with higher grades tend to have studied more.\n",
                "\n",
                "### \n",
                "\n",
                "Fitting a simple linear regression model\n",
                "\n",
                "From the previous comparisons, there seems to be a correlation between study time and grade; and in fact, there's a statistical *correlation* measurement we can use to quantify the relationship between these columns.\n"
            ]
        },
        {
            "cell_type": "code",
            "execution_count": null,
            "metadata": {},
            "outputs": [],
            "source": [
                "# Compute Pearson Product Moment correlation coefficient\n",
                "cor(df_sample$StudyHours, df_sample$Grade)\n"
            ]
        },
        {
            "cell_type": "markdown",
            "metadata": {},
            "source": [
                "The correlation statistic is a value between -1 and 1 that indicates the strength of a relationship. Values above 0 indicate a *positive* correlation (high values of one variable tend to coincide with high values of the other), while values below 0 indicate a *negative* correlation (high values of one variable tend to coincide with low values of the other). In this case, the correlation value is close to 1; showing a strongly positive correlation between study time and grade.\n",
                "\n",
                "> **Note**: Data scientists often quote the maxim \"*correlation is not causation*\". In other words, as tempting as it might be, you shouldn't interpret the statistical correlation as explaining *why one of the values is high*. In the case of the student data, the statistics demonstrates that students with high grades tend to also have high amounts of study time; but this is not the same as proving that they achieved high grades *because* they studied a lot. The statistic could equally be used as evidence to support the nonsensical conclusion that the students studied a lot *because* their grades were going to be high.\n",
                "\n",
                "Another way to visualize the apparent correlation between two numeric columns is to use a *scatter* plot. With `geom_point`, you'll be well on your way to whipping up a neat scatterplot.\n"
            ]
        },
        {
            "cell_type": "code",
            "execution_count": null,
            "metadata": {},
            "outputs": [],
            "source": [
                "# Create a scatter plot of study hours and grade\n",
                "df_sample %>% \n",
                "  ggplot(aes(x = StudyHours, y = Grade)) +\n",
                "  geom_point() +\n",
                "  ggtitle('Study Time vs Grade') +\n",
                "  theme(plot.title = element_text(hjust = 0.5))\n"
            ]
        },
        {
            "cell_type": "markdown",
            "metadata": {},
            "source": [
                "Again, it looks like there's a discernible pattern in which the students who studied the most hours are also the students who got the highest grades.\n",
                "\n",
                "We can see this more clearly by adding a *regression* line (or a *line of best fit*) to the plot that shows the general trend in the data. To do this, we'll use a statistical technique called *least squares regression*.\n",
                "\n",
                "> **Warning - Math Ahead!**\n",
                ">\n",
                "> Cast your mind back to when you were learning how to solve linear equations in school, and recall that the *slope-intercept* form of a linear equation looks like this:\n",
                ">\n",
                "> `y = mx + b`\n",
                ">\n",
                "> In this equation, *y* and *x* are the coordinate variables, *m* is the slope of the line, and *b* is the y-intercept (where the line goes through the Y-axis).\n",
                ">\n",
                "> In the case of our scatter plot for our student data, we already have our values for *x* (*StudyHours*) and *y* (*Grade*), so we just need to calculate the intercept and slope of the straight line that lies closest to those points. Then we can form a linear equation that calculates a new *y* value on that line for each of our *x* (*StudyHours*) values - to avoid confusion, we'll call this new *y* value *f(x)* (because it's the output from a linear equation ***f***unction based on *x*). The difference between the original *y* (*Grade*) value and the *f(x)* value is the *error* between our regression line and the actual *Grade* achieved by the student. Our goal is to calculate the slope and intercept for a line with the lowest overall error.\n",
                ">\n",
                "> Specifically, we define the overall error by taking the error for each point, squaring it, and adding all the squared errors together. The line of best fit is the line that gives us the lowest value for the sum of the squared errors - hence the name *least squares regression*.\n",
                "\n",
                "Fortunately, you don't need to code the regression calculation yourself - The inbuilt R Stats Package **`stats`** provides the **`lm()`** function to do the hard work for you. lm() takes a formula of the form:\n",
                "\n",
                "`outcome ~ predictor`\n",
                "\n",
                "This returns (among other things) the coefficients you need for the slope equation - slope (*m*) and intercept (*b*) based on a given pair of variable samples you want to compare.\n"
            ]
        },
        {
            "cell_type": "code",
            "execution_count": null,
            "metadata": {},
            "outputs": [],
            "source": [
                "# Drop all columns except Grade and StudyHours\n",
                "df_regression <- df_sample %>% \n",
                "  select(c(Grade, StudyHours))\n",
                "\n",
                "# Fit a linear model\n",
                "lm_df_regression <- lm(Grade ~ StudyHours, data = df_regression)\n",
                "\n",
                "# Get the regression slope and intercept\n",
                "intercept_b <- lm_df_regression$coefficients[1]\n",
                "slope_m <- lm_df_regression$coefficients[2]\n",
                "glue(\n",
                "  'slope: {format(round(slope_m, 4), nsmall = 4)}\n",
                "  y-intercept: {format(round(intercept_b, 4), nsmall = 4)}\n",
                "  so…\n",
                "   f(x) = {format(round(slope_m, 4), nsmall = 4)}x + {format(round(intercept_b, 4), nsmall = 4)}'\n",
                ")\n"
            ]
        },
        {
            "cell_type": "markdown",
            "metadata": {},
            "source": [
                "Now that we have the equation `f(x) = 6.3134x + -17.9164` of the least squares regression line, we can use that to estimate the grade given the amount of hours spent studying.\n",
                "\n"
            ]
        },
        {
            "cell_type": "code",
            "execution_count": null,
            "metadata": {},
            "outputs": [],
            "source": [
                "# Use the function (mx + b) to calculate f(x) for each x (StudyHours) value\n",
                "df_regression <- df_regression %>% \n",
                "  mutate(fx = (slope_m * StudyHours + intercept_b),\n",
                "         error = fx - Grade)\n",
                "\n",
                "\n",
                "# Show data frame\n",
                "df_regression\n"
            ]
        },
        {
            "cell_type": "markdown",
            "metadata": {},
            "source": [
                "We now have a data frame that contains the following values:\n",
                "\n",
                "-   The **StudyHours** for each student.\n",
                "\n",
                "-   The **Grade** achieved by each student.\n",
                "\n",
                "-   The ***f(x)*** value calculated using the regression line coefficients.\n",
                "\n",
                "-   The *error* between the calculated ***f(x)*** value and the actual **Grade** value.\n",
                "\n",
                "Some of the errors, particularly at the extreme ends, are quite large (up to over 17.5 grade points); but in general, the line is pretty close to the actual grades.\n",
                "\n",
                "Now, time to see this visually 📈. We'll create the scatter plot of the sample study hours and grades as before, and then add a line of best fit based on the least squares regression coefficients.\n"
            ]
        },
        {
            "cell_type": "code",
            "execution_count": null,
            "metadata": {},
            "outputs": [],
            "source": [
                "df_sample %>% \n",
                "  ggplot() +\n",
                "  geom_point(aes(x = StudyHours, y = Grade)) +\n",
                "  # Add a line based on the linear model\n",
                "  geom_abline(intercept = intercept_b, slope = slope_m, color = \"springgreen3\", size = 1) +\n",
                "  ggtitle('Study Time vs Grade') +\n",
                "  theme(plot.title = element_text(hjust = 0.5))\n"
            ]
        },
        {
            "cell_type": "markdown",
            "metadata": {},
            "source": [
                "### **Using the regression coefficients for prediction**\n",
                "\n",
                "Now that we have the regression coefficients for the study time and grade relationship, you can use them in a function to estimate the expected grade for a given amount of study.\n"
            ]
        },
        {
            "cell_type": "code",
            "execution_count": null,
            "metadata": {},
            "outputs": [],
            "source": [
                "# Define a function based on our regression coefficients\n",
                "f <- function(x) {\n",
                "  slope_m <-  6.3134\n",
                "  y_intercept_b <-  -17.9164\n",
                "  # y = mx + b\n",
                "  fx <-  slope_m * x + y_intercept_b\n",
                "  return(fx)\n",
                "}\n",
                "\n",
                "# Assume the student studied for 14 hours per week\n",
                "study_time <-  14\n",
                "\n",
                "# Get f(x) for study time\n",
                "prediction <- f(x = study_time)\n",
                "\n",
                "# Grade can't be less than 0 or more than 100\n",
                "expected_grade <- max(0, min(100, prediction))\n",
                "\n",
                "# Print the estimated grade\n",
                "glue(\n",
                "  'Studying for {study_time} hours per week may result in a grade of {format(round(expected_grade))}\n",
                "  ')\n"
            ]
        },
        {
            "cell_type": "markdown",
            "metadata": {},
            "source": [
                "So by applying statistics to sample data, you've determined a `relationship` between study time and grade; and encapsulated that relationship in a `general function` that can be used to `predict` a grade for a given amount of study time.\n",
                "\n",
                "This technique is in fact the basic premise of machine learning. You can take a set of sample data that includes one or more *`features`* (in this case, the number of hours studied) and a known *`label`* value (in this case, the grade achieved) and use the `sample data` to `derive a function` that calculates `predicted label values` for any given set of features.\n",
                "\n",
                "## **Summary**\n",
                "\n",
                "Here we've looked at:\n",
                "\n",
                "1.  What an outlier is and how to remove them\n",
                "\n",
                "2.  How data can be skewed\n",
                "\n",
                "3.  How to look at the spread of data\n",
                "\n",
                "4.  Basic ways to compare variables, such as grades and study time\n",
                "\n",
                "## **Further Reading**\n",
                "\n",
                "To learn more about the R packages you explored in this notebook, see the following documentation:\n",
                "\n",
                "-   [Tidyverse packages](https://www.tidyverse.org/packages/)\n",
                "\n",
                "-   H. Wickham and G. Grolemund, [*R for Data Science: Visualize, Model, Transform, Tidy, and Import Data*](https://r4ds.had.co.nz/).\n"
            ]
        }
    ],
    "metadata": {
        "anaconda-cloud": "",
        "kernelspec": {
            "display_name": "R",
            "langauge": "R",
            "name": "ir"
        },
        "language_info": {
            "codemirror_mode": "r",
            "file_extension": ".r",
            "mimetype": "text/x-r-source",
            "name": "R",
            "pygments_lexer": "r",
            "version": "3.4.1"
        }
    },
    "nbformat": 4,
    "nbformat_minor": 1
}
