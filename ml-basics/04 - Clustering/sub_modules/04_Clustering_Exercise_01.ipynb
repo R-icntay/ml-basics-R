{
    "cells": [
        {
            "cell_type": "markdown",
            "source": [
                "## **Exercise - Train and evaluate a clustering model using Tidymodels and friends**\n",
                "\n",
                "### Clustering - Introduction\n",
                "\n",
                "In contrast to *supervised* machine learning, *unsupervised* learning is used when there is no \"ground truth\" from which to train and validate label predictions. The most common form of unsupervised learning is *clustering*, which is simllar conceptually to *classification*, except that the the training data does not include known values for the class label to be predicted. Clustering works by separating the training cases based on similarities that can be determined from their feature values. Think of it this way; the numeric features of a given entity can be thought of as vector coordinates that define the entity's position in n-dimensional space. What a clustering model seeks to do is to identify groups, or *clusters*, of entities that are close to one another while being separated from other clusters.\n",
                "\n",
                "For example, let's take a look at a dataset that contains measurements of different species of wheat seed.\n",
                "\n",
                "> **Citation**: The seeds dataset used in the this exercise was originally published by the Institute of Agrophysics of the Polish Academy of Sciences in Lublin, and can be downloaded from the UCI dataset repository (Dua, D. and Graff, C. (2019). UCI Machine Learning Repository [<http://archive.ics.uci.edu/ml>]. Irvine, CA: University of California, School of Information and Computer Science).\n"
            ],
            "metadata": {}
        },
        {
            "cell_type": "code",
            "execution_count": null,
            "source": [
                "# Load the core tidyverse and make it available in your current R session\r\n",
                "library(tidyverse)\r\n",
                "\r\n",
                "# Read the csv file into a tibble\r\n",
                "seeds <- read_csv(file = \"https://raw.githubusercontent.com/MicrosoftDocs/ml-basics/master/data/seeds.csv\")\r\n",
                "\r\n",
                "# Print the first 10 rows of the data\r\n",
                "seeds %>% \r\n",
                "  slice_head(n = 5)\r\n"
            ],
            "outputs": [],
            "metadata": {}
        },
        {
            "cell_type": "markdown",
            "source": [
                "Sometimes, we may want some little more information on our data. We can have a look at the `data`, `its structure` and the `data type` of its features by using the [*glimpse()*](https://pillar.r-lib.org/reference/glimpse.html) function as below:\n",
                "\n"
            ],
            "metadata": {}
        },
        {
            "cell_type": "code",
            "execution_count": null,
            "source": [
                "# Explore dimension and type of columns\r\n",
                "seeds %>% \r\n",
                "  glimpse()\r\n"
            ],
            "outputs": [],
            "metadata": {}
        },
        {
            "cell_type": "markdown",
            "source": [
                "While at it, let's use `skimr::skim()` to take a look at the summary statistics for the data\n",
                "\n"
            ],
            "metadata": {}
        },
        {
            "cell_type": "code",
            "execution_count": null,
            "source": [
                "library(skimr)\r\n",
                "\r\n",
                "# Obtain Summary statistics\r\n",
                "seeds %>% \r\n",
                "  skim()\r\n"
            ],
            "outputs": [],
            "metadata": {}
        },
        {
            "cell_type": "markdown",
            "source": [
                "Take a moment and go through the quick data exploration we just performed. Do we have any missing values? What's the dimension of our data (rows and columns)? What are the different column types? How are the values in our columns distributed?\n",
                "\n",
                "For this module, we'll work with the first 6 `feature` columns. For **plotting** purposes, let's encode the *label* column as categorical. Tidymodels provides a neat way of excluding this variable when fitting a model to our data. Remember, we are dealing with unsupervised learning - which does not make use of previously known *label* values to train a model.\n"
            ],
            "metadata": {}
        },
        {
            "cell_type": "code",
            "execution_count": null,
            "source": [
                "# Narrow down to desired features\r\n",
                "seeds_select <- seeds %>% \r\n",
                "  select(!groove_length) %>% \r\n",
                "  mutate(species = factor(species))\r\n",
                "\r\n",
                "# View first 5 rows of the data\r\n",
                "seeds_select %>% \r\n",
                "  slice_head(n = 5)\r\n"
            ],
            "outputs": [],
            "metadata": {}
        },
        {
            "cell_type": "markdown",
            "source": [
                "As you can see, we now have six data points (or *features*) for each instance (*observation*) of a seed's species. So you could interpret these as coordinates that describe each seed's location in six-dimensional space.\n",
                "\n",
                "Now, of course six-dimensional space is difficult to visualise in a three-dimensional world, or on a two-dimensional plot; so we'll take advantage of a mathematical technique called *`Principal Component Analysis`* (PCA) to analyze the relationships between the features and summarize each observation as coordinates for two principal components - in other words, we'll translate the six-dimensional feature values into two-dimensional coordinates.\n",
                "\n",
                "> *`Principal Component Analysis`* (PCA) is a dimension reduction method that aims at reducing the feature space, such that, most of the information or variability in the data set can be explained using fewer uncorrelated features.\n",
                "\n",
                "Let's see this in action by creating a specification of a `recipe` that will estimate the *principal components* based on our six variables. We'll then `prep` and`bake` the recipe to apply the computations.\n",
                "\n",
                "> PCA works well when the variables are normalized (`centered` and `scaled`)\n"
            ],
            "metadata": {}
        },
        {
            "cell_type": "code",
            "execution_count": null,
            "source": [
                "# Load the core tidymodels and make it available in your current R session\r\n",
                "library(tidymodels)\r\n",
                "\r\n",
                "\r\n",
                "# Specify a recipe for pca\r\n",
                "pca_rec <- recipe(~ ., data = seeds_select) %>% \r\n",
                "  update_role(species, new_role = \"ID\") %>% \r\n",
                "  step_normalize(all_predictors()) %>% \r\n",
                "  step_pca(all_predictors(), num_comp = 2, id = \"pca\")\r\n",
                "\r\n",
                "# Print out recipe\r\n",
                "pca_rec\r\n"
            ],
            "outputs": [],
            "metadata": {}
        },
        {
            "cell_type": "markdown",
            "source": [
                "Compared to supervised learning techniques, we have no `outcome` variable in this recipe.\n",
                "\n",
                "By updating the role of the `species` column to `ID`, this tells the recipe to keep the variable but not use it as either an outcome or predictor.\n",
                "\n",
                "By calling `prep()` which estimates the statistics required by PCA and applying them to `seeds_select` using `bake(new_data = NULL)`, we can get the fitted PC transformation of our features.\n"
            ],
            "metadata": {}
        },
        {
            "cell_type": "code",
            "execution_count": null,
            "source": [
                "# Estimate required statistcs \r\n",
                "pca_estimates <- prep(pca_rec)\r\n",
                "\r\n",
                "# Return preprocessed data using bake\r\n",
                "features_2d <- pca_estimates %>% \r\n",
                "  bake(new_data = NULL)\r\n",
                "\r\n",
                "# Print baked data set\r\n",
                "features_2d %>% \r\n",
                "  slice_head(n = 5)\r\n"
            ],
            "outputs": [],
            "metadata": {}
        },
        {
            "cell_type": "markdown",
            "source": [
                "These two components capture the maximum amount of information (i.e. variance) in the original variables. From the output of our prepped recipe `pca_estimates`, we can examine how much variance each component accounts for:\n",
                "\n"
            ],
            "metadata": {}
        },
        {
            "cell_type": "code",
            "execution_count": null,
            "source": [
                "# Examine how much variance each PC accounts for\r\n",
                "pca_estimates %>% \r\n",
                "  tidy(id = \"pca\", type = \"variance\") %>% \r\n",
                "  filter(str_detect(terms, \"percent\"))\r\n",
                "\r\n",
                "\r\n",
                "theme_set(theme_light())\r\n",
                "# Plot how much variance each PC accounts for\r\n",
                "pca_estimates %>% \r\n",
                "  tidy(id = \"pca\", type = \"variance\") %>% \r\n",
                "  filter(terms == \"percent variance\") %>% \r\n",
                "  ggplot(mapping = aes(x = component, y = value)) +\r\n",
                "  geom_col(fill = \"midnightblue\", alpha = 0.7) +\r\n",
                "  ylab(\"% of total variance\")\r\n"
            ],
            "outputs": [],
            "metadata": {}
        },
        {
            "cell_type": "markdown",
            "source": [
                "This output tibbles and plots shows how well each principal component is explaining the original six variables. For example, the first principal component (PC1) explains about `72%` of the variance of the six variables. The second principal component explains an additional `16.97%`, giving a cumulative percent variance of `89.11%`. This is certainly better. It means that the first two variables seem to have some power in summarizing the original six variables.\n",
                "\n",
                "Naturally, the first PC (PC1) captures the most variance followed by PC2, then PC3, etc.\n",
                "\n",
                "Now that we have the data points translated to two dimensions PC1 and PC2, we can visualize them in a plot:\n"
            ],
            "metadata": {}
        },
        {
            "cell_type": "code",
            "execution_count": null,
            "source": [
                "# Visualize PC scores\r\n",
                "features_2d %>% \r\n",
                "  ggplot(mapping = aes(x = PC1, y = PC2)) +\r\n",
                "  geom_point(size = 2, color = \"dodgerblue3\")\r\n"
            ],
            "outputs": [],
            "metadata": {}
        },
        {
            "cell_type": "markdown",
            "source": [
                "Hopefully you can see at least two, arguably three, reasonably distinct groups of data points; but here lies one of the fundamental problems with clustering - without known class labels, how do you know how many clusters to separate your data into?\n",
                "\n",
                "One way we can try to find out is to use a data sample to create a series of clustering models with an incrementing number of clusters, and measure how tightly the data points are grouped within each cluster. A metric often used to measure this tightness is the *within cluster sum of squares* (WCSS), with lower values meaning that the data points are closer. You can then plot the WCSS for each model.\n",
                "\n",
                "We'll use the built-in `kmeans()` function, which accepts a data frame with all numeric columns as it's primary argument to perform clustering - means we'll have to drop the *species* column. For clustering, it is recommended that the data have the same scale. We can use the recipes package to perform these transformations.\n"
            ],
            "metadata": {}
        },
        {
            "cell_type": "code",
            "execution_count": null,
            "source": [
                "# Drop target column and normalize data\r\n",
                "seeds_features<- recipe(~ ., data = seeds_select) %>% \r\n",
                "  step_rm(species) %>% \r\n",
                "  step_normalize(all_predictors()) %>% \r\n",
                "  prep() %>% \r\n",
                "  bake(new_data = NULL)\r\n",
                "\r\n",
                "# Print out data\r\n",
                "seeds_features %>% \r\n",
                "  slice_head(n = 5)\r\n"
            ],
            "outputs": [],
            "metadata": {}
        },
        {
            "cell_type": "markdown",
            "source": [
                "Now, let's explore the WCSS of different numbers of clusters.\n",
                "\n",
                "We'll get to use `map()` from the [purrr](https://purrr.tidyverse.org/) package to apply functions to each element in list.\n"
            ],
            "metadata": {}
        },
        {
            "cell_type": "code",
            "execution_count": null,
            "source": [
                "set.seed(2056)\r\n",
                "# Create 10 models with 1 to 10 clusters\r\n",
                "kclusts <- tibble(k = 1:10) %>% \r\n",
                "  mutate(\r\n",
                "    model = map(k, ~ kmeans(x = seeds_features, centers = .x,\r\n",
                "                            nstart = 20)),\r\n",
                "    glanced = map(model, glance)) %>% \r\n",
                "  unnest(cols = c(glanced))\r\n",
                "\r\n",
                "\r\n",
                "\r\n",
                "# Plot Total within-cluster sum of squares (tot.withinss)\r\n",
                "kclusts %>% \r\n",
                "  ggplot(mapping = aes(x = k, y = tot.withinss)) +\r\n",
                "  geom_line(size = 1.2, alpha = 0.5, color = \"dodgerblue3\") +\r\n",
                "  geom_point(size = 2, color = \"dodgerblue3\")\r\n"
            ],
            "outputs": [],
            "metadata": {}
        },
        {
            "cell_type": "markdown",
            "source": [
                "The plot shows a large reduction in WCSS (so greater *tightness*) as the number of clusters increases from one to two, and a further noticable reduction from two to three clusters. After that, the reduction is less pronounced, resulting in an `elbow` 💪in the chart at around three clusters. This is a good indication that there are two to three reasonably well separated clusters of data points.\n",
                "\n",
                "### **Summary**\n",
                "\n",
                "Here we looked at what clustering means, and how to determine whether clustering might be appropriate for your data. In the next notebook, we will look at two ways of labeling the data automatically.\n"
            ],
            "metadata": {}
        }
    ],
    "metadata": {
        "anaconda-cloud": "",
        "kernelspec": {
            "display_name": "R",
            "langauge": "R",
            "name": "ir"
        },
        "language_info": {
            "codemirror_mode": "r",
            "file_extension": ".r",
            "mimetype": "text/x-r-source",
            "name": "R",
            "pygments_lexer": "r",
            "version": "3.4.1"
        }
    },
    "nbformat": 4,
    "nbformat_minor": 1
}