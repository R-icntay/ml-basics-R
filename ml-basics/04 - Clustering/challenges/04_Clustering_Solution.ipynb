{
    "cells": [
        {
            "cell_type": "markdown",
            "source": [
                "## **Clustering Challenge**\n",
                "\n",
                "Clustering is an *unsupervised* machine learning technique in which you train a model to group similar entities into clusters based on their features.\n",
                "\n",
                "In this exercise, you must separate a dataset consisting of three numeric features (**A**, **B**, and **C**) into clusters.\n",
                "\n",
                "Let's begin by importing the data.\n"
            ],
            "metadata": {}
        },
        {
            "cell_type": "code",
            "execution_count": null,
            "source": [
                "# Load the core tidyverse and make it available in your current R session\r\n",
                "library(tidyverse)\r\n",
                "\r\n",
                "# Read the csv file into a tibble\r\n",
                "data <- read_csv(file = \"https://raw.githubusercontent.com/MicrosoftDocs/ml-basics/master/challenges/data/clusters.csv\", show_col_types = FALSE)\r\n",
                "\r\n",
                "# Print the first 10 rows of the data\r\n",
                "data %>% \r\n",
                "  slice_head(n = 10)\r\n"
            ],
            "outputs": [],
            "metadata": {}
        },
        {
            "cell_type": "markdown",
            "source": [
                "Your challenge is to identify the number of discrete clusters present in the data, and create a clustering model that separates the data into that number of clusters. You should also visualize the clusters to evaluate the level of separation achieved by your model.\n",
                "\n",
                "Add markdown and code cells as required to create your solution.\n",
                "\n",
                "### **Use PCA to create a 2D version of the features for visualization**\n",
                "\n",
                "*`Principal Component Analysis`* (PCA) is a dimension reduction method that aims at reducing the feature space, such that, most of the information or variability in the data set can be explained using fewer uncorrelated features.\n",
                "\n",
                "Let's see this in action by creating a specification of a `recipe` that will estimate the *principal components* based on our three variables. We'll then `prep` and`bake` the recipe to apply the computations.\n",
                "\n",
                "> PCA works well when the variables are normalized (`centered` and `scaled`)\n"
            ],
            "metadata": {}
        },
        {
            "cell_type": "code",
            "execution_count": null,
            "source": [
                "# Load the core tidymodels packages and make them available in your current R session\r\n",
                "library(tidymodels)\r\n",
                "\r\n",
                "# Specify a recipe for pca\r\n",
                "pca_rec <- recipe(~ ., data = data) %>% \r\n",
                "  step_normalize(all_predictors()) %>% \r\n",
                "  step_pca(all_predictors(), num_comp = 2, id = \"pca\")\r\n",
                "\r\n",
                "# Print out recipe\r\n",
                "pca_rec\r\n"
            ],
            "outputs": [],
            "metadata": {}
        },
        {
            "cell_type": "markdown",
            "source": [
                "Compared to supervised learning techniques, we have no `outcome` variable in this recipe.\n",
                "\n",
                "By calling `prep()` which estimates the statistics required by PCA and applying them to our data using `bake(new_data = NULL)`, we can get the fitted PC transformation of our features.\n"
            ],
            "metadata": {}
        },
        {
            "cell_type": "code",
            "execution_count": null,
            "source": [
                "# Estimate required statistcs \r\n",
                "pca_estimates <- prep(pca_rec)\r\n",
                "\r\n",
                "# Return preprocessed data using bake\r\n",
                "features_2d <- pca_estimates %>% \r\n",
                "  bake(new_data = NULL)\r\n",
                "\r\n",
                "# Print baked data set\r\n",
                "features_2d %>% \r\n",
                "  slice_head(n = 5)\r\n"
            ],
            "outputs": [],
            "metadata": {}
        },
        {
            "cell_type": "markdown",
            "source": [
                "🤩 These two components capture the maximum amount of information (i.e. variance) in the original variables. From the output of our prepped recipe `pca_estimates`, we can examine how much variance each component accounts for:\n",
                "\n"
            ],
            "metadata": {}
        },
        {
            "cell_type": "code",
            "execution_count": null,
            "source": [
                "# Examine how much variance each PC accounts for\n",
                "pca_estimates %>% \n",
                "  tidy(id = \"pca\", type = \"variance\") %>% \n",
                "  filter(str_detect(terms, \"percent\"))\n",
                "\n",
                "\n",
                "theme_set(theme_light())\n",
                "# Plot how much variance each PC accounts for\n",
                "pca_estimates %>% \n",
                "  tidy(id = \"pca\", type = \"variance\") %>% \n",
                "  filter(terms == \"percent variance\") %>% \n",
                "  ggplot(mapping = aes(x = component, y = value)) +\n",
                "  geom_col(fill = \"midnightblue\", alpha = 0.7) +\n",
                "  ylab(\"% of total variance\")\n"
            ],
            "outputs": [],
            "metadata": {}
        },
        {
            "cell_type": "markdown",
            "source": [
                "This output tibbles and plots shows how well each principal component is explaining the original six variables. For example, the first principal component (PC1) explains about `84.93%` of the variance of the three variables. The second principal component explains an additional `7.63%`, giving a cumulative percent variance of `92.56%`. This is certainly better. It means that the first two variables seem to have some power in summarizing the original three variables.\n",
                "\n",
                "Now that we have the data points translated to two dimensions PC1 and PC2, we can visualize them in a plot:\n"
            ],
            "metadata": {}
        },
        {
            "cell_type": "code",
            "execution_count": null,
            "source": [
                "# Visualize PC scores\n",
                "features_2d %>% \n",
                "  ggplot(mapping = aes(x = PC1, y = PC2)) +\n",
                "  geom_point(size = 2, color = \"dodgerblue3\")\n"
            ],
            "outputs": [],
            "metadata": {}
        },
        {
            "cell_type": "markdown",
            "source": [
                "### **Calculate WCSS for multiple cluster numbers to determine the right number of clusters**\n",
                "\n",
                "Now here lies one of the fundamental problems with clustering - without known class labels, how do you know how many clusters to separate your data into?\n",
                "\n",
                "One way we can try to find out is to use a data sample to create a series of clustering models with an incrementing number of clusters, and measure how tightly the data points are grouped within each cluster. A metric often used to measure this tightness is the *within cluster sum of squares* (WCSS), with lower values meaning that the data points are closer. You can then plot the WCSS for each model.\n",
                "\n",
                "We'll use the built-in `kmeans()` function, which accepts a data frame with all numeric columns as it's primary argument to perform clustering. Let's also have the data on the same scale. We can use the recipes package to perform these transformations.\n"
            ],
            "metadata": {}
        },
        {
            "cell_type": "code",
            "execution_count": null,
            "source": [
                "# Data for clustering\n",
                "clust_data <- recipe(~ ., data = data) %>% \n",
                "  step_normalize(all_predictors()) %>% \n",
                "  prep() %>% \n",
                "  bake(new_data = NULL)\n",
                "\n",
                "# Print out data\n",
                "clust_data %>% \n",
                "  slice_head(n = 5)\n"
            ],
            "outputs": [],
            "metadata": {}
        },
        {
            "cell_type": "markdown",
            "source": [
                "Now, let's explore the WCSS of different numbers of clusters.\n",
                "\n",
                "We'll get to use `map()` from the [purrr](https://purrr.tidyverse.org/) package to apply functions to each element in list.\n",
                "\n",
                "> [`map()`](https://purrr.tidyverse.org/reference/map.html) functions allow you to replace many for loops with code that is both more succinct and easier to read. The best place to learn about the [`map()`](https://purrr.tidyverse.org/reference/map.html) functions is the [iteration chapter](http://r4ds.had.co.nz/iteration.html) in R for data science.\n",
                ">\n",
                "> `broom::augment.kmeans()` accepts a model object and returns a tibble with exactly one row of model summaries. The summaries are typically goodness of fit measures, p-values for hypothesis tests on residuals, or model convergence information.\n"
            ],
            "metadata": {}
        },
        {
            "cell_type": "code",
            "execution_count": null,
            "source": [
                "set.seed(2056)\r\n",
                "# Create 10 models with 1 to 10 clusters\r\n",
                "kclusts <- tibble(k = 1:10) %>% \r\n",
                "  mutate(\r\n",
                "    model = map(k, ~ kmeans(x = clust_data, centers = .x,\r\n",
                "                            nstart = 20)),\r\n",
                "    tot.withinss = map_dbl(model, ~ glance(.x)$tot.withinss))\r\n",
                "\r\n",
                "# View results\r\n",
                "kclusts\r\n",
                "\r\n",
                "# Plot Total within-cluster sum of squares (tot.withinss)\r\n",
                "kclusts %>% \r\n",
                "  ggplot(mapping = aes(x = k, y = tot.withinss)) +\r\n",
                "  geom_line(size = 1.2, alpha = 0.5, color = \"dodgerblue3\") +\r\n",
                "  geom_point(size = 2, color = \"dodgerblue3\")\r\n"
            ],
            "outputs": [],
            "metadata": {}
        },
        {
            "cell_type": "markdown",
            "source": [
                "We seek to **minimize** the the total within-cluster sum of squares, by performing K-means clustering. The plot shows a large reduction in WCSS (so greater *tightness*) as the number of clusters increases from one to two, and a further noticable reduction from two to three, then three to four clusters. After that, the reduction is less pronounced, resulting in an `elbow` 💪in the chart at around four clusters. This is a good indication that there are four reasonably well separated clusters of data points.\n",
                "\n",
                "### **Use K-Means**\n",
                "\n",
                "We can now go ahead and extract the clustering model where `k = 4`:\n",
                "\n",
                "> `pull()`: used to extract a single column\n",
                ">\n",
                "> `pluck()`: used to index data structures such as lists\n"
            ],
            "metadata": {}
        },
        {
            "cell_type": "code",
            "execution_count": null,
            "source": [
                "# Extract the model based on 4 centroids\r\n",
                "final_kmeans <- kclusts %>% \r\n",
                "  filter(k == 4) %>% \r\n",
                "  pull(model) %>% \r\n",
                "  pluck(1)\r\n",
                "\r\n",
                "\r\n",
                "final_kmeans\r\n"
            ],
            "outputs": [],
            "metadata": {}
        },
        {
            "cell_type": "markdown",
            "source": [
                "### **Plot the clustered points**\n",
                "\n",
                "Great! Let's go ahead and visualize the clusters obtained. Care for some interactivity using `plotly`?\n"
            ],
            "metadata": {}
        },
        {
            "cell_type": "code",
            "execution_count": null,
            "source": [
                "# Load plotting libraries \r\n",
                "library(plotly)\r\n",
                "library(paletteer)\r\n",
                "\r\n",
                "\r\n",
                "# Add predicted cluster assignment to data set\r\n",
                "results <-  augment(final_kmeans, features_2d)  \r\n",
                "\r\n",
                "# Plot cluster assignments\r\n",
                "cluster_plot <- results %>% \r\n",
                "  ggplot(mapping = aes(x = PC1, y = PC2)) +\r\n",
                "  geom_point(aes(shape = .cluster, color = .cluster), size = 2, alpha = 0.8) +\r\n",
                "  paletteer::scale_color_paletteer_d(\"ggsci::category10_d3\")\r\n",
                "\r\n",
                "# Make plot interactive\r\n",
                "ggplotly(cluster_plot)\r\n"
            ],
            "outputs": [],
            "metadata": {}
        },
        {
            "cell_type": "markdown",
            "source": [
                "🤩🤩 Hopefully, the data has been separated into four distinct clusters.\n",
                "\n",
                "### **Try agglomerative clustering**\n",
                "\n",
                "Hierarchical clustering creates clusters by either a *divisive* method or *agglomerative* method. The `divisive` method is a `top down` approach starting with the entire dataset and then finding partitions in a stepwise manner. `Agglomerative clustering` is a `bottom up` approach in which each observation is initially considered as a single element cluster and at each step of the algorithm, two clusters that are most similar are combined into a bigger cluster until all points are members of one single big cluster.\n"
            ],
            "metadata": {}
        },
        {
            "cell_type": "code",
            "execution_count": null,
            "source": [
                "# For reproducibility\r\n",
                "set.seed(2056)\r\n",
                "\r\n",
                "# Distance between observations matrix\r\n",
                "d <- dist(x = clust_data, method = \"euclidean\")\r\n",
                "\r\n",
                "# Hierarchical clustering using Ward Linkage\r\n",
                "hclust_ward <- hclust(d, method = \"ward.D2\")\r\n"
            ],
            "outputs": [],
            "metadata": {}
        },
        {
            "cell_type": "markdown",
            "source": [
                "The [factoextra](https://rpkgs.datanovia.com/factoextra/index.html) provides functions ([`fviz_dend()`](https://rdrr.io/pkg/factoextra/man/fviz_dend.html)) to visualize hierarchical clustering. Let's visualize the dendrogram representation of the clusters from the ward linkage method.\n",
                "\n"
            ],
            "metadata": {}
        },
        {
            "cell_type": "code",
            "execution_count": null,
            "source": [
                "library(factoextra)\r\n",
                "\r\n",
                "# Visualize cluster separations\r\n",
                "fviz_dend(hclust_ward, main = \"Ward Linkage\")\r\n"
            ],
            "outputs": [],
            "metadata": {}
        },
        {
            "cell_type": "markdown",
            "source": [
                "Although hierarchical clustering does not require one to pre-specify the number of clusters, one still needs to specify the number of clusters to extract.\n",
                "\n",
                "We found out that the optimal number of clusters was 4. Let's color our dendrogram according to k = 4 and observe how observations will be grouped.\n"
            ],
            "metadata": {}
        },
        {
            "cell_type": "code",
            "execution_count": null,
            "source": [
                "# Visualize clustering structure for 3 groups\r\n",
                "fviz_dend(hclust_ward, k = 4, main = \"Ward Linkage\")\r\n"
            ],
            "outputs": [],
            "metadata": {}
        },
        {
            "cell_type": "markdown",
            "source": [
                "We can now go ahead and `cut` the hierarchical clustering model into four clusters and extract the cluster labels for each observation associated with a given cut. This is done using `cutree()`\n",
                "\n"
            ],
            "metadata": {}
        },
        {
            "cell_type": "code",
            "execution_count": null,
            "source": [
                "# Hierarchical clustering using Ward Linkage\r\n",
                "hclust_ward <- hclust(d, method = \"ward.D2\")\r\n",
                "\r\n",
                "# Group data into 4 clusters\r\n",
                "results_hclust <- tibble(\r\n",
                "  cluster_id = cutree(hclust_ward, k = 4)) %>% \r\n",
                "  mutate(cluster_id = factor(cluster_id)) %>% \r\n",
                "  bind_cols(features_2d)\r\n",
                "\r\n",
                "results_hclust %>% \r\n",
                "  slice_head(n = 5)\r\n"
            ],
            "outputs": [],
            "metadata": {}
        },
        {
            "cell_type": "markdown",
            "source": [
                "### **View the agglomerative cluster assignments**\n",
                "\n"
            ],
            "metadata": {}
        },
        {
            "cell_type": "code",
            "execution_count": null,
            "source": [
                "# Plot h-cluster assignmnet on the PC data\r\n",
                "hclust_spc_plot <- results_hclust %>% \r\n",
                "  ggplot(mapping = aes(x = PC1, y = PC2)) +\r\n",
                "  geom_point(aes(shape = cluster_id, color = cluster_id), size = 2, alpha = 0.8) +\r\n",
                "  paletteer::scale_color_paletteer_d(\"ggsci::category10_d3\")\r\n",
                "\r\n",
                "# Make plot interactive\r\n",
                "ggplotly(hclust_spc_plot)\r\n"
            ],
            "outputs": [],
            "metadata": {}
        }
    ],
    "metadata": {
        "anaconda-cloud": "",
        "kernelspec": {
            "display_name": "R",
            "langauge": "R",
            "name": "ir"
        },
        "language_info": {
            "codemirror_mode": "r",
            "file_extension": ".r",
            "mimetype": "text/x-r-source",
            "name": "R",
            "pygments_lexer": "r",
            "version": "3.4.1"
        }
    },
    "nbformat": 4,
    "nbformat_minor": 1
}