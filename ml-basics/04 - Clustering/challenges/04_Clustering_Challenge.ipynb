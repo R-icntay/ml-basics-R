{
    "cells": [
        {
            "cell_type": "markdown",
            "source": [
                "## **Clustering Challenge**\n",
                "\n",
                "Clustering is an *unsupervised* machine learning technique in which you train a model to group similar entities into clusters based on their features.\n",
                "\n",
                "In this exercise, you must separate a dataset consisting of three numeric features (**A**, **B**, and **C**) into clusters.\n",
                "\n",
                "Let's begin by importing the data.\n"
            ],
            "metadata": {}
        },
        {
            "cell_type": "code",
            "execution_count": null,
            "source": [
                "# Load the core tidyverse and make it available in your current R session\r\n",
                "library(tidyverse)\r\n",
                "\r\n",
                "# Read the csv file into a tibble\r\n",
                "data <- read_csv(file = \"https://raw.githubusercontent.com/MicrosoftDocs/ml-basics/master/challenges/data/clusters.csv\")\r\n",
                "\r\n",
                "# Print the first 10 rows of the data\r\n",
                "data %>% \r\n",
                "  slice_head(n = 10)\r\n"
            ],
            "outputs": [],
            "metadata": {}
        },
        {
            "cell_type": "markdown",
            "source": [
                "Your challenge is to identify the number of discrete clusters present in the data, and create a clustering model that separates the data into that number of clusters. You should also visualize the clusters to evaluate the level of separation achieved by your model.\n",
                "\n",
                "Add markdown and code cells as required to create your solution.\n",
                "\n",
                "> **Note**: There is no single \"correct\" solution. A sample solution is provided in 04 - Clustering Solution.ipynb.\n"
            ],
            "metadata": {}
        },
        {
            "cell_type": "code",
            "execution_count": null,
            "source": [
                "# Your clustering adventure begins here \r\n",
                "\r\n"
            ],
            "outputs": [],
            "metadata": {}
        }
    ],
    "metadata": {
        "anaconda-cloud": "",
        "kernelspec": {
            "display_name": "R",
            "langauge": "R",
            "name": "ir"
        },
        "language_info": {
            "codemirror_mode": "r",
            "file_extension": ".r",
            "mimetype": "text/x-r-source",
            "name": "R",
            "pygments_lexer": "r",
            "version": "3.4.1"
        }
    },
    "nbformat": 4,
    "nbformat_minor": 1
}