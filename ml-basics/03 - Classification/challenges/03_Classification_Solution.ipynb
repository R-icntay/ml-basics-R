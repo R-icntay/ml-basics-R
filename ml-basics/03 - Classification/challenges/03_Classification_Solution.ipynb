{
    "cells": [
        {
            "cell_type": "markdown",
            "source": [
                "## **Classification Challenge**\n",
                "\n",
                "Wine experts can identify wines from specific vineyards through smell and taste, but the factors that give different wines their individual charateristics are actually based on their chemical composition.\n",
                "\n",
                "In this challenge, you must train a classification model to analyze the chemical and visual features of wine samples and classify them based on their cultivar (grape variety).\n",
                "\n",
                "> **Citation**: The data used in this exercise was originally collected by Forina, M. et al.\n",
                ">\n",
                "> PARVUS - An Extendible Package for Data Exploration, Classification and Correlation. Institute of Pharmaceutical and Food Analysis and Technologies, Via Brigata Salerno, 16147 Genoa, Italy.\n",
                ">\n",
                "> It can be downloaded from the UCI dataset repository (Dua, D. and Graff, C. (2019). UCI Machine Learning Repository. Irvine, CA: University of California, School of Information and Computer Science).\n",
                "\n",
                "### **Explore the data**\n",
                "\n",
                "Let's hit the ground running by importing a CSV file of wine data, which consists of 12 numeric features and a classification label with the following classes:\n",
                "\n",
                "-   **0** (*variety A*)\n",
                "\n",
                "-   **1** (*variety B*)\n",
                "\n",
                "-   **2** (*variety C*)\n"
            ],
            "metadata": {}
        },
        {
            "cell_type": "code",
            "execution_count": null,
            "source": [
                "# Load the required packages into your current R session\r\n",
                "suppressPackageStartupMessages({\r\n",
                "  library(tidyverse)\r\n",
                "  library(tidymodels)\r\n",
                "  library(here)\r\n",
                "  library(janitor)\r\n",
                "})\r\n",
                "\r\n",
                "# Read the csv file into a tibble\r\n",
                "data <- read_csv(file = \"https://raw.githubusercontent.com/MicrosoftDocs/ml-basics/master/challenges/data/wine.csv\", show_col_types = FALSE)\r\n",
                "\r\n",
                "# Print the first 10 rows of the data\r\n",
                "data %>% \r\n",
                "  slice_head(n = 10)\r\n"
            ],
            "outputs": [],
            "metadata": {}
        },
        {
            "cell_type": "markdown",
            "source": [
                "Your challenge is to explore the data and train a classification model that achieves an overall *Recall* metric of over 0.95 (95%).\n",
                "\n",
                "Let's kick off our adventure by reformatting the data to make it easier for a model to use effectively.\n"
            ],
            "metadata": {}
        },
        {
            "cell_type": "code",
            "execution_count": null,
            "source": [
                "# Load the janitor package for cleaning data\r\n",
                "library(janitor)\r\n",
                "\r\n",
                "# Clean data a bit\r\n",
                "wine_data <- data %>%\r\n",
                "  # Encode WineVariety as category\r\n",
                "  mutate(WineVariety = factor(WineVariety, levels = c(\"0\",\"1\", \"2\"))) %>% \r\n",
                "  # Clean column names\r\n",
                "  clean_names()\r\n",
                "\r\n",
                "\r\n",
                "# View data set\r\n",
                "wine_data %>% \r\n",
                "  glimpse()\r\n"
            ],
            "outputs": [],
            "metadata": {}
        },
        {
            "cell_type": "markdown",
            "source": [
                "The goal of data exploration is to try to understand the `relationships` between its attributes; in particular, any apparent correlation between the *features* and the *label* your model will try to predict. One way of doing this is by using data visualization.\n",
                "\n",
                "Now let's compare the feature distributions for each label value.\n"
            ],
            "metadata": {}
        },
        {
            "cell_type": "code",
            "execution_count": null,
            "source": [
                "theme_set(theme_light())\r\n",
                "# Pivot data to a long format\r\n",
                "wine_data %>% \r\n",
                "    pivot_longer(!wine_variety, names_to = \"features\", values_to = \"values\") %>% \r\n",
                "# Make a box plot for each predictor feature\r\n",
                "  ggplot(mapping = aes(x = wine_variety, y = values, fill = features)) +\r\n",
                "  geom_boxplot() + \r\n",
                "  facet_wrap(~ features, scales = \"free\", ncol = 5) +\r\n",
                "  scale_color_viridis_d(option = \"plasma\", end = .7) +\r\n",
                "  theme(legend.position = \"none\")\r\n"
            ],
            "outputs": [],
            "metadata": {}
        },
        {
            "cell_type": "markdown",
            "source": [
                "What insights about the wine varieties have you derived from the distribution of the different features?\n",
                "\n",
                "### Split the data for training and validation\n",
                "\n",
                "It is best practice to hold out some of your data for **testing** in order to get a better estimate of how your models will perform on new data by comparing the predicted labels with the already known labels in the test set.\n"
            ],
            "metadata": {}
        },
        {
            "cell_type": "code",
            "execution_count": null,
            "source": [
                "# Load the Tidymodels packages\r\n",
                "library(tidymodels)\r\n",
                "\r\n",
                "\r\n",
                "\r\n",
                "# Split data into 70% for training and 30% for testing\r\n",
                "set.seed(2056)\r\n",
                "wine_split <- wine_data %>% \r\n",
                "  initial_split(prop = 0.70)\r\n",
                "\r\n",
                "\r\n",
                "# Extract the data in each split\r\n",
                "wine_train <- training(wine_split)\r\n",
                "wine_test <- testing(wine_split)\r\n",
                "\r\n",
                "\r\n",
                "# Print the number of cases in each split\r\n",
                "cat(\"Training cases: \", nrow(wine_train), \"\\n\",\r\n",
                "    \"Test cases: \", nrow(wine_test), sep = \"\")\r\n"
            ],
            "outputs": [],
            "metadata": {}
        },
        {
            "cell_type": "markdown",
            "source": [
                "### Data preprocessing with recipes\n",
                "\n",
                "Now that we have a set of training features and corresponding training labels, we can fit a multiclass classification algorithm to the data to create a model.\n",
                "\n",
                "`parsnip::multinom_reg()` defines a model that uses linear predictors to predict multiclass data using the multinomial distribution.\n"
            ],
            "metadata": {}
        },
        {
            "cell_type": "code",
            "execution_count": null,
            "source": [
                "# Specify a multinomial regression via nnet\r\n",
                "mr_spec <- multinom_reg(\r\n",
                "  penalty = 1,\r\n",
                "  engine = \"nnet\",\r\n",
                "  mode = \"classification\"\r\n",
                ")\r\n",
                "\r\n",
                "\r\n",
                "# Create a recipe that specifies that predictors should be on the same scale\r\n",
                "mr_wflow <- recipe(wine_variety ~ ., data = wine_train) %>% \r\n",
                "  step_normalize(all_numeric_predictors()) %>% \r\n",
                "# Bundle recipe and model specification into a workflow\r\n",
                "  workflow(mr_spec)\r\n",
                "\r\n",
                "# Print out workflow\r\n",
                "mr_wflow\r\n"
            ],
            "outputs": [],
            "metadata": {}
        },
        {
            "cell_type": "markdown",
            "source": [
                "After a workflow has been *specified*, a model can be `trained` using the [`fit()`](https://tidymodels.github.io/parsnip/reference/fit.html) function.\n",
                "\n"
            ],
            "metadata": {}
        },
        {
            "cell_type": "code",
            "execution_count": null,
            "source": [
                "# Fit a workflow object\r\n",
                "mr_wflow_fit <- mr_wflow %>% \r\n",
                "  fit(data = wine_train)\r\n",
                "\r\n",
                "# Print wf object\r\n",
                "mr_wflow_fit\r\n"
            ],
            "outputs": [],
            "metadata": {}
        },
        {
            "cell_type": "markdown",
            "source": [
                "### Evaluate model performance\n",
                "\n",
                "Good job👏! We now have a trained workflow. The workflow print out shows the coefficients learned during training.\n",
                "\n",
                "This allows us to use the model trained by this workflow to predict labels for our test set and evaluate performance. Let's obtain the hard class and probability predictions for our test set.\n"
            ],
            "metadata": {}
        },
        {
            "cell_type": "code",
            "execution_count": null,
            "source": [
                "# Make predictions on the test set\r\n",
                "results <- mr_wflow_fit %>% \r\n",
                "  augment(wine_test) \r\n",
                "\r\n",
                "# Print the results\r\n",
                "results %>% \r\n",
                "  slice_head(n = 10)\r\n"
            ],
            "outputs": [],
            "metadata": {}
        },
        {
            "cell_type": "markdown",
            "source": [
                "Now, let's look at the confusion matrix for our model\n",
                "\n"
            ],
            "metadata": {}
        },
        {
            "cell_type": "code",
            "execution_count": null,
            "source": [
                "# Confusion matrix\r\n",
                "results %>% \r\n",
                "  conf_mat(wine_variety, .pred_class)\r\n"
            ],
            "outputs": [],
            "metadata": {}
        },
        {
            "cell_type": "markdown",
            "source": [
                "The confusion matrix shows the intersection of predicted and actual label values for each class - in simple terms, the diagonal intersections from top-left to bottom-right indicate the number of correct predictions.\n",
                "\n",
                "When dealing with multiple classes, it's generally more intuitive to visualize this as a heat map, like this:\n"
            ],
            "metadata": {}
        },
        {
            "cell_type": "code",
            "execution_count": null,
            "source": [
                "update_geom_defaults(geom = \"tile\", new = list(color = \"black\", alpha = 0.7))\r\n",
                "# Visualize confusion matrix\r\n",
                "results %>% \r\n",
                "  conf_mat(wine_variety, .pred_class) %>% \r\n",
                "  autoplot(type = \"heatmap\")\r\n"
            ],
            "outputs": [],
            "metadata": {}
        },
        {
            "cell_type": "markdown",
            "source": [
                "The darker squares in the confusion matrix plot indicate high numbers of cases, and you can hopefully see a diagonal line of darker squares indicating cases where the predicted and actual label are the same.\n",
                "\n",
                "Let's now calculate summary statistics for the confusion matrix.\n"
            ],
            "metadata": {}
        },
        {
            "cell_type": "code",
            "execution_count": null,
            "source": [
                "# Statistical summaries for the confusion matrix\r\n",
                "conf_mat(data = results, truth = wine_variety, estimate = .pred_class) %>% \r\n",
                "  summary() %>% \r\n",
                "  filter(.metric %in% c(\"accuracy\", \"recall\", \"precision\"))\r\n"
            ],
            "outputs": [],
            "metadata": {}
        },
        {
            "cell_type": "markdown",
            "source": [
                "The tibble shows the overall metrics of how well the model performs across all three classes of wines. Not bad!\n",
                "\n",
                "Let's now evaluate the ROC metrics. In the case of a multiclass classification model, a single ROC curve showing true positive rate vs false positive rate is not possible. However, you can use the rates for each class in a One vs Rest (OVR) comparison to create a ROC chart for each class.\n"
            ],
            "metadata": {}
        },
        {
            "cell_type": "code",
            "execution_count": null,
            "source": [
                "# Make a ROC_CURVE\r\n",
                "results %>% \r\n",
                "  roc_curve(wine_variety, c(.pred_0, .pred_1, .pred_2)) %>% \r\n",
                "  ggplot(aes(x = 1 - specificity, y = sensitivity, color = .level)) +\r\n",
                "  geom_abline(lty = 2, color = \"gray80\", size = 0.9) +\r\n",
                "  geom_path(show.legend = T, alpha = 0.6, size = 1.2) +\r\n",
                "  coord_equal()\r\n"
            ],
            "outputs": [],
            "metadata": {}
        },
        {
            "cell_type": "markdown",
            "source": [
                "To quantify the ROC performance, you can calculate an aggregate area under the curve score that is averaged across all of the OVR curves.\n",
                "\n"
            ],
            "metadata": {}
        },
        {
            "cell_type": "code",
            "execution_count": null,
            "source": [
                "# Calculate ROC_AOC\r\n",
                "results %>% \r\n",
                "  roc_auc(wine_variety, c(.pred_0, .pred_1, .pred_2))\r\n"
            ],
            "outputs": [],
            "metadata": {}
        },
        {
            "cell_type": "markdown",
            "source": [
                "That went down well! Overall, the model did a great job in classifying the wine varieties. Be sure to try out a different classification algorithm.\n",
                "\n",
                "### **Use the model with new data observation**\n",
                "\n",
                "When you're happy with your model's predictive performance, save it and then use it to predict classes for the following two new wine samples:\n",
                "\n",
                "-   [13.72, 1.43, 2.5, 16.7, 108, 3.4, 3.67, 0.19, 2.04, 6.8, 0.89, 2.87, 1285]\n",
                "\n",
                "-   [12.37, 0.94, 1.36, 10.6, 88, 1.98, 0.57, 0.28, 0.42, 1.95, 1.05, 1.82, 520]\n"
            ],
            "metadata": {}
        },
        {
            "cell_type": "code",
            "execution_count": null,
            "source": [
                "library(here)\r\n",
                "# Save trained workflow\r\n",
                "saveRDS(mr_wflow_fit, \"wine_mr_model.rds\")\r\n"
            ],
            "outputs": [],
            "metadata": {}
        },
        {
            "cell_type": "markdown",
            "source": [
                "Now, we can load it whenever we need it, and use it to predict labels for new data. This is often called *`scoring`* or *`inferencing`*.\n",
                "\n"
            ],
            "metadata": {}
        },
        {
            "cell_type": "code",
            "execution_count": null,
            "source": [
                "# Create a tibble for the new wine samples\r\n",
                "new_wines <- c(13.72, 1.43, 2.5, 16.7, 108, 3.4, 3.67, 0.19, 2.04, 6.8, 0.89, 2.87, 1285) %>% \r\n",
                "  rbind(c(12.37, 0.94, 1.36, 10.6, 88, 1.98, 0.57, 0.28, 0.42, 1.95, 1.05, 1.82, 520)) %>% \r\n",
                "  as_tibble()\r\n",
                "names(new_wines) = as.character(names(wine_data)[1:13])\r\n",
                "\r\n",
                "new_wines\r\n"
            ],
            "outputs": [],
            "metadata": {}
        },
        {
            "cell_type": "markdown",
            "source": [
                "\n"
            ],
            "metadata": {}
        },
        {
            "cell_type": "code",
            "execution_count": null,
            "source": [
                "# Load the model into the current R session\r\n",
                "loaded_model <- readRDS(\"wine_mr_model.rds\")\r\n",
                "\r\n",
                "# Make predictions\r\n",
                "predictions <- loaded_model %>% \r\n",
                "  augment(new_data = new_wines)\r\n",
                "\r\n",
                "predictions\r\n"
            ],
            "outputs": [],
            "metadata": {}
        },
        {
            "cell_type": "markdown",
            "source": [
                "Happy Learning,\n",
                "\n",
                "[Eric](https://twitter.com/ericntay), Gold Microsoft Learn Student Ambassador.\n"
            ],
            "metadata": {}
        }
    ],
    "metadata": {
        "anaconda-cloud": "",
        "kernelspec": {
            "display_name": "R",
            "langauge": "R",
            "name": "ir"
        },
        "language_info": {
            "codemirror_mode": "r",
            "file_extension": ".r",
            "mimetype": "text/x-r-source",
            "name": "R",
            "pygments_lexer": "r",
            "version": "3.4.1"
        }
    },
    "nbformat": 4,
    "nbformat_minor": 1
}