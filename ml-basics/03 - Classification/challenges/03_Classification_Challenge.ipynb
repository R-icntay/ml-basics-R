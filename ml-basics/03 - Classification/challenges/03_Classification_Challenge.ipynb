{
    "cells": [
        {
            "cell_type": "markdown",
            "source": [
                "## **Classification Challenge**\n",
                "\n",
                "Wine experts can identify wines from specific vineyards through smell and taste, but the factors that give different wines their individual charateristics are actually based on their chemical composition.\n",
                "\n",
                "In this challenge, you must train a classification model to analyze the chemical and visual features of wine samples and classify them based on their cultivar (grape variety).\n",
                "\n",
                "> **Citation**: The data used in this exercise was originally collected by Forina, M. et al.\n",
                ">\n",
                "> PARVUS - An Extendible Package for Data Exploration, Classification and Correlation. Institute of Pharmaceutical and Food Analysis and Technologies, Via Brigata Salerno, 16147 Genoa, Italy.\n",
                ">\n",
                "> It can be downloaded from the UCI dataset repository (Dua, D. and Graff, C. (2019). UCI Machine Learning Repository. Irvine, CA: University of California, School of Information and Computer Science).\n",
                "\n",
                "### **Explore the data**\n",
                "\n",
                "Let's hit the ground running by importing a CSV file of wine data, which consists of 12 numeric features and a classification label with the following classes:\n",
                "\n",
                "-   **0** (*variety A*)\n",
                "\n",
                "-   **1** (*variety B*)\n",
                "\n",
                "-   **2** (*variety C*)\n"
            ],
            "metadata": {}
        },
        {
            "cell_type": "code",
            "execution_count": null,
            "source": [
                "# Load the core tidyverse and tidymodels in your current R session\r\n",
                "suppressPackageStartupMessages({\r\n",
                "  library(tidyverse)\r\n",
                "  library(tidymodels)\r\n",
                "})\r\n",
                "\r\n",
                "# Read the csv file into a tibble\r\n",
                "data <- read_csv(file = \"https://raw.githubusercontent.com/MicrosoftDocs/ml-basics/master/challenges/data/wine.csv\", show_col_types = FALSE)\r\n",
                "\r\n",
                "# Print the first 10 rows of the data\r\n",
                "data %>% \r\n",
                "  slice_head(n = 10)\r\n"
            ],
            "outputs": [],
            "metadata": {}
        },
        {
            "cell_type": "markdown",
            "source": [
                "Your challenge is to explore the data and train a classification model that achieves an overall *Recall* metric of over 0.95 (95%).\n",
                "\n",
                "> **Note**: There is no single \"correct\" solution. A sample solution is provided in 03 - Wine Classification Solution.ipynb.\n",
                "\n",
                "## **Train and evaluate a model**\n",
                "\n",
                "Add markdown and code cells as required to to explore the data, train a model, and evaluate the model's predictive performance.\n"
            ],
            "metadata": {}
        },
        {
            "cell_type": "code",
            "execution_count": null,
            "source": [
                "# Your adventure to evaluate data, and train and evaluate a classification model begins here\r\n",
                "\r\n"
            ],
            "outputs": [],
            "metadata": {}
        },
        {
            "cell_type": "markdown",
            "source": [
                "## **Use the model with new data observation**\n",
                "\n",
                "When you're happy with your model's predictive performance, save it and then use it to predict classes for the following two new wine samples:\n",
                "\n",
                "-   [13.72, 1.43, 2.5, 16.7, 108, 3.4, 3.67, 0.19, 2.04, 6.8, 0.89, 2.87, 1285]\n",
                "\n",
                "-   [12.37, 0.94, 1.36, 10.6, 88, 1.98, 0.57, 0.28, 0.42, 1.95, 1.05, 1.82, 520]\n"
            ],
            "metadata": {}
        },
        {
            "cell_type": "code",
            "execution_count": null,
            "source": [
                "# Your code to predict classes for the two new samples. Put your model to the test!\r\n",
                "\r\n"
            ],
            "outputs": [],
            "metadata": {}
        }
    ],
    "metadata": {
        "anaconda-cloud": "",
        "kernelspec": {
            "display_name": "R",
            "langauge": "R",
            "name": "ir"
        },
        "language_info": {
            "codemirror_mode": "r",
            "file_extension": ".r",
            "mimetype": "text/x-r-source",
            "name": "R",
            "pygments_lexer": "r",
            "version": "3.4.1"
        }
    },
    "nbformat": 4,
    "nbformat_minor": 1
}