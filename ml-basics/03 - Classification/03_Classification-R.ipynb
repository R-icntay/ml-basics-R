{
  "nbformat": 4,
  "nbformat_minor": 2,
  "metadata": {
    "colab": {
      "name": "03_Classification-R",
      "provenance": [],
      "collapsed_sections": []
    },
    "kernelspec": {
      "display_name": "R",
      "name": "ir"
    },
    "language_info": {
      "name": "R"
    }
  },
  "cells": [
    {
      "cell_type": "markdown",
      "source": [
        "# Train and Evaluate Classification Models using Tidymodels"
      ],
      "metadata": {
        "id": "TMWlzKSmANrL"
      }
    },
    {
      "cell_type": "markdown",
      "source": [
        "## Buckle up 🚀\r\n",
        "\r\n",
        "In this learning path, we'll learn how to create Machine learning models using `R` 😊. Machine learning is the foundation for predictive modeling and artificial intelligence. We'll learn the core principles of machine learning and how to use common tools and frameworks to train, evaluate, and use machine learning models.\r\n",
        "\r\n",
        "Modules that will be covered in this learning path include:\r\n",
        "\r\n",
        "-   Explore and analyze data with R\r\n",
        "\r\n",
        "-   Train and evaluate regression models\r\n",
        "\r\n",
        "-   Train and evaluate classification models\r\n",
        "\r\n",
        "-   *Train and evaluate clustering models (under development)*\r\n",
        "\r\n",
        "-   *Train and evaluate deep learning models (under development)*\r\n",
        "\r\n",
        "### **Prerequisites**\r\n",
        "\r\n",
        "This learning path assumes knowledge of basic mathematical concepts. Some experience with `R and the tidyverse` is also beneficial though we'll try as much as possible to skim through the core concepts. To get started with R and the tidyverse, the best place would be [R for Data Science](http://r4ds.had.co.nz/) an O'Reilly book written by Hadley Wickham and Garrett Grolemund. It's designed to take you from knowing nothing about R or the tidyverse to having all the basic tools of data science at your fingertips.\r\n",
        "\r\n",
        "The `Python` edition of the learning path can be found at [this learning path](https://docs.microsoft.com/en-us/learn/paths/create-machine-learn-models/).\r\n",
        "\r\n",
        "**Why R?**\r\n",
        "\r\n",
        "> First, while not the only good option, R has been shown to be popular and effective in modern data analysis. Second, R is free and open-source. You can install it anywhere, modify the code, and have the ability to see exactly how computations are performed. Third, it has excellent community support via the canonical R mailing lists and, more importantly, with Twitter, StackOverflow, and RStudio Community. Anyone who asks a reasonable, reproducible question has a pretty good chance of getting an answer. - [`Feature Engineering and Selection: A Practical Approach for Predictive Models, Max Kuhn and Kjell Johnson`](https://bookdown.org/max/FES/)\r\n",
        "\r\n",
        "Now, let's get started!\r\n",
        "\r\n",
        "<p >\r\n",
        "   <img src=\"images/encouRage.jpg\"\r\n",
        "   width=\"630\"/>\r\n",
        "   <figcaption>Artwork by @allison_horst</figcaption>\r\n",
        "\r\n",
        "\r\n",
        "\r\n",
        "## A gentle introduction to classification\r\n",
        "\r\n",
        "*Classification* is a form of machine learning in which you train a model to predict which category an item belongs to. *Categorical* data has distinct 'classes', rather than numeric values.\r\n",
        "\r\n",
        "For example, a health clinic might use diagnostic data such as a patient's height, weight, blood pressure, blood-glucose level to predict whether or not the patient is diabetic.\r\n",
        "\r\n",
        "<p >\r\n",
        "   <img src=\"images/diabetes-classification.png\"\r\n",
        "   >\r\n",
        "   <figcaption></figcaption>\r\n",
        "\r\n",
        "\r\n",
        "\r\n",
        "Classification is an example of a *supervised* machine learning technique, which means it relies on data that includes known *feature* values (for example, diagnostic measurements for patients) as well as known *label* values (for example, a classification of non-diabetic or diabetic). A classification algorithm is used to fit a subset of the data to a function that can calculate the `probability` for each class label from the feature values. The remaining data is used to evaluate the model by comparing the predictions it generates from the features to the known class labels.\r\n",
        "\r\n",
        "The simplest form of classification is *binary* classification, in which the label is 0 or 1, representing one of two classes; for example, \"True\" or \"False\"; \"Internal\" or \"External\"; \"Profitable\" or \"Non-Profitable\"; and so on.\r\n",
        "\r\n",
        "The class prediction is made by determining the *probability* for each possible class as a value between 0 -impossible - and 1 - certain. The total probability for all classes is 1, as the patient is definitely either diabetic or non-diabetic. So, if the predicted probability of a patient being diabetic is 0.3, then there is a corresponding probability of 0.7 that the patient is non-diabetic.\r\n",
        "\r\n",
        "A threshold value, usually 0.5, is used to determine the predicted class - so if the *positive* class (in this case, diabetic) has a predicted probability greater than the threshold, then a classification of diabetic is predicted.\r\n",
        "\r\n",
        "The best way to learn about classification is to try it for yourself, so that's what you'll do in this exercise.\r\n",
        "\r\n",
        "> We'll require some packages to knock-off this module. You can have them installed as: `install.packages(c('tidyverse', 'tidymodels', 'ranger', 'vip', 'palmerpenguins', 'skimr', 'paletteer', 'nnet', 'here', 'doParallel'))`\r\n",
        "\r\n",
        "Alternatively, the script below checks whether you have the packages required to complete this module and installs them for you in case some are missing."
      ],
      "metadata": {
        "id": "JuhbPSxzAlrw"
      }
    },
    {
      "cell_type": "code",
      "execution_count": null,
      "source": [
        "suppressWarnings(if(!require(\"pacman\")) install.packages(\"pacman\"))\r\n",
        "\r\n",
        "pacman::p_load('tidyverse', 'tidymodels', 'ranger',\r\n",
        "               'vip', 'skimr', 'here','palmerpenguins', 'kernlab',\r\n",
        "               'janitor', 'paletteer', 'nnet', 'doParallel')"
      ],
      "outputs": [],
      "metadata": {
        "colab": {
          "background_save": true,
          "base_uri": "https://localhost:8080/"
        },
        "id": "2bc6lkDsBUph",
        "outputId": "c46aad00-6231-439c-eacf-1c02b02cc272"
      }
    },
    {
      "cell_type": "markdown",
      "source": [
        "## 1. Binary classification\n",
        "\n",
        "Let's start by looking at an example of *binary classification*, where the model must predict a label that belongs to one of two classes. In this exercise, we'll train a binary classifier to predict whether or not a patient should be tested for diabetes based on some medical data.\n",
        "\n",
        "### Explore the data\n",
        "\n",
        "The first step in any machine learning project is to `explore the data` that you will use to train a model. And before we can explore the data, we must first have it in our environment, right?\n",
        "\n",
        "So, let's begin by importing a CSV file of patent data into a `tibble` (a modern a modern reimagining of the data frame):\n",
        "\n",
        "> **Citation**: The diabetes dataset used in this exercise is based on data originally collected by the National Institute of Diabetes and Digestive and Kidney Diseases."
      ],
      "metadata": {
        "id": "cmGvzbP6BfCP"
      }
    },
    {
      "cell_type": "code",
      "execution_count": null,
      "source": [
        "# Load the core tidyverse and make it available in your current R session\r\n",
        "library(tidyverse)\r\n",
        "\r\n",
        "# Read the csv file into a tibble\r\n",
        "diabetes <- read_csv(file = \"https://raw.githubusercontent.com/MicrosoftDocs/ml-basics/master/data/diabetes.csv\")\r\n",
        "\r\n",
        "# Print the first 10 rows of the data\r\n",
        "diabetes %>% \r\n",
        "  slice_head(n = 10)"
      ],
      "outputs": [],
      "metadata": {
        "id": "X2hbMSdwBnY6"
      }
    },
    {
      "cell_type": "markdown",
      "source": [
        "Sometimes, we may want some little more information on our data. We can have a look at the `data`, `its structure` and the `data type` of its features by using the [*glimpse()*](https://pillar.r-lib.org/reference/glimpse.html) function as below:"
      ],
      "metadata": {
        "id": "B-exux31Bwgv"
      }
    },
    {
      "cell_type": "code",
      "execution_count": null,
      "source": [
        "# Take a quick glance at the data\r\n",
        "diabetes %>% \r\n",
        "  glimpse()"
      ],
      "outputs": [],
      "metadata": {
        "id": "pgYW-cP8B1TT"
      }
    },
    {
      "cell_type": "markdown",
      "source": [
        "This data consists of diagnostic information about some patients who have been tested for diabetes. Note that the final column in the dataset (`Diabetic`) contains the value *`0`* for patients who tested `negative` for diabetes, and *`1`* for patients who tested positive. This is the label that we will train our model to predict; most of the other columns (**Pregnancies**, **PlasmaGlucose**, **DiastolicBloodPressure**, **BMI** and so on) are the features we will use to predict the **Diabetic** label.\n",
        "\n",
        "Let's kick off our adventure by reformatting the data to make it easier for a model to use effectively. For now, let's drop the PatientID column, encode the Diabetic column as a categorical variable, and make the column names a bit friend_lieR:"
      ],
      "metadata": {
        "id": "8qtey0tOB4vv"
      }
    },
    {
      "cell_type": "code",
      "execution_count": null,
      "source": [
        "# Load the janitor package for cleaning data\r\n",
        "library(janitor)\r\n",
        "\r\n",
        "# Clean data a bit\r\n",
        "diabetes_select <- diabetes %>%\r\n",
        "  # Encode Diabetic as category\r\n",
        "  mutate(Diabetic = factor(Diabetic, levels = c(\"1\",\"0\"))) %>% \r\n",
        "  # Drop PatientID column\r\n",
        "  select(-PatientID) %>% \r\n",
        "  # Clean column names\r\n",
        "  clean_names()\r\n",
        "\r\n",
        "\r\n",
        "# View data set\r\n",
        "diabetes_select %>% \r\n",
        "  slice_head(n = 10)"
      ],
      "outputs": [],
      "metadata": {
        "id": "Tl3fcvQ1B9Oe"
      }
    },
    {
      "cell_type": "markdown",
      "source": [
        "The goal of this exploration is to try to understand the `relationships` between its attributes; in particular, any apparent correlation between the *features* and the *label* your model will try to predict. One way of doing this is by using data visualization.\n",
        "\n",
        "Now let's compare the feature distributions for each label value. We'll begin by formatting the data to a *long* format to make it somewhat easier to make multiple facets.\n"
      ],
      "metadata": {
        "id": "h-B4wywiCCH1"
      }
    },
    {
      "cell_type": "code",
      "execution_count": null,
      "source": [
        "# Pivot data to a long format\r\n",
        "diabetes_select_long <- diabetes_select %>% \r\n",
        "    pivot_longer(!diabetic, names_to = \"features\", values_to = \"values\")\r\n",
        "\r\n",
        "\r\n",
        "# Print the first 10 rows\r\n",
        "diabetes_select_long %>% \r\n",
        "  slice_head(n = 10)"
      ],
      "outputs": [],
      "metadata": {
        "id": "eyITQdzlCI3Y"
      }
    },
    {
      "cell_type": "markdown",
      "source": [
        "Perfect! Now, let's make some plots."
      ],
      "metadata": {
        "id": "UQ5a0xw-CQMr"
      }
    },
    {
      "cell_type": "code",
      "execution_count": null,
      "source": [
        "theme_set(theme_light())\r\n",
        "# Make a box plot for each predictor feature\r\n",
        "diabetes_select_long %>% \r\n",
        "  ggplot(mapping = aes(x = diabetic, y = values, fill = features)) +\r\n",
        "  geom_boxplot() + \r\n",
        "  facet_wrap(~ features, scales = \"free\", ncol = 4) +\r\n",
        "  scale_color_viridis_d(option = \"plasma\", end = .7) +\r\n",
        "  theme(legend.position = \"none\")"
      ],
      "outputs": [],
      "metadata": {
        "id": "2SKSGApMCZ_e"
      }
    },
    {
      "cell_type": "markdown",
      "source": [
        "Amazing🤩! For some of the features, there's a noticeable difference in the distribution for each label value. In particular, `Pregnancies` and `Age` show markedly different distributions for diabetic patients than for non-diabetic patients. These features may help predict whether or not a patient is diabetic.\n",
        "\n",
        "### Split the data\n",
        "\n",
        "Our dataset includes known values for the label, so we can use this to train a classifier so that it finds a statistical relationship between the features and the label value; but how will we know if our model is any good? How do we know it will predict correctly when we use it with new data that it wasn't trained with?\n",
        "\n",
        "It is best practice to hold out some of your data for **testing** in order to get a better estimate of how your models will perform on new data by comparing the predicted labels with the already known labels in the test set.\n",
        "\n",
        "Well, we can take advantage of the fact we have a large dataset with known label values, use only some of it to train the model, and hold back some to test the trained model - enabling us to compare the predicted labels with the already known labels in the test set.\n",
        "\n",
        "In R, the amazing Tidymodels framework provides a collection of packages for modeling and machine learning using **tidyverse** principles. For instance, [rsample](https://rsample.tidymodels.org/), a package in Tidymodels, provides infrastructure for efficient data splitting and resampling:\n",
        "\n",
        "-   `initial_split()`: specifies how data will be split into a training and testing set\n",
        "\n",
        "-   `training()` and `testing()` functions extract the data in each split\n",
        "\n",
        "use `?initial_split()` for more details.\n",
        "\n",
        "> Here is a great place to get started with Tidymodels: [Get Started](https://www.tidymodels.org/start/)"
      ],
      "metadata": {
        "id": "nxVUVKM_CbBf"
      }
    },
    {
      "cell_type": "code",
      "execution_count": null,
      "source": [
        "# Load the Tidymodels packages\r\n",
        "library(tidymodels)\r\n",
        "\r\n",
        "\r\n",
        "\r\n",
        "# Split data into 70% for training and 30% for testing\r\n",
        "set.seed(2056)\r\n",
        "diabetes_split <- diabetes_select %>% \r\n",
        "  initial_split(prop = 0.70)\r\n",
        "\r\n",
        "\r\n",
        "# Extract the data in each split\r\n",
        "diabetes_train <- training(diabetes_split)\r\n",
        "diabetes_test <- testing(diabetes_split)\r\n",
        "\r\n",
        "\r\n",
        "# Print the number of cases in each split\r\n",
        "cat(\"Training cases: \", nrow(diabetes_train), \"\\n\",\r\n",
        "    \"Test cases: \", nrow(diabetes_test), sep = \"\")\r\n",
        "\r\n",
        "\r\n",
        "# Print out the first 5 rows of the training set\r\n",
        "diabetes_train %>% \r\n",
        "  slice_head(n = 5)"
      ],
      "outputs": [],
      "metadata": {
        "id": "d78ecnsACi77"
      }
    },
    {
      "cell_type": "markdown",
      "source": [
        "### Train and Evaluate a Binary Classification Model\n",
        "\n",
        "OK, now we're ready to train our model by fitting the training features to the training labels (`diabetic`). There are various algorithms we can use to train the model. In this example, we'll use *`Logistic Regression`*, which (despite its name) is a well-established algorithm for classification. Logistic regression is a binary classification algorithm, meaning it predicts 2 categories.\n",
        "\n",
        "There are quite a number of ways to fit a logistic regression model in Tidymodels. See `?logistic_reg()` For now, let's fit a logistic regression model via the default `stats::glm()` engine."
      ],
      "metadata": {
        "id": "MCEnOoNfCtHO"
      }
    },
    {
      "cell_type": "code",
      "execution_count": null,
      "source": [
        "# Make a model specifcation\r\n",
        "logreg_spec <- logistic_reg() %>% \r\n",
        "  set_engine(\"glm\") %>% \r\n",
        "  set_mode(\"classification\")\r\n",
        "\r\n",
        "\r\n",
        "# Print the model specification\r\n",
        "logreg_spec"
      ],
      "outputs": [],
      "metadata": {
        "id": "6c_6IKZZC0R5"
      }
    },
    {
      "cell_type": "markdown",
      "source": [
        "After a model has been *specified*, the model can be `estimated` or `trained` using the [`fit()`](https://tidymodels.github.io/parsnip/reference/fit.html) function, typically using a symbolic description of the model (a formula) and some data."
      ],
      "metadata": {
        "id": "rTfbdLoGC35P"
      }
    },
    {
      "cell_type": "code",
      "execution_count": null,
      "source": [
        "# Train a logistic regression model\r\n",
        "logreg_fit <- logreg_spec %>% \r\n",
        "  fit(diabetic ~ ., data = diabetes_train)\r\n",
        "\r\n",
        "\r\n",
        "# Print the model object\r\n",
        "logreg_fit"
      ],
      "outputs": [],
      "metadata": {
        "id": "4zLFbS9OG_Dh"
      }
    },
    {
      "cell_type": "markdown",
      "source": [
        "The model print out shows the coefficients learned during training.\n",
        "\n",
        "Now we've trained the model using the training data, we can use the test data we held back to evaluate how well it predicts using [parsnip::predict()](https://parsnip.tidymodels.org/reference/predict.model_fit.html). Let's start by using the model to predict labels for our test set, and compare the predicted labels to the known labels:"
      ],
      "metadata": {
        "id": "qR2CqhGdHDI7"
      }
    },
    {
      "cell_type": "code",
      "execution_count": null,
      "source": [
        "# Make predictions then bind them to the test set\r\n",
        "results <- diabetes_test %>% select(diabetic) %>% \r\n",
        "  bind_cols(logreg_fit %>% predict(new_data = diabetes_test))\r\n",
        "\r\n",
        "\r\n",
        "# Compare predictions\r\n",
        "results %>% \r\n",
        "  slice_head(n = 10)"
      ],
      "outputs": [],
      "metadata": {
        "id": "TMrSRA5qHHmU"
      }
    },
    {
      "cell_type": "markdown",
      "source": [
        "Comparing each prediction with its corresponding \"ground truth\" actual value isn't a very efficient way to determine how well the model is predicting. Fortunately, Tidymodels has a few more tricks up its sleeve: [`yardstick`](https://yardstick.tidymodels.org/) - a package used to measure the effectiveness of models using performance metrics.\n",
        "\n",
        "The most obvious thing you might want to do is to check the *accuracy* of the predictions - in simple terms, what proportion of the labels did the model predict correctly?\n",
        "\n",
        "`yardstick::accuracy()` does just that!"
      ],
      "metadata": {
        "id": "Nnne1yIdHK_h"
      }
    },
    {
      "cell_type": "code",
      "execution_count": null,
      "source": [
        "# Calculate accuracy: proportion of data predicted correctly\r\n",
        "accuracy(data = results, truth = diabetic, estimate = .pred_class)"
      ],
      "outputs": [],
      "metadata": {
        "id": "QrcdN_s-HPt_"
      }
    },
    {
      "cell_type": "markdown",
      "source": [
        "The accuracy is returned as a decimal value - a value of 1.0 would mean that the model got 100% of the predictions right; while an accuracy of 0.0 is, well, pretty useless 😐!\n",
        "\n",
        "Accuracy seems like a sensible metric to evaluate (and to a certain extent it is), but you need to be careful about drawing too many conclusions from the accuracy of a classifier. Remember that it's simply a measure of how many cases were predicted correctly. Suppose only 3% of the population is diabetic. You could create a classifier that always just predicts 0, and it would be 97% accurate - but not terribly helpful in identifying patients with diabetes!\n",
        "\n",
        "Fortunately, there are some other metrics that reveal a little more about how our classification model is performing.\n",
        "\n",
        "One performance metric associated with classification problems is the [`confusion matrix`](https://wikipedia.org/wiki/Confusion_matrix). A confusion matrix describes how well a classification model performs by tabulating how many examples in each class were correctly classified by a model. In our case, it will show you how many cases were classified as negative (0) and how many as positive (1); the confusion matrix also shows you how many were classified into the *wrong* categories.\n",
        "\n",
        "The [`conf_mat()`](https://tidymodels.github.io/yardstick/reference/conf_mat.html) function from yardstick calculates this cross-tabulation of observed and predicted classes."
      ],
      "metadata": {
        "id": "mPq-cLrSHTG3"
      }
    },
    {
      "cell_type": "code",
      "execution_count": null,
      "source": [
        "# Confusion matrix for prediction results\n",
        "conf_mat(data = results, truth = diabetic, estimate = .pred_class)"
      ],
      "outputs": [],
      "metadata": {
        "id": "2f7Fl5XvHYu_"
      }
    },
    {
      "cell_type": "markdown",
      "source": [
        "Awesome!\n",
        "\n",
        "Let's interpret the confusion matrix. Our model is asked to classify cases between two binary categories, category `1` for patients who tested positive for diabetes and category `0` for patients who tested negative.\n",
        "\n",
        "-   If your model predicts a patient as `1` (positive) and they belong to category `1` (positive) in reality we call this a `true positive`, shown by the top left number `897`.\n",
        "\n",
        "-   If your model predicts a patient as `0` (negative) and they belong to category `1` (positive) in reality we call this a `false negative`, shown by the bottom left number `657`.\n",
        "\n",
        "-   If your model predicts a patient as `1` (positive) and they belong to category `0` (negative) in reality we call this a `false positive`, shown by the top right number `293`.\n",
        "\n",
        "-   If your model predicts a patient as `0` (negative) and they belong to category `0` (negative) in reality we call this a `true negative`, shown by the bottom right number `2653`.\n",
        "\n",
        "Our confusion matrix can thus be expressed in the following form:\n",
        "\n",
        "| Truth |\n",
        "|:-----:|\n",
        "\n",
        "|               |                  |                   |\n",
        "|:-------------:|:----------------:|:-----------------:|\n",
        "| **Predicted** |        1         |         0         |\n",
        "|       1       | $897_{\\ \\ \\ TP}$ | $293_{\\ \\ \\ FP}$  |\n",
        "|       0       | $657_{\\ \\ \\ FN}$ | $2653_{\\ \\ \\ TN}$ |\n",
        "\n",
        "Note that the correct (*`true`*) predictions form a diagonal line from top left to bottom right - these figures should be significantly higher than the *false* predictions if the model is any good.\n",
        "\n",
        "As you might have guessed it's preferable to have a larger number of true positives and true negatives and a lower number of false positives and false negatives, which implies that the model performs better.\n",
        "\n",
        "The confusion matrix is helpful since it gives rise to other metrics that can help us better evaluate the performance of a classification model. Let's go through some of them:\n",
        "\n",
        "🎓 Precision: `TP/(TP + FP)` defined as the proportion of predicted positives that are actually positive. Also called [positive predictive value](https://en.wikipedia.org/wiki/Positive_predictive_value \"Positive predictive value\")\n",
        "\n",
        "🎓 Recall: `TP/(TP + FN)` defined as the proportion of positive results out of the number of samples which were actually positive. Also known as `sensitivity`.\n",
        "\n",
        "🎓 Specificity: `TN/(TN + FP)` defined as the proportion of negative results out of the number of samples which were actually negative.\n",
        "\n",
        "🎓 Accuracy: `TP + TN/(TP + TN + FP + FN)` The percentage of labels predicted accurately for a sample.\n",
        "\n",
        "🎓 F Measure: A weighted average of the precision and recall, with best being 1 and worst being 0.\n",
        "\n",
        "Tidymodels provides yet another succinct way of evaluating all these metrics. Using `yardstick::metric_set()`, you can combine multiple metrics together into a new function that calculates all of them at once."
      ],
      "metadata": {
        "id": "CpthP6qXHcqD"
      }
    },
    {
      "cell_type": "code",
      "execution_count": null,
      "source": [
        "# Combine metrics and evaluate them all at once\n",
        "eval_metrics <- metric_set(ppv, recall, accuracy, f_meas)\n",
        "eval_metrics(data = results, truth = diabetic, estimate = .pred_class)"
      ],
      "outputs": [],
      "metadata": {
        "id": "sF17dhx0Hky4"
      }
    },
    {
      "cell_type": "markdown",
      "source": [
        "Using the precision (ppv) metric, we are able to answer the question:\n",
        "\n",
        "-   Of all the patients the model predicted are diabetic, how many are actually diabetic?\n",
        "\n",
        "Using the recall metric, we are able to answer the question:\n",
        "\n",
        "-   Of all the patients that are actually diabetic, how many did the model identify?\n",
        "\n",
        "Great job, we just made predictions and evaluated them using a number of metrics.\n",
        "\n",
        "Until now, we've considered the predictions from the model as being either 1 or 0 class labels. Actually, things are a little more complex than that. Statistical machine learning algorithms, like logistic regression, are based on `probability`; so what actually gets predicted by a binary classifier is the probability that the label is true ($P(y)$) and the probability that the label is false ($1-P(y)$). A threshold value of 0.5 is used to decide whether the predicted label is a `1` ($P(y)>0.5$) or a `0` ($P(y)<=0.5$). Let's see the probability pairs for each case:"
      ],
      "metadata": {
        "id": "tNOJC39mHpiR"
      }
    },
    {
      "cell_type": "code",
      "execution_count": null,
      "source": [
        "# Predict class probabilities and bind them to results\n",
        "results <- results %>% \n",
        "  bind_cols(logreg_fit %>% \n",
        "              predict(new_data = diabetes_test, type = \"prob\"))\n",
        "\n",
        "  \n",
        "\n",
        "# Print out the results\n",
        "results %>% \n",
        "  slice_head(n = 10)"
      ],
      "outputs": [],
      "metadata": {
        "id": "1lx4rKYUHv0b"
      }
    },
    {
      "cell_type": "markdown",
      "source": [
        "The decision to score a prediction as a 1 or a 0 depends on the threshold to which the predicted probabilities are compared. If we were to change the threshold, it would affect the predictions; and therefore change the metrics in the confusion matrix. A common way to evaluate a classifier is to examine the *true positive rate* (which is another name for recall) and the *false positive rate* (1 - specificity) for a range of possible thresholds. These rates are then plotted against all possible thresholds to form a chart known as a *received operator characteristic (ROC) chart*, like this:"
      ],
      "metadata": {
        "id": "ka_Yq_zeHzjK"
      }
    },
    {
      "cell_type": "code",
      "execution_count": null,
      "source": [
        "# Make a roc_chart\n",
        "results %>% \n",
        "  roc_curve(truth = diabetic, .pred_1) %>% \n",
        "  autoplot()"
      ],
      "outputs": [],
      "metadata": {
        "id": "_ERnACDBH4hD"
      }
    },
    {
      "cell_type": "markdown",
      "source": [
        "The ROC chart shows the curve of the true and false positive rates for different threshold values between 0 and 1. A perfect classifier would have a curve that goes straight up the left side and straight across the top. The diagonal line across the chart represents the probability of predicting correctly with a 50/50 random prediction; so you obviously want the curve to be higher than that (or your model is no better than simply guessing!).\n",
        "\n",
        "The area under the curve (AUC) is a value between 0 and 1 that quantifies the overall performance of the model. One way of interpreting AUC is as the probability that the model ranks a random positive example more highly than a random negative example. The closer to 1 this value is, the better the model. Once again, Tidymodels includes a function to calculate this metric: `yardstick::roc_auc()`"
      ],
      "metadata": {
        "id": "hIfn2_RaH7Fo"
      }
    },
    {
      "cell_type": "code",
      "execution_count": null,
      "source": [
        "# Compute the AUC\n",
        "results %>% \n",
        "  roc_auc(diabetic, .pred_1)"
      ],
      "outputs": [],
      "metadata": {
        "id": "z8eUtCEbH_fA"
      }
    },
    {
      "cell_type": "markdown",
      "source": [
        "## 2. Recipes and workflows\n",
        "\n",
        "#### Data preprocessing with recipes\n",
        "\n",
        "In this case, the ROC curve and its AUC indicate that the model performs better than a random guess which is not bad considering we performed very little preprocessing of the data.\n",
        "\n",
        "In practice, it's common to perform some preprocessing of the data to make it easier for the algorithm to fit a model to it. There's a huge range of preprocessing transformations you can perform to get your data ready for modeling, but we'll limit ourselves to a few common techniques:\n",
        "\n",
        "-   Scaling numeric features so they're on the same scale. This prevents features with large values from producing coefficients that disproportionately affect the predictions.\n",
        "\n",
        "-   Encoding categorical variables. For example, by using a *one hot encoding* technique you can create \"*dummy*\" or *indicator variables* which replace the original categorical feature with numeric columns whose values are either 1 or 0.\n",
        "\n",
        "Tidymodels provides yet another neat package: [recipes](https://recipes.tidymodels.org/)- a package for preprocessing data. Let's specify a recipe that encodes the age column then normalizes the rest of the predictor features."
      ],
      "metadata": {
        "id": "B3UmIUv0IIUq"
      }
    },
    {
      "cell_type": "code",
      "execution_count": null,
      "source": [
        "# Preprocess the data for modelling\n",
        "diabetes_recipe <- recipe(diabetic ~ ., data = diabetes_train) %>% \n",
        "  step_mutate(age = factor(age)) %>% \n",
        "  step_normalize(all_numeric_predictors()) %>% \n",
        "  step_dummy(age)\n",
        "\n",
        "# Print the recipe\n",
        "diabetes_recipe"
      ],
      "outputs": [],
      "metadata": {
        "id": "dx4urHNOINlO"
      }
    },
    {
      "cell_type": "markdown",
      "source": [
        "We just created a recipe containing an outcome and its corresponding predictors, specifying that the age variable should be converted to a categorical variable (factor), all the numeric predictors normalized and creating dummy variables for the nominal predictor (age) 🙌.\n",
        "\n",
        "#### Bundling it all together using a workflow\n",
        "\n",
        "Now that we have a recipe and a model specification we defined previously, we need to find a way of bundling them together into an object that will first preprocess the data, fit the model on the preprocessed data and also allow for potential post-processing activities.\n",
        "\n",
        "In Tidymodels, this convenient object is called a [`workflow`](https://workflows.tidymodels.org/) and conveniently holds your modeling components.\n",
        "\n",
        "The [**workflows**](https://workflows.tidymodels.org/) package allows the user to bind modeling and preprocessing objects together. You can then fit the entire workflow to the data, such that the model encapsulates all of the preprocessing steps as well as the algorithm."
      ],
      "metadata": {
        "id": "zhNcKdjnIVY0"
      }
    },
    {
      "cell_type": "code",
      "execution_count": null,
      "source": [
        "# Redefine the model specification\n",
        "logreg_spec <- logistic_reg() %>% \n",
        "  set_engine(\"glm\") %>% \n",
        "  set_mode(\"classification\")\n",
        "\n",
        "# Bundle the recipe and model specification\n",
        "lr_wf <- workflow() %>% \n",
        "  add_recipe(diabetes_recipe) %>% \n",
        "  add_model(logreg_spec)\n",
        "\n",
        "# Print the workflow\n",
        "lr_wf"
      ],
      "outputs": [],
      "metadata": {
        "id": "dGtifD5QIZo5"
      }
    },
    {
      "cell_type": "markdown",
      "source": [
        "After a workflow has been *specified*, a model can be `trained` using the [`fit()`](https://tidymodels.github.io/parsnip/reference/fit.html) function."
      ],
      "metadata": {
        "id": "JdSf5PVFIdhF"
      }
    },
    {
      "cell_type": "code",
      "execution_count": null,
      "source": [
        "# Fit a workflow object\n",
        "lr_wf_fit <- lr_wf %>% \n",
        "  fit(data = diabetes_train)\n",
        "\n",
        "# Print wf object\n",
        "lr_wf_fit"
      ],
      "outputs": [],
      "metadata": {
        "id": "JQpjZcW3IhbC"
      }
    },
    {
      "cell_type": "markdown",
      "source": [
        "Good job👏! We now have a trained workflow. The workflow print out shows the coefficients learned during training.\n",
        "\n",
        "This allows us to use the model trained by this workflow to predict labels for our test set, and compare the performance metrics with the basic model we created previously."
      ],
      "metadata": {
        "id": "rUAPDVB_Il1B"
      }
    },
    {
      "cell_type": "code",
      "execution_count": null,
      "source": [
        "# Make predictions on the test set\n",
        "results <- diabetes_test %>% select(diabetic) %>% \n",
        "  bind_cols(lr_wf_fit %>% \n",
        "              predict(new_data = diabetes_test)) %>% \n",
        "  bind_cols(lr_wf_fit %>% \n",
        "              predict(new_data = diabetes_test, type = \"prob\"))\n",
        "\n",
        "# Print the results\n",
        "results %>% \n",
        "  slice_head(n = 10)\n"
      ],
      "outputs": [],
      "metadata": {
        "id": "O2TkTteXIp7M"
      }
    },
    {
      "cell_type": "markdown",
      "source": [
        "Let's take a look at the confusion matrix:"
      ],
      "metadata": {
        "id": "n1TaKw1AItXr"
      }
    },
    {
      "cell_type": "code",
      "execution_count": null,
      "source": [
        "# Confusion matrix for prediction results\n",
        "results %>% \n",
        "  conf_mat(truth = diabetic, estimate = .pred_class)"
      ],
      "outputs": [],
      "metadata": {
        "id": "LlUK6kz8Iwbd"
      }
    },
    {
      "cell_type": "markdown",
      "source": [
        "🤩🤩 Look at those metrics!\n",
        "\n",
        "Can we visualize this? Of course, nothing is impaRsible!"
      ],
      "metadata": {
        "id": "rI2xujniI3SA"
      }
    },
    {
      "cell_type": "code",
      "execution_count": null,
      "source": [
        "# Visualize conf mat\n",
        "update_geom_defaults(geom = \"rect\", new = list(fill = \"midnightblue\", alpha = 0.7))\n",
        "\n",
        "results %>% \n",
        "  conf_mat(diabetic, .pred_class) %>% \n",
        "  autoplot()"
      ],
      "outputs": [],
      "metadata": {
        "id": "jnklXhG5I4m_"
      }
    },
    {
      "cell_type": "markdown",
      "source": [
        "What about our other metrics such as ppv, sensitivity etc?"
      ],
      "metadata": {
        "id": "kfng-UesJDns"
      }
    },
    {
      "cell_type": "code",
      "execution_count": null,
      "source": [
        "# Evaluate other desired metrics\n",
        "eval_metrics(data = results, truth = diabetic, estimate = .pred_class)\n",
        "\n",
        "# Evaluate ROC_AUC metrics\n",
        "results %>% \n",
        "  roc_auc(diabetic, .pred_1)\n",
        "\n",
        "# Plot ROC_CURVE\n",
        "results %>% \n",
        "  roc_curve(diabetic, .pred_1) %>% \n",
        "  autoplot()"
      ],
      "outputs": [],
      "metadata": {
        "id": "Py0i2kcCJG5J"
      }
    },
    {
      "cell_type": "markdown",
      "source": [
        "Comparing with previous predictions, the metrics look better, so clearly preprocessing the data has made a difference.\n",
        "\n",
        "## 3. Try a different algorithm\n",
        "\n",
        "Now let's try a different algorithm. Previously we used a logistic regression algorithm, which is a *linear* algorithm. There are many kinds of classification algorithm we could try, including:\n",
        "\n",
        "-   **Support Vector Machine algorithms**: Algorithms that define a *hyperplane* that separates classes.\n",
        "\n",
        "-   **Tree-based algorithms**: Algorithms that build a decision tree to reach a prediction\n",
        "\n",
        "-   **Ensemble algorithms**: Algorithms that combine the outputs of multiple base algorithms to improve generalizability.\n",
        "\n",
        "This time, we'll train the model using an *ensemble* algorithm named *Random Forest* that averages the outputs of multiple random decision trees. Random forests help to reduce tree correlation by injecting more randomness into the tree-growing process. More specifically, instead of considering all predictors in the data, for calculating a given split, random forests pick a random sample of predictors to be considered for that split.\n",
        "\n",
        "> For further reading on Tree based models, please see:\n",
        ">\n",
        "> [Machine Learning for Social Scientists](https://cimentadaj.github.io/ml_socsci/tree-based-methods.html#random-forests)\n",
        "\n",
        "As we already have a gist of how to perform classification using Tidymodels, let's get right into specifying and fitting a random forest algorithm.\n"
      ],
      "metadata": {
        "id": "Rr0EQXqHJLGI"
      }
    },
    {
      "cell_type": "code",
      "execution_count": null,
      "source": [
        "# Preprocess the data for modelling\n",
        "diabetes_recipe <- recipe(diabetic ~ ., data = diabetes_train) %>% \n",
        "  step_mutate(age = factor(age)) %>% \n",
        "  step_normalize(all_numeric_predictors()) %>% \n",
        "  step_dummy(age)\n",
        "\n",
        "# Build a random forest model specification\n",
        "rf_spec <- rand_forest() %>% \n",
        "  set_engine(\"ranger\", importance = \"impurity\") %>% \n",
        "  set_mode(\"classification\")\n",
        "\n",
        "# Bundle recipe and model spec into a workflow\n",
        "rf_wf <- workflow() %>% \n",
        "  add_recipe(diabetes_recipe) %>% \n",
        "  add_model(rf_spec)\n",
        "\n",
        "# Fit a model\n",
        "rf_wf_fit <- rf_wf %>% \n",
        "  fit(data = diabetes_train)\n",
        "\n",
        "# Make predictions on test data\n",
        "results <- diabetes_test %>% select(diabetic) %>% \n",
        "  bind_cols(rf_wf_fit %>% \n",
        "              predict(new_data = diabetes_test)) %>% \n",
        "  bind_cols(rf_wf_fit %>% \n",
        "              predict(new_data = diabetes_test, type = \"prob\"))\n",
        "\n",
        "# Print out predictions\n",
        "results %>% \n",
        "  slice_head(n = 10)"
      ],
      "outputs": [],
      "metadata": {
        "id": "czUlt4gUJRFW"
      }
    },
    {
      "cell_type": "markdown",
      "source": [
        "💪 There goes our random_forest model. Is it any good? Let's evaluate its metrics!"
      ],
      "metadata": {
        "id": "-wiexW2bJWZY"
      }
    },
    {
      "cell_type": "code",
      "execution_count": null,
      "source": [
        "# Confusion metrics for rf_predictions\n",
        "results %>% \n",
        "  conf_mat(diabetic, .pred_class)\n",
        "\n",
        "# Confusion matrix plot\n",
        "results %>% \n",
        "  conf_mat(diabetic, .pred_class) %>% \n",
        "  autoplot()"
      ],
      "outputs": [],
      "metadata": {
        "id": "sIBqIaLvJYn1"
      }
    },
    {
      "cell_type": "markdown",
      "source": [
        "There is a considerable increase in the number of `True Positives` and `True Negatives`, which is a step in the right direction.\n",
        "\n",
        "Let's take a look at other evaluation metrics"
      ],
      "metadata": {
        "id": "5CX68UPpJcph"
      }
    },
    {
      "cell_type": "code",
      "execution_count": null,
      "source": [
        "# Evaluate other intuitive classification metrics\n",
        "rf_met <- results %>% \n",
        "  eval_metrics(truth = diabetic, estimate = .pred_class)\n",
        "\n",
        "# Evaluate ROC_AOC\n",
        "auc <- results %>% \n",
        "  roc_auc(diabetic, .pred_1)\n",
        "\n",
        "# Plot ROC_CURVE\n",
        "curve <- results %>% \n",
        "  roc_curve(diabetic, .pred_1) %>% \n",
        "  autoplot\n",
        "\n",
        "# Return metrics\n",
        "list(rf_met, auc, curve)"
      ],
      "outputs": [],
      "metadata": {
        "id": "MCuQmwIkJfxi"
      }
    },
    {
      "cell_type": "markdown",
      "source": [
        "For the sheer sake of adventure, let's make a Variable Importance Plot to see which predictor variables have the most impact in our model."
      ],
      "metadata": {
        "id": "6cyYee8PJjjZ"
      }
    },
    {
      "cell_type": "code",
      "execution_count": null,
      "source": [
        "# Load vip\n",
        "library(vip)\n",
        "\n",
        "# Extract the fitted model from the workflow\n",
        "rf_wf_fit %>% \n",
        "  extract_fit_parsnip() %>% \n",
        "# Make VIP plot\n",
        "  vip()"
      ],
      "outputs": [],
      "metadata": {
        "id": "oy8VgzYKJnL3"
      }
    },
    {
      "cell_type": "markdown",
      "source": [
        "Just as we had anticipated from our data exploration 😊! This goes to show the importance of data exploration.\n",
        "\n",
        "As revealed by the performance metrics, the random forest model seemed to have done a great job in increasing the True Positives/Negatives and reducing the False Positives/Negatives.\n",
        "\n",
        "#### Use the model for inferencing\n",
        "\n",
        "Now that we have a reasonably useful trained model, we can save it for use later to predict labels for new data:\n"
      ],
      "metadata": {
        "id": "RRTZsMyjJrMD"
      }
    },
    {
      "cell_type": "code",
      "execution_count": null,
      "source": [
        "# Save trained workflow\n",
        "saveRDS(rf_wf_fit, \"diabetes_rf_model.rds\")"
      ],
      "outputs": [],
      "metadata": {
        "id": "CEfyLddWJust"
      }
    },
    {
      "cell_type": "markdown",
      "source": [
        "Now, we can load it whenever we need it, and use it to predict labels for new data. This is often called *`scoring`* or *`inferencing`*.\n",
        "\n",
        "For example, lets create a simulated data set by picking a random value for each column in our test set then make predictions using the saved model."
      ],
      "metadata": {
        "id": "CuQ8ZKxFJxeM"
      }
    },
    {
      "cell_type": "code",
      "execution_count": null,
      "source": [
        "# Load the model into the current R session\n",
        "loaded_model <- readRDS(\"diabetes_rf_model.rds\")\n",
        "\n",
        "# Create new simulated data\n",
        "new_data <- lapply(diabetes_test, function(x){sample(x, size = 2)}) %>% \n",
        "  as_tibble()\n",
        "\n",
        "new_data\n",
        "\n",
        "# Make predictions\n",
        "predictions <- new_data %>% \n",
        "  bind_cols(loaded_model %>% predict(new_data))\n",
        "\n",
        "predictions"
      ],
      "outputs": [],
      "metadata": {
        "id": "ZUvGjOxZJ1VJ"
      }
    },
    {
      "cell_type": "markdown",
      "source": [
        "## 4. Multiclass Classification\n",
        "\n",
        "Binary classification techniques work well when the data observations belong to one of two classes or categories, such as `True` or `False`. When the data can be categorized into `more than two classes`, you must use a `multiclass classification algorithm`.\n",
        "\n",
        "Multiclass classification can be thought of as a `combination` of `multiple binary classifiers`. There are two ways in which you approach the problem:\n",
        "\n",
        "-   **One vs Rest (OVR)**, in which a classifier is created for each possible class value, with a positive outcome for cases where the prediction is *this* class, and negative predictions for cases where the prediction is any other class. A classification problem with four possible shape classes (*square*, *circle*, *triangle*, *hexagon*) would require four classifiers that predict:\n",
        "\n",
        "    -   *square* or not\n",
        "\n",
        "    -   *circle* or not\n",
        "\n",
        "    -   *triangle* or not\n",
        "\n",
        "    -   *hexagon* or not\n",
        "\n",
        "-   **One vs One (OVO)**, in which a classifier for each possible pair of classes is created. The classification problem with four shape classes would require the following binary classifiers:\n",
        "\n",
        "    -   *square* or *circle*\n",
        "\n",
        "    -   *square* or *triangle*\n",
        "\n",
        "    -   *square* or *hexagon*\n",
        "\n",
        "    -   *circle* or *triangle*\n",
        "\n",
        "    -   *circle* or *hexagon*\n",
        "\n",
        "    -   *triangle* or *hexagon*\n",
        "\n",
        "In both approaches, the overall model that combines the classifiers generates a vector of predictions in which the probabilities generated from the individual binary classifiers are used to determine which class to predict.\n",
        "\n",
        "Fortunately, in most machine learning frameworks, including Tidymodels, implementing a multiclass classification model is not significantly more complex than binary classification.\n",
        "\n",
        "#### Meet the data\n",
        "\n",
        "<p >\n",
        "   <img src=\"images/lter_penguins.png\"\n",
        "   width=\"600\"/>\n",
        "   <figcaption>The Palmer Archipelago penguins. Artwork by @allison_horst.</figcaption>\n",
        "\n"
      ],
      "metadata": {
        "id": "m8ywPk1RJ5QS"
      }
    },
    {
      "cell_type": "markdown",
      "source": [
        "In this sections, we'll build a multiclass classifier for classifying penguins!\n",
        "\n",
        "The `palmerpenguins` data contains size measurements for three penguin species observed on three islands in the Palmer Archipelago, Antarctica.\n",
        "\n",
        "> These data were collected from 2007 - 2009 by Dr. Kristen Gorman with the [Palmer Station Long Term Ecological Research Program](https://pal.lternet.edu/), part of the [US Long Term Ecological Research Network](https://lternet.edu/). The data were imported directly from the [Environmental Data Initiative](https://environmentaldatainitiative.org/) (EDI) Data Portal, and are available for use by CC0 license (\"No Rights Reserved\") in accordance with the [Palmer Station Data Policy](https://pal.lternet.edu/data/policies).\n",
        "\n",
        "In R, the package `palmerpenguins` by [Allison Marie Horst and Alison Presmanes Hill and Kristen B Gorman](https://allisonhorst.github.io/palmerpenguins/articles/intro.html) provides us with data related to these adorable creatures.\n",
        "\n",
        "The corresponding csv data used in the Python tutorial can be found [here](https://github.com/MicrosoftDocs/ml-basics/tree/master/data).\n",
        "\n",
        "Care for a pun?\n",
        "\n",
        "    What is a penguin’s favorite movie?\n",
        "\n",
        "    Frozen ❄️👧.\n",
        "\n",
        "With that, let's get started exploring some penguins 🐧🐧!"
      ],
      "metadata": {
        "id": "g57r7FmLK1Bc"
      }
    },
    {
      "cell_type": "markdown",
      "source": [
        "#### Explore the data"
      ],
      "metadata": {
        "id": "QDsYAL5AK4qB"
      }
    },
    {
      "cell_type": "code",
      "execution_count": null,
      "source": [
        "# Load the dataset\n",
        "library(palmerpenguins)\n",
        "\n",
        "# Take a peek into the data\n",
        "glimpse(penguins)"
      ],
      "outputs": [],
      "metadata": {
        "id": "QAr9S-ASK64L"
      }
    },
    {
      "cell_type": "markdown",
      "source": [
        "The data contains the following columns:\n",
        "\n",
        "-   **species:** a factor denoting the penguin species (`Adelie`, `Chinstrap`, or `Gentoo`)\n",
        "\n",
        "-   **island:** a factor denoting the island (in Palmer Archipelago, Antarctica) where observed\n",
        "\n",
        "-   **bill_length_mm (aka culmen_length):** a number denoting length of the dorsal ridge of penguin bill (millimeters)\n",
        "\n",
        "-   **bill_depth_mm (aka culmen_depth):** a number denoting the depth of the penguin bill (millimeters)\n",
        "\n",
        "-   **flipper_length_mm:** an integer denoting penguin flipper length (millimeters)\n",
        "\n",
        "-   **body_mass_g:** an integer denoting penguin body mass (grams)\n",
        "\n",
        "-   **sex:** a factor denoting penguin sex (male, female)\n",
        "\n",
        "-   **year:** an integer denoting the study year (2007, 2008, or 2009)\n",
        "\n",
        "The **species** column containing penguin species `Adelie`, `Chinstrap`, or `Gentoo`, is the label we want to train a model to predict.\n",
        "\n",
        "The corresponding [Python learning module](https://docs.microsoft.com/en-us/learn/modules/train-evaluate-classification-models/) used a data set with the following variables: **bill_length_mm**, **bill_depth_mm**, **flipper_length_mm**, **body_mass_g**, **species**.\n",
        "\n",
        "Let's narrow down to those and make some summary statistics while at it. The [skimr package](https://cran.r-project.org/web/packages/skimr/vignettes/skimr.html) provides a strong set of summary statistics that are generated for a variety of different data types."
      ],
      "metadata": {
        "id": "nJrLA5h9K-Mx"
      }
    },
    {
      "cell_type": "code",
      "execution_count": null,
      "source": [
        "# Select desired columns\n",
        "penguins_select <- penguins %>% \n",
        "  select(c(bill_length_mm, bill_depth_mm, flipper_length_mm,\n",
        "           body_mass_g, species))\n",
        "\n",
        "# Dso some summary statistics\n",
        "penguins_select %>% \n",
        "  skim()"
      ],
      "outputs": [],
      "metadata": {
        "id": "AFDvaLQiLEii"
      }
    },
    {
      "cell_type": "markdown",
      "source": [
        "From the neat summary provided by skimr, we can see that each our predictor columns contains missing 2 values while our label/outcome column contains none.\n",
        "\n",
        "Let's dig a little deeper and filter the rows that contain missing values."
      ],
      "metadata": {
        "id": "YnGc3_cILHSy"
      }
    },
    {
      "cell_type": "code",
      "execution_count": null,
      "source": [
        "penguins_select %>% \n",
        "  filter(if_any(everything(), is.na))"
      ],
      "outputs": [],
      "metadata": {
        "id": "jozoRZj8LKZI"
      }
    },
    {
      "cell_type": "markdown",
      "source": [
        "There are two rows that contain no feature values at all (`NA` stands for Not Available ), so these won't be useful in training a model. Let's discard them from the dataset."
      ],
      "metadata": {
        "id": "1VWUQkJ2LMp5"
      }
    },
    {
      "cell_type": "code",
      "execution_count": null,
      "source": [
        "# Drop rows containing missing values\n",
        "penguins_select <- penguins_select %>% \n",
        "  drop_na()\n",
        "\n",
        "# Confirm there are no missing values\n",
        "penguins_select %>% \n",
        "  anyNA()\n",
        "\n",
        "# Proportion of each species in the data\n",
        "penguins_select %>% \n",
        "  count(species)"
      ],
      "outputs": [],
      "metadata": {
        "id": "GEd2tJaqLPqQ"
      }
    },
    {
      "cell_type": "markdown",
      "source": [
        "Now that we've dealt with the missing values, let's explore how the features relate to the label by creating some box charts."
      ],
      "metadata": {
        "id": "x_9e_YiKLT8y"
      }
    },
    {
      "cell_type": "code",
      "execution_count": null,
      "source": [
        "# Pivot data to a long format\n",
        "penguins_select_long <- penguins_select %>% \n",
        "  pivot_longer(!species, names_to = \"predictors\", values_to = \"values\")\n",
        "\n",
        "# Make box plots\n",
        "penguins_select_long %>%\n",
        "  ggplot(mapping = aes(x = species, y = values, fill = predictors)) +\n",
        "  geom_boxplot() +\n",
        "  facet_wrap(~predictors, scales = \"free\") +\n",
        "  scale_fill_paletteer_d(\"nbapalettes::supersonics_holiday\") +\n",
        "  theme(legend.position = \"none\")"
      ],
      "outputs": [],
      "metadata": {
        "id": "vtfH20NiLXSS"
      }
    },
    {
      "cell_type": "markdown",
      "source": [
        "From the box plots, it looks like species `Adelie` and `Chinstrap` have similar data profiles for bill_depth, flipper_length, and body_mass, but Chinstraps tend to have longer bill_length. `Gentoo` tends to have fairly clearly differentiated features from the others; which should help us train a good classification model.\n",
        "\n",
        "#### Prepare the data\n",
        "\n",
        "Just as for binary classification, before training the model, we need to split the data into subsets for training and validation. We'll also apply a `stratification` technique when splitting the data to `maintain the proportion of each label value` in the training and validation datasets."
      ],
      "metadata": {
        "id": "zF5Rbti_Lag7"
      }
    },
    {
      "cell_type": "code",
      "execution_count": null,
      "source": [
        "set.seed(2056)\n",
        "# Split data 70%-30% into training set and test set\n",
        "penguins_split <- penguins_select %>% \n",
        "  initial_split(prop = 0.70, strata = species)\n",
        "\n",
        "# Extract data in each split\n",
        "penguins_train <- training(penguins_split)\n",
        "penguins_test <- testing(penguins_split)\n",
        "\n",
        "# Print the number of observations in each split\n",
        "cat(\"Training cases: \", nrow(penguins_train), \"\\n\",\n",
        "    \"Test cases: \", nrow(penguins_test), sep = \"\")"
      ],
      "outputs": [],
      "metadata": {
        "id": "gPiHFSbLLebD"
      }
    },
    {
      "cell_type": "markdown",
      "source": [
        "#### Train and evaluate a multiclass classifier\n",
        "\n",
        "Now that we have a set of training features and corresponding training labels, we can fit a multiclass classification algorithm to the data to create a model.\n",
        "\n",
        "`parsnip::multinom_reg()` defines a model that uses linear predictors to predict multiclass data using the multinomial distribution.\n",
        "\n",
        "Let's fit Multinomial regression via [nnet](https://cran.r-project.org/web/packages/nnet/nnet.pdf) package. This model usually has 1 tuning hyperparameter, `penalty`, which describes the amount of regularization. This is used to counteract any bias in the sample, and help the model generalize well by avoiding *overfitting* the model to the training data. We can of course tune this parameter like we will later on in this lesson, but for now, let's choose an arbitrary value of `1`"
      ],
      "metadata": {
        "id": "l9dcmq4VLkRM"
      }
    },
    {
      "cell_type": "code",
      "execution_count": null,
      "source": [
        "# Specify a multinomial regression via nnet\n",
        "multireg_spec <- multinom_reg(penalty = 1) %>% \n",
        "  set_engine(\"nnet\") %>% \n",
        "  set_mode(\"classification\")\n",
        "\n",
        "# Train a multinomial regression model without any preprocessing\n",
        "set.seed(2056)\n",
        "multireg_fit <- multireg_spec %>% \n",
        "  fit(species ~ ., data = penguins_train)\n",
        "\n",
        "# Print the model\n",
        "multireg_fit"
      ],
      "outputs": [],
      "metadata": {
        "id": "4bZA_2P1LxjX"
      }
    },
    {
      "cell_type": "markdown",
      "source": [
        "Now we can use the trained model to predict the labels for the test features, and evaluate performance:"
      ],
      "metadata": {
        "id": "5qb-8MkpL3LN"
      }
    },
    {
      "cell_type": "code",
      "execution_count": null,
      "source": [
        "# Make predictions for the test set\n",
        "penguins_results <- penguins_test %>% select(species) %>% \n",
        "  bind_cols(multireg_fit %>% \n",
        "              predict(new_data = penguins_test)) %>% \n",
        "  bind_cols(multireg_fit %>% \n",
        "              predict(new_data = penguins_test, type = \"prob\"))\n",
        "\n",
        "# Print predictions\n",
        "penguins_results %>% \n",
        "  slice_head(n = 5)"
      ],
      "outputs": [],
      "metadata": {
        "id": "qU9479QwL6Bg"
      }
    },
    {
      "cell_type": "markdown",
      "source": [
        "Now, let's look at the confusion matrix for our model"
      ],
      "metadata": {
        "id": "HH9gpRY5L-A2"
      }
    },
    {
      "cell_type": "code",
      "execution_count": null,
      "source": [
        "# Confusion matrix\n",
        "penguins_results %>% \n",
        "  conf_mat(species, .pred_class)"
      ],
      "outputs": [],
      "metadata": {
        "id": "lO3X7ik1MBjI"
      }
    },
    {
      "cell_type": "markdown",
      "source": [
        "The confusion matrix shows the intersection of predicted and actual label values for each class - in simple terms, the diagonal intersections from top-left to bottom-right indicate the number of correct predictions.\n",
        "\n",
        "When dealing with multiple classes, it's generally more intuitive to visualize this as a heat map, like this:"
      ],
      "metadata": {
        "id": "Aks-VztWMEb9"
      }
    },
    {
      "cell_type": "code",
      "execution_count": null,
      "source": [
        "update_geom_defaults(geom = \"tile\", new = list(color = \"black\", alpha = 0.7))\n",
        "# Visualize confusion matrix\n",
        "penguins_results %>% \n",
        "  conf_mat(species, .pred_class) %>% \n",
        "  autoplot(type = \"heatmap\")"
      ],
      "outputs": [],
      "metadata": {
        "id": "ZRc0td3DMISR"
      }
    },
    {
      "cell_type": "markdown",
      "source": [
        "The darker squares in the confusion matrix plot indicate high numbers of cases, and you can hopefully see a diagonal line of darker squares indicating cases where the predicted and actual label are the same.\n",
        "\n",
        "Let's now calculate summary statistics for the confusion matrix."
      ],
      "metadata": {
        "id": "BXvJJES2MOXv"
      }
    },
    {
      "cell_type": "code",
      "execution_count": null,
      "source": [
        "# Statistical summaries for the confusion matrix\n",
        "conf_mat(data = penguins_results, truth = species, estimate = .pred_class) %>% \n",
        "  summary()"
      ],
      "outputs": [],
      "metadata": {
        "id": "JFF18de7MVSY"
      }
    },
    {
      "cell_type": "markdown",
      "source": [
        "The tibble shows the overall metrics of how well the model performs across all three classes.\n",
        "\n",
        "Let's evaluate the ROC metrics. In the case of a multiclass classification model, a single ROC curve showing true positive rate vs false positive rate is not possible. However, you can use the rates for each class in a One vs Rest (OVR) comparison to create a ROC chart for each class."
      ],
      "metadata": {
        "id": "QNyNi_k2MYxl"
      }
    },
    {
      "cell_type": "code",
      "execution_count": null,
      "source": [
        "# Make a ROC_CURVE\n",
        "penguins_results %>% \n",
        "  roc_curve(species, c(.pred_Adelie, .pred_Chinstrap, .pred_Gentoo)) %>% \n",
        "  ggplot(aes(x = 1 - specificity, y = sensitivity, color = .level)) +\n",
        "  geom_abline(lty = 2, color = \"gray80\", size = 0.9) +\n",
        "  geom_path(show.legend = T, alpha = 0.6, size = 1.2) +\n",
        "  coord_equal()"
      ],
      "outputs": [],
      "metadata": {
        "id": "pKSlXGVmMbuy"
      }
    },
    {
      "cell_type": "markdown",
      "source": [
        "To quantify the ROC performance, you can calculate an aggregate area under the curve score that is averaged across all of the OVR curves."
      ],
      "metadata": {
        "id": "5sqWlX3SMg0N"
      }
    },
    {
      "cell_type": "code",
      "execution_count": null,
      "source": [
        "# Calculate ROC_AOC\n",
        "penguins_results %>% \n",
        "  roc_auc(species, c(.pred_Adelie, .pred_Chinstrap, .pred_Gentoo))"
      ],
      "outputs": [],
      "metadata": {
        "id": "NJ-T9tHMMjsz"
      }
    },
    {
      "cell_type": "markdown",
      "source": [
        "That went down well! The model did a great job in classifying the penguins. What kind of adventure would it be, if we didn't preprocess the data?\n",
        "\n",
        "#### Workflows + A different algorithm\n",
        "\n",
        "Again, just like with binary classification, you can use a workflow to apply preprocessing steps to the data before fitting it to an algorithm to train a model. Let's scale the numeric features in a transformation step before training, try a different algorithm (a support vector machine) and tune some model hyperparameters, just to show that we can!\n",
        "\n",
        "`Support Vector Machines` try to find a *hyperplane* in some feature space that \"best\" separates the classes. Please see:\n",
        "\n",
        "-   [*Support Vector Machines*](https://bradleyboehmke.github.io/HOML/svm.html), Hands-on Machine Learning with R\n",
        "\n",
        "-   *Support Vector Machines*, [An Introduction to Statistical Learning with Applications in R](https://www.statlearning.com/)\n",
        "\n",
        "-   [Support Vector Machines under the hood](https://towardsdatascience.com/support-vector-machines-under-the-hood-c609e57a4b09)\n",
        "\n",
        "-   [SVM kernels](https://scikit-learn.org/stable/auto_examples/svm/plot_svm_kernels.html), Scikit learn\n",
        "\n",
        "We'll fit a `radial basis function` support vector machine to these data and tune the `SVM cost parameter` and the `σ parameter` in the kernel function (The margin parameter does not apply to classification models)\n",
        "\n",
        "-   A cost argument allows us to specify the cost of a violation to the margin. When the cost argument is small, then the margins will be wide and many support vectors will be on the margin or will violate the margin. This *could* make the model more robust and lead to better classification. When the cost argument is large, then the margins will be narrow and there will be few support vectors on the margin or violating the margin.\n",
        "\n",
        "-   As `σ` decreases, the fit becomes more non-linear, and the model *becomes* more flexible.\n",
        "\n",
        "Both parameters can have a profound effect on the model complexity and performance.\n",
        "\n",
        "> The radial basis kernel is extremely flexible and as a rule of thumb, we generally start with this kernel when fitting SVMs in practice.\n",
        "\n",
        "Parameters are marked for tuning by assigning them a value of `tune()`. Also, let's try out a new succinct way of creating workflows that minimizes a lot of piping steps as suggested by [David's blog post](http://varianceexplained.org/r/sliced-ml/) (winner of [sliced](https://mobile.twitter.com/meganrisdal/status/1428039365008060424)!!)\n"
      ],
      "metadata": {
        "id": "Rm6ZfLNxMwGN"
      }
    },
    {
      "cell_type": "code",
      "execution_count": null,
      "source": [
        "# Create a model specification\n",
        "svm_spec <- svm_rbf(mode = \"classification\", engine = \"kernlab\",\n",
        "            cost = tune(), rbf_sigma = tune())\n",
        "\n",
        "\n",
        "# Create a workflow that encapsulates a recipe and a model\n",
        "svm_wflow <- recipe(species ~ ., data = penguins_train) %>% \n",
        "  step_normalize(all_numeric_predictors()) %>% \n",
        "  workflow(svm_spec)\n",
        "\n",
        "# Print out workflow\n",
        "svm_wflow"
      ],
      "outputs": [],
      "metadata": {
        "id": "eMjPwezjMyAA"
      }
    },
    {
      "cell_type": "markdown",
      "source": [
        "Pretty neat, right ✨?\n",
        "\n",
        "Now that we have specified what parameter to tune, we'll need to figure out a set of possible values to try out then choose the best.\n",
        "\n",
        "To do this, we'll create a grid! In this example, we'll work through a regular grid of hyperparameter values, try them out, and see what pair results in the best model performance."
      ],
      "metadata": {
        "id": "lHca5AUkM35j"
      }
    },
    {
      "cell_type": "code",
      "execution_count": null,
      "source": [
        "set.seed(2056)\r\n",
        "# Create regular grid of 6 values for each tuning parameters\r\n",
        "svm_grid <- grid_regular(parameters(svm_spec), levels = 6)\r\n",
        "\r\n",
        "# Print out some parameters in our grid\r\n",
        "svm_grid %>% \r\n",
        "  slice_head(n = 10)"
      ],
      "outputs": [],
      "metadata": {
        "id": "fi0x7f15M794"
      }
    },
    {
      "cell_type": "markdown",
      "source": [
        "Awesome! One thing about hyperparameters is that they are not learned directly from the training set. Instead, they are estimated using `simulated data sets` created from a process called `resampling`. In our previous, we used `cross-validation` resampling method. Let's try out another resampling technique: `bootstrap resampling`.\n",
        "\n",
        "Bootstrap resampling means drawing with `replacement` from our original dataset then then fit a model on that new set that `contains some duplicates`, and evaluate the model on the `data points that were not included`.\n",
        "\n",
        "Then we do that again (default behaviour is 25 boostraps but this can be changed). Okay, let's create some simulated data sets.\n"
      ],
      "metadata": {
        "id": "99TclPqsM_MP"
      }
    },
    {
      "cell_type": "code",
      "execution_count": null,
      "source": [
        "set.seed(2056)\r\n",
        "# Bootstrap resampling\r\n",
        "penguins_bs <- bootstraps(penguins_train, times = 10)\r\n",
        "\r\n",
        "# penguins_bs"
      ],
      "outputs": [],
      "metadata": {
        "id": "EiwttNdfNdXO"
      }
    },
    {
      "cell_type": "markdown",
      "source": [
        "#### Model tuning via grid search.\n",
        "\n",
        "We are ready to tune! Let's use [`tune_grid()`](https://tune.tidymodels.org/reference/tune_grid.html) to fit models at all the different values we chose for each tuned hyperparameter."
      ],
      "metadata": {
        "id": "eWCa2IjxNg65"
      }
    },
    {
      "cell_type": "code",
      "execution_count": null,
      "source": [
        "doParallel::registerDoParallel()\r\n",
        "\r\n",
        "# Model tuning via a grid search\r\n",
        "set.seed(2056)\r\n",
        "svm_res <- tune_grid(\r\n",
        "  object = svm_wflow,\r\n",
        "  resamples = penguins_bs,\r\n",
        "  grid = svm_grid\r\n",
        ")"
      ],
      "outputs": [],
      "metadata": {
        "id": "CkY8TnMNNkgS"
      }
    },
    {
      "cell_type": "markdown",
      "source": [
        "Now that we have our tuning results, we can extract the performance metrics using `collect_metrics()`:"
      ],
      "metadata": {
        "id": "kSiKQuuENzSL"
      }
    },
    {
      "cell_type": "code",
      "execution_count": null,
      "source": [
        "# Obtain performance metrics\n",
        "svm_res %>% \n",
        "  collect_metrics() %>% \n",
        "  slice_head(n = 7)"
      ],
      "outputs": [],
      "metadata": {
        "id": "a5F26_s6N272"
      }
    },
    {
      "cell_type": "markdown",
      "source": [
        "🤩 Let's see if we could get more by visualizing the results:"
      ],
      "metadata": {
        "id": "E5vFpNA2N5Gv"
      }
    },
    {
      "cell_type": "code",
      "execution_count": null,
      "source": [
        "# Visualize tuning metrics\n",
        "svm_res %>% \n",
        "  collect_metrics() %>% \n",
        "  mutate(rbf_sigma = factor(rbf_sigma)) %>% \n",
        "  ggplot(mapping = aes(x = cost, y = mean, color = rbf_sigma)) +\n",
        "  geom_line(size = 1.5, alpha = 0.7) +\n",
        "  geom_point(size = 2) +\n",
        "  facet_wrap(~.metric, scales = \"free\", nrow = 2) +\n",
        "  scale_x_log10(labels = scales::label_number()) +\n",
        "  scale_color_viridis_d(option = \"viridis\", begin = .1)"
      ],
      "outputs": [],
      "metadata": {
        "id": "jGPjYYJwN9MQ"
      }
    },
    {
      "cell_type": "markdown",
      "source": [
        "It seems that an SVM with an rbf_sigma of 1 and 0.01 really performed well across all candidate values of cost. The [`show_best()`](https://tune.tidymodels.org/reference/show_best.html) function can help us make a clearer distinction:"
      ],
      "metadata": {
        "id": "keqC_TgNOCth"
      }
    },
    {
      "cell_type": "code",
      "execution_count": null,
      "source": [
        "# Show best submodel \n",
        "svm_res %>% \n",
        "  show_best(\"accuracy\")\n"
      ],
      "outputs": [],
      "metadata": {
        "id": "PMTflBrCOHSp"
      }
    },
    {
      "cell_type": "markdown",
      "source": [
        "Much better! Let's now use the [`select_best()`](https://tune.tidymodels.org/reference/show_best.html) function to pull out the single set of hyperparameter values in the best sub-model:"
      ],
      "metadata": {
        "id": "REAYQ1NjOKkb"
      }
    },
    {
      "cell_type": "code",
      "execution_count": null,
      "source": [
        "# Select best model hyperparameters\n",
        "best_svm <- svm_res %>% \n",
        "  select_best(\"accuracy\")\n",
        "\n",
        "best_svm"
      ],
      "outputs": [],
      "metadata": {
        "id": "e-R374D0OQJN"
      }
    },
    {
      "cell_type": "markdown",
      "source": [
        "Perfect! These are the values for `rbf_sigma` and `cost` that maximize accuracy for our penguins!\n",
        "\n",
        "We can now `finalize` our workflow such that the parameters we had marked for tuning by assigning them a value of `tune()` can get updated with the values from `best_svm`"
      ],
      "metadata": {
        "id": "5Jo4OHfoOYTR"
      }
    },
    {
      "cell_type": "code",
      "execution_count": null,
      "source": [
        "# Finalize workflow\n",
        "final_wflow <- svm_wflow %>% \n",
        "  finalize_workflow(best_svm)\n",
        "\n",
        "final_wflow"
      ],
      "outputs": [],
      "metadata": {
        "id": "k3pS71ssOb3F"
      }
    },
    {
      "cell_type": "markdown",
      "source": [
        "That marks the end of tuning 💃!\n",
        "\n",
        "#### The last fit\n",
        "\n",
        "Finally, let's fit this final model to the training data and evaluate how it would perform on new data using our test data. We can use the function [`last_fit()`](https://tune.tidymodels.org/reference/last_fit.html) with our finalized model; this function *fits* the finalized model on the full training data set and *evaluates* it on the testing data."
      ],
      "metadata": {
        "id": "7RVNm5u6OfMQ"
      }
    },
    {
      "cell_type": "code",
      "execution_count": null,
      "source": [
        "# The last fit\n",
        "final_fit <- last_fit(object = final_wflow, split = penguins_split)\n",
        "\n",
        "# Collect metrics\n",
        "final_fit %>% \n",
        "  collect_metrics()"
      ],
      "outputs": [],
      "metadata": {
        "id": "P-XYTHBhOjxv"
      }
    },
    {
      "cell_type": "markdown",
      "source": [
        "Much better 🤩! You can of course go ahead and obtain the hard class and probability predictions using `collect predictions()` and you will be well on your way to computing the confusion matrix and other summaries that come with it."
      ],
      "metadata": {
        "id": "gDZskkBbOosG"
      }
    },
    {
      "cell_type": "code",
      "execution_count": null,
      "source": [
        "# Collect predictions and make confusion matrix\n",
        "final_fit %>% \n",
        "  collect_predictions() %>% \n",
        "  conf_mat(truth = species, estimate = .pred_class)"
      ],
      "outputs": [],
      "metadata": {
        "id": "jeVt12HOOxZi"
      }
    },
    {
      "cell_type": "markdown",
      "source": [
        "#### Use the model with new data observations\n",
        "\n",
        "Now let's save our trained model so we can use it again later. Begin by extracting the *trained workflow* object from `final_fit` object."
      ],
      "metadata": {
        "id": "fNbY72nHO1Sf"
      }
    },
    {
      "cell_type": "code",
      "execution_count": null,
      "source": [
        "# Extract trained workflow\n",
        "penguins_svm_model <- final_fit %>% \n",
        "  extract_workflow()\n",
        "\n",
        "# Save workflow\n",
        "saveRDS(penguins_svm_model, \"penguins_svm_model.rds\")"
      ],
      "outputs": [],
      "metadata": {
        "id": "xMTm5oIwO5Dy"
      }
    },
    {
      "cell_type": "markdown",
      "source": [
        "OK, so now we have a trained model. Let's use it to predict the class of a new penguin observation:"
      ],
      "metadata": {
        "id": "Z0gHqQV_PAlU"
      }
    },
    {
      "cell_type": "code",
      "execution_count": null,
      "source": [
        "# Load model\n",
        "loaded_psvm_model <- readRDS(\"penguins_svm_model.rds\") \n",
        "\n",
        "# Create new tibble of observations\n",
        "new_obs <- tibble(\n",
        "  bill_length_mm = c(49.5, 38.2),\n",
        "  bill_depth_mm = c(18.4, 20.1),\n",
        "  flipper_length_mm = c(195, 190),\n",
        "  body_mass_g = c(3600, 3900))\n",
        "\n",
        "# Make predictions\n",
        "new_results <- new_obs %>% \n",
        "  bind_cols(loaded_psvm_model %>% \n",
        "              predict(new_data = new_obs))\n",
        "\n",
        "# Show predictions\n",
        "new_results"
      ],
      "outputs": [],
      "metadata": {
        "id": "XCB5yPr1PDK3"
      }
    },
    {
      "cell_type": "markdown",
      "source": [
        "Good job! A working model 🐧🐧!\n",
        "\n",
        "## 7. Summary\n",
        "\n",
        "We need to *chill*, right? 😅 We hope you had a flippin' good time!\n",
        "\n",
        "In this module, you learned how classification can be used to create a machine learning model that predicts categories, or *classes*. You then used the amazing **Tidymodels** framework in `R` to train and evaluate a classification model using different algorithms, do some data preprocessing, tuned some hyperparameters and made better predictions.\n",
        "\n",
        "While `Tidymodels` and `scikit-learn` (Python) are popular framework for writing code to train classification models, you can also create machine learning solutions for classification using the graphical tools in Microsoft Azure Machine Learning. You can learn more about no-code development of classification models using Azure Machine Learning in [Create a classification model with Azure Machine Learning designer](https://docs.microsoft.com/en-us/learn/modules/create-classification-model-azure-machine-learning-designer/) module.\n",
        "\n",
        "#### **Challenge: Predict Real Estate Prices**\n",
        "\n",
        "Feel like challenging yourself to train a classification model? Try the challenge in the [/challenges/03 - Wine Classification Challenge.ipynb](https://github.com/MicrosoftDocs/ml-basics/blob/master/challenges/03%20-%20Wine%20Classification%20Challenge.ipynb) notebook to see if you can classify wines into their grape varietals! Find the data [here](https://github.com/MicrosoftDocs/ml-basics/tree/master/challenges/data).\n",
        "\n",
        "#### THANK YOU TO:\n",
        "\n",
        "`Allison Horst` for creating the amazing illustrations that make R more welcoming and engaging. Find more illustrations at her [gallery](https://www.google.com/url?q=https://github.com/allisonhorst/stats-illustrations&sa=D&source=editors&ust=1626380772530000&usg=AOvVaw3zcfyCizFQZpkSLzxiiQEM).\n",
        "\n",
        "`Bethany`, *Gold Microsoft Learn Student Ambassador*, for her valuable feedback and suggestions.\n",
        "\n",
        "#### FURTHER READING\n",
        "\n",
        "-   Gareth James, Daniela Witten, Trevor Hastie, Robert Tibshirani. [*An introduction to statistical learning : with applications in R*](https://www.statlearning.com/)*.* Corresponding Tidymodels labs by Emil Hvitfeldt can be found [*here*](https://emilhvitfeldt.github.io/ISLR-tidymodels-labs/index.html)*.*\n",
        "\n",
        "-   Max Kuhn and Julia Silge, [*Tidy Modeling with R*](https://www.tmwr.org/)*.*\n",
        "\n",
        "-   Kuhn, M, and K Johnson. 2013. *Applied Predictive Modeling*. Springer.\n",
        "\n",
        "-   Bradley Boehmke & Brandon Greenwell, [*Hands-On Machine Learning with R*](https://bradleyboehmke.github.io/HOML/)*.*\n",
        "\n",
        "-   Jorge Cimentada, [*Machine Learning for Social Scientists*](https://cimentadaj.github.io/ml_socsci/)*.*\n",
        "\n",
        "-   Tidymodels [reference website](https://www.tidymodels.org/start/).\n",
        "\n",
        "-   H. Wickham and G. Grolemund, [*R for Data Science: Visualize, Model, Transform, Tidy, and Import Data*](https://r4ds.had.co.nz/).\n",
        "\n",
        "Happy leaRning,\n",
        "\n",
        "[Eric (R_ic)](https://twitter.com/ericntay), *Gold Microsoft Learn Student Ambassador*."
      ],
      "metadata": {
        "id": "QtpkAPQ2P0KU"
      }
    }
  ]
}